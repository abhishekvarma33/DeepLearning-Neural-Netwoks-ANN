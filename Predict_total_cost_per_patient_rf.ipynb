{
  "nbformat": 4,
  "nbformat_minor": 0,
  "metadata": {
    "colab": {
      "provenance": [],
      "authorship_tag": "ABX9TyNHAa1yUYWYxKoTRoFA98s0",
      "include_colab_link": true
    },
    "kernelspec": {
      "name": "ir",
      "display_name": "R"
    },
    "language_info": {
      "name": "R"
    }
  },
  "cells": [
    {
      "cell_type": "markdown",
      "metadata": {
        "id": "view-in-github",
        "colab_type": "text"
      },
      "source": [
        "<a href=\"https://colab.research.google.com/github/abhishekvarma33/DeepLearning-Neural-Netwoks-ANN/blob/master/Predict_total_cost_per_patient_rf.ipynb\" target=\"_parent\"><img src=\"https://colab.research.google.com/assets/colab-badge.svg\" alt=\"Open In Colab\"/></a>"
      ]
    },
    {
      "cell_type": "markdown",
      "source": [
        "This Notebook includes\n",
        "**1) Packages Installation for R ,\n",
        "2) Load Libraries ,\n",
        "3) Data Preparation and EDA ,\n",
        "4) Data Preprocessing ,\n",
        "5) Feature Engineering\n",
        "6) Model Selection and Training\n",
        "7) Evaluation and model improvement ,\n",
        "8) Final Prediction, Insights and Results**\n",
        "\n",
        "\n"
      ],
      "metadata": {
        "id": "vn_qtSu4T1Ne"
      }
    },
    {
      "cell_type": "markdown",
      "source": [
        "#1) Package Installation"
      ],
      "metadata": {
        "id": "688WoTQJUsSm"
      }
    },
    {
      "cell_type": "code",
      "source": [],
      "metadata": {
        "id": "Da0DWgOa3Vkz"
      },
      "execution_count": null,
      "outputs": []
    },
    {
      "cell_type": "code",
      "execution_count": 24,
      "metadata": {
        "colab": {
          "base_uri": "https://localhost:8080/"
        },
        "id": "MyldqWm1T2cC",
        "outputId": "e9847556-4a69-472f-f0c5-93fd969f0a9e"
      },
      "outputs": [
        {
          "output_type": "stream",
          "name": "stderr",
          "text": [
            "Installing package into ‘/usr/local/lib/R/site-library’\n",
            "(as ‘lib’ is unspecified)\n",
            "\n"
          ]
        }
      ],
      "source": [
        "install.packages('IRkernel')\n",
        "IRkernel::installspec(user = FALSE)"
      ]
    },
    {
      "cell_type": "code",
      "source": [
        "install.packages(c('forecast', 'tseries'))\n",
        "install.packages(\"ggplot2\")\n",
        "library(forecast)\n",
        "library(ggplot2)\n",
        "install.packages(\"caret\")\n",
        "\n",
        "# Install and load the IRdisplay package if not already installed\n",
        "install.packages(\"IRdisplay\")\n",
        "library(IRdisplay)\n",
        "\n",
        "install.packages(\"randomForest\")\n",
        "library(randomForest)\n"
      ],
      "metadata": {
        "colab": {
          "base_uri": "https://localhost:8080/"
        },
        "id": "-IhLiXD4UtRn",
        "outputId": "55621a03-7606-4cce-e160-17111d35d8fd"
      },
      "execution_count": 25,
      "outputs": [
        {
          "output_type": "stream",
          "name": "stderr",
          "text": [
            "Installing packages into ‘/usr/local/lib/R/site-library’\n",
            "(as ‘lib’ is unspecified)\n",
            "\n",
            "Installing package into ‘/usr/local/lib/R/site-library’\n",
            "(as ‘lib’ is unspecified)\n",
            "\n",
            "Installing package into ‘/usr/local/lib/R/site-library’\n",
            "(as ‘lib’ is unspecified)\n",
            "\n",
            "Installing package into ‘/usr/local/lib/R/site-library’\n",
            "(as ‘lib’ is unspecified)\n",
            "\n",
            "Installing package into ‘/usr/local/lib/R/site-library’\n",
            "(as ‘lib’ is unspecified)\n",
            "\n"
          ]
        }
      ]
    },
    {
      "cell_type": "code",
      "source": [
        "# Load necessary libraries\n",
        "\n",
        "library(tidyverse)\n",
        "library(lubridate)\n",
        "library(readr)\n"
      ],
      "metadata": {
        "id": "yDhZBTIBUziA"
      },
      "execution_count": 26,
      "outputs": []
    },
    {
      "cell_type": "markdown",
      "source": [
        "Upload CSV files and load into dataframe"
      ],
      "metadata": {
        "id": "OCC8pHmaVZuc"
      }
    },
    {
      "cell_type": "code",
      "source": [
        "# Specify the path to the uploaded CSV file\n",
        "csv_path <- \"/bill_amount.csv\"  # Update with the actual path\n",
        "\n",
        "# Read the CSV file into a data frame\n",
        "data_bill_amount <- read_csv(csv_path)"
      ],
      "metadata": {
        "id": "ZM_jlgcdWfBm",
        "colab": {
          "base_uri": "https://localhost:8080/"
        },
        "outputId": "20d8a430-ceaa-40a3-c0cf-3479e71195a3"
      },
      "execution_count": 27,
      "outputs": [
        {
          "output_type": "stream",
          "name": "stderr",
          "text": [
            "\u001b[1mRows: \u001b[22m\u001b[34m13600\u001b[39m \u001b[1mColumns: \u001b[22m\u001b[34m2\u001b[39m\n",
            "\u001b[36m──\u001b[39m \u001b[1mColumn specification\u001b[22m \u001b[36m────────────────────────────────────────────────────────\u001b[39m\n",
            "\u001b[1mDelimiter:\u001b[22m \",\"\n",
            "\u001b[32mdbl\u001b[39m (2): bill_id, amount\n",
            "\n",
            "\u001b[36mℹ\u001b[39m Use `spec()` to retrieve the full column specification for this data.\n",
            "\u001b[36mℹ\u001b[39m Specify the column types or set `show_col_types = FALSE` to quiet this message.\n"
          ]
        }
      ]
    },
    {
      "cell_type": "code",
      "source": [
        "csv_path <- \"/bill_id.csv\"  # Update with the actual path\n",
        "\n",
        "# Read the CSV file into a data frame\n",
        "data_bill_id <- read_csv(csv_path)"
      ],
      "metadata": {
        "id": "hqteOjz0WfEO",
        "colab": {
          "base_uri": "https://localhost:8080/"
        },
        "outputId": "b59ae4da-5baa-489b-f47e-d4a3add6dd61"
      },
      "execution_count": 28,
      "outputs": [
        {
          "output_type": "stream",
          "name": "stderr",
          "text": [
            "\u001b[1mRows: \u001b[22m\u001b[34m13600\u001b[39m \u001b[1mColumns: \u001b[22m\u001b[34m3\u001b[39m\n",
            "\u001b[36m──\u001b[39m \u001b[1mColumn specification\u001b[22m \u001b[36m────────────────────────────────────────────────────────\u001b[39m\n",
            "\u001b[1mDelimiter:\u001b[22m \",\"\n",
            "\u001b[31mchr\u001b[39m  (1): patient_id\n",
            "\u001b[32mdbl\u001b[39m  (1): bill_id\n",
            "\u001b[34mdate\u001b[39m (1): date_of_admission\n",
            "\n",
            "\u001b[36mℹ\u001b[39m Use `spec()` to retrieve the full column specification for this data.\n",
            "\u001b[36mℹ\u001b[39m Specify the column types or set `show_col_types = FALSE` to quiet this message.\n"
          ]
        }
      ]
    },
    {
      "cell_type": "code",
      "source": [
        "csv_path <- \"/clinical_data.csv\"  # Update with the actual path\n",
        "\n",
        "# Read the CSV file into a data frame\n",
        "data_clinical <- read_csv(csv_path)"
      ],
      "metadata": {
        "id": "YD9mKomvWfGt",
        "colab": {
          "base_uri": "https://localhost:8080/"
        },
        "outputId": "a360c1d1-f2a6-40a2-9628-35064870e276"
      },
      "execution_count": 29,
      "outputs": [
        {
          "output_type": "stream",
          "name": "stderr",
          "text": [
            "\u001b[1mRows: \u001b[22m\u001b[34m3400\u001b[39m \u001b[1mColumns: \u001b[22m\u001b[34m26\u001b[39m\n",
            "\u001b[36m──\u001b[39m \u001b[1mColumn specification\u001b[22m \u001b[36m────────────────────────────────────────────────────────\u001b[39m\n",
            "\u001b[1mDelimiter:\u001b[22m \",\"\n",
            "\u001b[31mchr\u001b[39m   (2): id, medical_history_3\n",
            "\u001b[32mdbl\u001b[39m  (22): medical_history_1, medical_history_2, medical_history_4, medical_...\n",
            "\u001b[34mdate\u001b[39m  (2): date_of_admission, date_of_discharge\n",
            "\n",
            "\u001b[36mℹ\u001b[39m Use `spec()` to retrieve the full column specification for this data.\n",
            "\u001b[36mℹ\u001b[39m Specify the column types or set `show_col_types = FALSE` to quiet this message.\n"
          ]
        }
      ]
    },
    {
      "cell_type": "code",
      "source": [
        "csv_path <- \"/demographics.csv\"  # Update with the actual path\n",
        "\n",
        "# Read the CSV file into a data frame\n",
        "data_demographics <- read_csv(csv_path)"
      ],
      "metadata": {
        "id": "nMIhhWzdYLxR",
        "colab": {
          "base_uri": "https://localhost:8080/"
        },
        "outputId": "f86fc5ea-a2e6-4e12-a735-6003207294a4"
      },
      "execution_count": 30,
      "outputs": [
        {
          "output_type": "stream",
          "name": "stderr",
          "text": [
            "\u001b[1mRows: \u001b[22m\u001b[34m3000\u001b[39m \u001b[1mColumns: \u001b[22m\u001b[34m5\u001b[39m\n",
            "\u001b[36m──\u001b[39m \u001b[1mColumn specification\u001b[22m \u001b[36m────────────────────────────────────────────────────────\u001b[39m\n",
            "\u001b[1mDelimiter:\u001b[22m \",\"\n",
            "\u001b[31mchr\u001b[39m  (4): patient_id, gender, race, resident_status\n",
            "\u001b[34mdate\u001b[39m (1): date_of_birth\n",
            "\n",
            "\u001b[36mℹ\u001b[39m Use `spec()` to retrieve the full column specification for this data.\n",
            "\u001b[36mℹ\u001b[39m Specify the column types or set `show_col_types = FALSE` to quiet this message.\n"
          ]
        }
      ]
    },
    {
      "cell_type": "markdown",
      "source": [
        "Statistics of each dataset"
      ],
      "metadata": {
        "id": "1ors38cOsCId"
      }
    },
    {
      "cell_type": "code",
      "source": [
        "summary(data_bill_id)"
      ],
      "metadata": {
        "id": "pNUhCSL3YLz8",
        "colab": {
          "base_uri": "https://localhost:8080/",
          "height": 138
        },
        "outputId": "31ef4224-0067-4f15-8517-4d5116d37208"
      },
      "execution_count": 31,
      "outputs": [
        {
          "output_type": "display_data",
          "data": {
            "text/plain": [
              "    bill_id           patient_id        date_of_admission   \n",
              " Min.   :5.584e+05   Length:13600       Min.   :2011-01-01  \n",
              " 1st Qu.:2.486e+09   Class :character   1st Qu.:2012-03-27  \n",
              " Median :4.993e+09   Mode  :character   Median :2013-07-10  \n",
              " Mean   :5.007e+09                      Mean   :2013-07-02  \n",
              " 3rd Qu.:7.525e+09                      3rd Qu.:2014-09-24  \n",
              " Max.   :1.000e+10                      Max.   :2015-12-28  "
            ]
          },
          "metadata": {}
        }
      ]
    },
    {
      "cell_type": "code",
      "source": [
        "summary(data_bill_amount)"
      ],
      "metadata": {
        "id": "eAR8XjhDsAv0",
        "colab": {
          "base_uri": "https://localhost:8080/",
          "height": 138
        },
        "outputId": "aff211a3-d3a2-4fd3-dc8d-2e035a10f171"
      },
      "execution_count": 32,
      "outputs": [
        {
          "output_type": "display_data",
          "data": {
            "text/plain": [
              "    bill_id              amount       \n",
              " Min.   :5.584e+05   Min.   :   79.5  \n",
              " 1st Qu.:2.486e+09   1st Qu.:  950.7  \n",
              " Median :4.993e+09   Median : 1517.0  \n",
              " Mean   :5.007e+09   Mean   : 5464.8  \n",
              " 3rd Qu.:7.525e+09   3rd Qu.: 7307.1  \n",
              " Max.   :1.000e+10   Max.   :81849.8  "
            ]
          },
          "metadata": {}
        }
      ]
    },
    {
      "cell_type": "code",
      "source": [
        "summary(data_clinical)"
      ],
      "metadata": {
        "id": "U-QDWipTYL44",
        "colab": {
          "base_uri": "https://localhost:8080/",
          "height": 989
        },
        "outputId": "fc86a435-ebd8-44f9-a302-eaaee716e7fb"
      },
      "execution_count": 33,
      "outputs": [
        {
          "output_type": "display_data",
          "data": {
            "text/plain": [
              "      id            date_of_admission    date_of_discharge    medical_history_1\n",
              " Length:3400        Min.   :2011-01-01   Min.   :2011-01-11   Min.   :0.0000   \n",
              " Class :character   1st Qu.:2012-03-27   1st Qu.:2012-04-08   1st Qu.:0.0000   \n",
              " Mode  :character   Median :2013-07-10   Median :2013-07-21   Median :0.0000   \n",
              "                    Mean   :2013-07-02   Mean   :2013-07-13   Mean   :0.1691   \n",
              "                    3rd Qu.:2014-09-24   3rd Qu.:2014-10-04   3rd Qu.:0.0000   \n",
              "                    Max.   :2015-12-28   Max.   :2016-01-11   Max.   :1.0000   \n",
              "                                                                               \n",
              " medical_history_2 medical_history_3  medical_history_4 medical_history_5\n",
              " Min.   :0.0000    Length:3400        Min.   :0.00000   Min.   :0.00000  \n",
              " 1st Qu.:0.0000    Class :character   1st Qu.:0.00000   1st Qu.:0.00000  \n",
              " Median :0.0000    Mode  :character   Median :0.00000   Median :0.00000  \n",
              " Mean   :0.3113                       Mean   :0.05206   Mean   :0.06395  \n",
              " 3rd Qu.:1.0000                       3rd Qu.:0.00000   3rd Qu.:0.00000  \n",
              " Max.   :1.0000                       Max.   :1.00000   Max.   :1.00000  \n",
              " NA's   :233                                            NA's   :304      \n",
              " medical_history_6 medical_history_7 preop_medication_1 preop_medication_2\n",
              " Min.   :0.0000    Min.   :0.0000    Min.   :0.0000     Min.   :0.0000    \n",
              " 1st Qu.:0.0000    1st Qu.:0.0000    1st Qu.:0.0000     1st Qu.:0.0000    \n",
              " Median :0.0000    Median :0.0000    Median :1.0000     Median :1.0000    \n",
              " Mean   :0.2547    Mean   :0.2544    Mean   :0.5038     Mean   :0.5912    \n",
              " 3rd Qu.:1.0000    3rd Qu.:1.0000    3rd Qu.:1.0000     3rd Qu.:1.0000    \n",
              " Max.   :1.0000    Max.   :1.0000    Max.   :1.0000     Max.   :1.0000    \n",
              "                                                                          \n",
              " preop_medication_3 preop_medication_4 preop_medication_5 preop_medication_6\n",
              " Min.   :0.0000     Min.   :0.0000     Min.   :0.0000     Min.   :0.0000    \n",
              " 1st Qu.:1.0000     1st Qu.:0.0000     1st Qu.:1.0000     1st Qu.:0.0000    \n",
              " Median :1.0000     Median :1.0000     Median :1.0000     Median :1.0000    \n",
              " Mean   :0.8209     Mean   :0.5232     Mean   :0.8197     Mean   :0.7441    \n",
              " 3rd Qu.:1.0000     3rd Qu.:1.0000     3rd Qu.:1.0000     3rd Qu.:1.0000    \n",
              " Max.   :1.0000     Max.   :1.0000     Max.   :1.0000     Max.   :1.0000    \n",
              "                                                                            \n",
              "   symptom_1        symptom_2        symptom_3        symptom_4     \n",
              " Min.   :0.0000   Min.   :0.0000   Min.   :0.0000   Min.   :0.0000  \n",
              " 1st Qu.:0.0000   1st Qu.:0.0000   1st Qu.:0.0000   1st Qu.:0.0000  \n",
              " Median :1.0000   Median :1.0000   Median :1.0000   Median :1.0000  \n",
              " Mean   :0.6197   Mean   :0.6624   Mean   :0.5447   Mean   :0.7265  \n",
              " 3rd Qu.:1.0000   3rd Qu.:1.0000   3rd Qu.:1.0000   3rd Qu.:1.0000  \n",
              " Max.   :1.0000   Max.   :1.0000   Max.   :1.0000   Max.   :1.0000  \n",
              "                                                                    \n",
              "   symptom_5       lab_result_1    lab_result_2    lab_result_3   \n",
              " Min.   :0.0000   Min.   : 9.10   Min.   :19.70   Min.   : 52.00  \n",
              " 1st Qu.:0.0000   1st Qu.:13.20   1st Qu.:25.80   1st Qu.: 88.00  \n",
              " Median :1.0000   Median :14.50   Median :27.40   Median :100.00  \n",
              " Mean   :0.5268   Mean   :14.47   Mean   :27.43   Mean   : 99.49  \n",
              " 3rd Qu.:1.0000   3rd Qu.:15.80   3rd Qu.:29.10   3rd Qu.:110.00  \n",
              " Max.   :1.0000   Max.   :20.30   Max.   :35.10   Max.   :150.00  \n",
              "                                                                  \n",
              "     weight           height     \n",
              " Min.   : 48.00   Min.   :151.0  \n",
              " 1st Qu.: 71.20   1st Qu.:160.0  \n",
              " Median : 78.90   Median :165.0  \n",
              " Mean   : 78.75   Mean   :165.1  \n",
              " 3rd Qu.: 86.30   3rd Qu.:170.0  \n",
              " Max.   :121.00   Max.   :186.0  \n",
              "                                 "
            ]
          },
          "metadata": {}
        }
      ]
    },
    {
      "cell_type": "code",
      "source": [
        "summary(data_demographics)"
      ],
      "metadata": {
        "id": "SMhcTr9KYL7f",
        "colab": {
          "base_uri": "https://localhost:8080/",
          "height": 260
        },
        "outputId": "9df549d4-9b53-4055-96cb-a2f1eefc5c47"
      },
      "execution_count": 34,
      "outputs": [
        {
          "output_type": "display_data",
          "data": {
            "text/plain": [
              "  patient_id           gender              race           resident_status   \n",
              " Length:3000        Length:3000        Length:3000        Length:3000       \n",
              " Class :character   Class :character   Class :character   Class :character  \n",
              " Mode  :character   Mode  :character   Mode  :character   Mode  :character  \n",
              "                                                                            \n",
              "                                                                            \n",
              "                                                                            \n",
              " date_of_birth       \n",
              " Min.   :1930-01-20  \n",
              " 1st Qu.:1948-07-08  \n",
              " Median :1962-10-27  \n",
              " Mean   :1961-01-01  \n",
              " 3rd Qu.:1973-09-09  \n",
              " Max.   :1990-12-15  "
            ]
          },
          "metadata": {}
        }
      ]
    },
    {
      "cell_type": "markdown",
      "source": [
        "#Data Preparation\n",
        "Vaidating Duplicates,\n",
        "Outlier detection,\n",
        "joining all datasets together using appropriate join condition"
      ],
      "metadata": {
        "id": "u9lpZJepVoNv"
      }
    },
    {
      "cell_type": "code",
      "source": [
        "# Check for duplicates in the entire data_bill_amount data frame\n",
        "duplicates <- duplicated(data_bill_amount$bill_id)\n",
        "\n",
        "# Display the rows with duplicates\n",
        "data_bill_amount[duplicates, ]"
      ],
      "metadata": {
        "id": "LeNrqgJvYL9x",
        "colab": {
          "base_uri": "https://localhost:8080/",
          "height": 98
        },
        "outputId": "c84ab41f-73b4-4f4d-9e32-78ec121b7576"
      },
      "execution_count": 35,
      "outputs": [
        {
          "output_type": "display_data",
          "data": {
            "text/html": [
              "<table class=\"dataframe\">\n",
              "<caption>A tibble: 0 × 2</caption>\n",
              "<thead>\n",
              "\t<tr><th scope=col>bill_id</th><th scope=col>amount</th></tr>\n",
              "\t<tr><th scope=col>&lt;dbl&gt;</th><th scope=col>&lt;dbl&gt;</th></tr>\n",
              "</thead>\n",
              "<tbody>\n",
              "</tbody>\n",
              "</table>\n"
            ],
            "text/markdown": "\nA tibble: 0 × 2\n\n| bill_id &lt;dbl&gt; | amount &lt;dbl&gt; |\n|---|---|\n\n",
            "text/latex": "A tibble: 0 × 2\n\\begin{tabular}{ll}\n bill\\_id & amount\\\\\n <dbl> & <dbl>\\\\\n\\hline\n\\end{tabular}\n",
            "text/plain": [
              "     bill_id amount"
            ]
          },
          "metadata": {}
        }
      ]
    },
    {
      "cell_type": "code",
      "source": [
        "# Check for duplicates in the entire data_bill_amount data frame\n",
        "duplicates <- duplicated(data_bill_id$bill_id)\n",
        "\n",
        "# Display the rows with duplicates\n",
        "data_bill_id[duplicates, ]"
      ],
      "metadata": {
        "id": "1D_4QG6ucVH7",
        "colab": {
          "base_uri": "https://localhost:8080/",
          "height": 98
        },
        "outputId": "609eb212-e44b-4a6f-d3e0-f1a83a77b6ca"
      },
      "execution_count": 36,
      "outputs": [
        {
          "output_type": "display_data",
          "data": {
            "text/html": [
              "<table class=\"dataframe\">\n",
              "<caption>A tibble: 0 × 3</caption>\n",
              "<thead>\n",
              "\t<tr><th scope=col>bill_id</th><th scope=col>patient_id</th><th scope=col>date_of_admission</th></tr>\n",
              "\t<tr><th scope=col>&lt;dbl&gt;</th><th scope=col>&lt;chr&gt;</th><th scope=col>&lt;date&gt;</th></tr>\n",
              "</thead>\n",
              "<tbody>\n",
              "</tbody>\n",
              "</table>\n"
            ],
            "text/markdown": "\nA tibble: 0 × 3\n\n| bill_id &lt;dbl&gt; | patient_id &lt;chr&gt; | date_of_admission &lt;date&gt; |\n|---|---|---|\n\n",
            "text/latex": "A tibble: 0 × 3\n\\begin{tabular}{lll}\n bill\\_id & patient\\_id & date\\_of\\_admission\\\\\n <dbl> & <chr> & <date>\\\\\n\\hline\n\\end{tabular}\n",
            "text/plain": [
              "     bill_id patient_id date_of_admission"
            ]
          },
          "metadata": {}
        }
      ]
    },
    {
      "cell_type": "markdown",
      "source": [
        "Joining all CSV files to achieve a single data set"
      ],
      "metadata": {
        "id": "jBWF6hjwVtin"
      }
    },
    {
      "cell_type": "code",
      "source": [
        "\n",
        "# Perform an outer join to include all data fields\n",
        "df_bill <- merge(data_bill_id, data_bill_amount, by = \"bill_id\", all = TRUE)\n",
        "\n",
        "# Display the merged data frame\n",
        "summary(df_bill)\n"
      ],
      "metadata": {
        "id": "zRGiBJtYcVKh",
        "colab": {
          "base_uri": "https://localhost:8080/",
          "height": 138
        },
        "outputId": "cc8d7018-490d-4959-801f-d778dc63c03c"
      },
      "execution_count": 37,
      "outputs": [
        {
          "output_type": "display_data",
          "data": {
            "text/plain": [
              "    bill_id           patient_id        date_of_admission        amount       \n",
              " Min.   :5.584e+05   Length:13600       Min.   :2011-01-01   Min.   :   79.5  \n",
              " 1st Qu.:2.486e+09   Class :character   1st Qu.:2012-03-27   1st Qu.:  950.7  \n",
              " Median :4.993e+09   Mode  :character   Median :2013-07-10   Median : 1517.0  \n",
              " Mean   :5.007e+09                      Mean   :2013-07-02   Mean   : 5464.8  \n",
              " 3rd Qu.:7.525e+09                      3rd Qu.:2014-09-24   3rd Qu.: 7307.1  \n",
              " Max.   :1.000e+10                      Max.   :2015-12-28   Max.   :81849.8  "
            ]
          },
          "metadata": {}
        }
      ]
    },
    {
      "cell_type": "markdown",
      "source": [
        "Joined bill and bill_amounts using outer join [using bill_id as primary key]\n",
        "In next step joining demographics and joined bill df [using patient id as primary key]"
      ],
      "metadata": {
        "id": "Yy0KL_uKV907"
      }
    },
    {
      "cell_type": "code",
      "source": [
        "# Perform an outer join to include all data fields\n",
        "df_bill_demo <- merge(df_bill, data_demographics, by = \"patient_id\", all = TRUE)\n",
        "\n",
        "# Display the merged data frame\n",
        "summary(df_bill_demo)"
      ],
      "metadata": {
        "id": "-lVVVMapdtOE",
        "colab": {
          "base_uri": "https://localhost:8080/",
          "height": 260
        },
        "outputId": "a01b9756-3a12-4b86-b088-679d89775228"
      },
      "execution_count": 38,
      "outputs": [
        {
          "output_type": "display_data",
          "data": {
            "text/plain": [
              "  patient_id           bill_id          date_of_admission        amount       \n",
              " Length:13600       Min.   :5.584e+05   Min.   :2011-01-01   Min.   :   79.5  \n",
              " Class :character   1st Qu.:2.486e+09   1st Qu.:2012-03-27   1st Qu.:  950.7  \n",
              " Mode  :character   Median :4.993e+09   Median :2013-07-10   Median : 1517.0  \n",
              "                    Mean   :5.007e+09   Mean   :2013-07-02   Mean   : 5464.8  \n",
              "                    3rd Qu.:7.525e+09   3rd Qu.:2014-09-24   3rd Qu.: 7307.1  \n",
              "                    Max.   :1.000e+10   Max.   :2015-12-28   Max.   :81849.8  \n",
              "    gender              race           resident_status    date_of_birth       \n",
              " Length:13600       Length:13600       Length:13600       Min.   :1930-01-20  \n",
              " Class :character   Class :character   Class :character   1st Qu.:1948-06-13  \n",
              " Mode  :character   Mode  :character   Mode  :character   Median :1962-10-06  \n",
              "                                                          Mean   :1960-12-17  \n",
              "                                                          3rd Qu.:1973-09-13  \n",
              "                                                          Max.   :1990-12-15  "
            ]
          },
          "metadata": {}
        }
      ]
    },
    {
      "cell_type": "code",
      "source": [
        "data_clinical <- data_clinical %>%\n",
        "  rename(patient_id = id)"
      ],
      "metadata": {
        "id": "mbBzIkVJdtRM"
      },
      "execution_count": 39,
      "outputs": []
    },
    {
      "cell_type": "code",
      "source": [
        "# Perform an outer join to include all data fields\n",
        "df <- merge(df_bill_demo, data_clinical, by = \"patient_id\", all = TRUE)\n",
        "\n",
        "# Display the merged data frame\n",
        "summary(df)"
      ],
      "metadata": {
        "id": "NNKw8MK1dtUO",
        "colab": {
          "base_uri": "https://localhost:8080/",
          "height": 1000
        },
        "outputId": "12ddb35e-739c-47de-9824-0eb2e53e47d3"
      },
      "execution_count": 108,
      "outputs": [
        {
          "output_type": "display_data",
          "data": {
            "text/plain": [
              "  patient_id           bill_id          date_of_admission.x      amount       \n",
              " Length:16976       Min.   :5.584e+05   Min.   :2011-01-01   Min.   :   79.5  \n",
              " Class :character   1st Qu.:2.491e+09   1st Qu.:2012-03-26   1st Qu.:  951.8  \n",
              " Mode  :character   Median :5.000e+09   Median :2013-07-08   Median : 1515.7  \n",
              "                    Mean   :4.999e+09   Mean   :2013-07-02   Mean   : 5457.6  \n",
              "                    3rd Qu.:7.499e+09   3rd Qu.:2014-09-24   3rd Qu.: 7307.1  \n",
              "                    Max.   :1.000e+10   Max.   :2015-12-28   Max.   :81849.8  \n",
              "                                                                              \n",
              "    gender              race           resident_status    date_of_birth       \n",
              " Length:16976       Length:16976       Length:16976       Min.   :1930-01-20  \n",
              " Class :character   Class :character   Class :character   1st Qu.:1948-04-06  \n",
              " Mode  :character   Mode  :character   Mode  :character   Median :1962-08-12  \n",
              "                                                          Mean   :1960-11-22  \n",
              "                                                          3rd Qu.:1973-10-22  \n",
              "                                                          Max.   :1990-12-15  \n",
              "                                                                              \n",
              " date_of_admission.y  date_of_discharge    medical_history_1 medical_history_2\n",
              " Min.   :2011-01-01   Min.   :2011-01-11   Min.   :0.0000    Min.   :0.0000   \n",
              " 1st Qu.:2012-03-26   1st Qu.:2012-04-07   1st Qu.:0.0000    1st Qu.:0.0000   \n",
              " Median :2013-07-08   Median :2013-07-20   Median :0.0000    Median :0.0000   \n",
              " Mean   :2013-07-02   Mean   :2013-07-13   Mean   :0.1704    Mean   :0.3113   \n",
              " 3rd Qu.:2014-09-24   3rd Qu.:2014-10-04   3rd Qu.:0.0000    3rd Qu.:1.0000   \n",
              " Max.   :2015-12-28   Max.   :2016-01-11   Max.   :1.0000    Max.   :1.0000   \n",
              "                                                             NA's   :1156     \n",
              " medical_history_3  medical_history_4 medical_history_5 medical_history_6\n",
              " Length:16976       Min.   :0.00000   Min.   :0.0000    Min.   :0.0000   \n",
              " Class :character   1st Qu.:0.00000   1st Qu.:0.0000    1st Qu.:0.0000   \n",
              " Mode  :character   Median :0.00000   Median :0.0000    Median :0.0000   \n",
              "                    Mean   :0.05113   Mean   :0.0655    Mean   :0.2585   \n",
              "                    3rd Qu.:0.00000   3rd Qu.:0.0000    3rd Qu.:1.0000   \n",
              "                    Max.   :1.00000   Max.   :1.0000    Max.   :1.0000   \n",
              "                                      NA's   :1528                       \n",
              " medical_history_7 preop_medication_1 preop_medication_2 preop_medication_3\n",
              " Min.   :0.0000    Min.   :0.0000     Min.   :0.0000     Min.   :0.0000    \n",
              " 1st Qu.:0.0000    1st Qu.:0.0000     1st Qu.:0.0000     1st Qu.:1.0000    \n",
              " Median :0.0000    Median :1.0000     Median :1.0000     Median :1.0000    \n",
              " Mean   :0.2516    Mean   :0.5071     Mean   :0.5945     Mean   :0.8195    \n",
              " 3rd Qu.:1.0000    3rd Qu.:1.0000     3rd Qu.:1.0000     3rd Qu.:1.0000    \n",
              " Max.   :1.0000    Max.   :1.0000     Max.   :1.0000     Max.   :1.0000    \n",
              "                                                                           \n",
              " preop_medication_4 preop_medication_5 preop_medication_6   symptom_1    \n",
              " Min.   :0.0000     Min.   :0.0000     Min.   :0.0000     Min.   :0.000  \n",
              " 1st Qu.:0.0000     1st Qu.:1.0000     1st Qu.:0.0000     1st Qu.:0.000  \n",
              " Median :1.0000     Median :1.0000     Median :1.0000     Median :1.000  \n",
              " Mean   :0.5264     Mean   :0.8174     Mean   :0.7495     Mean   :0.618  \n",
              " 3rd Qu.:1.0000     3rd Qu.:1.0000     3rd Qu.:1.0000     3rd Qu.:1.000  \n",
              " Max.   :1.0000     Max.   :1.0000     Max.   :1.0000     Max.   :1.000  \n",
              "                                                                         \n",
              "   symptom_2        symptom_3        symptom_4        symptom_5     \n",
              " Min.   :0.0000   Min.   :0.0000   Min.   :0.0000   Min.   :0.0000  \n",
              " 1st Qu.:0.0000   1st Qu.:0.0000   1st Qu.:0.0000   1st Qu.:0.0000  \n",
              " Median :1.0000   Median :1.0000   Median :1.0000   Median :1.0000  \n",
              " Mean   :0.6645   Mean   :0.5419   Mean   :0.7314   Mean   :0.5262  \n",
              " 3rd Qu.:1.0000   3rd Qu.:1.0000   3rd Qu.:1.0000   3rd Qu.:1.0000  \n",
              " Max.   :1.0000   Max.   :1.0000   Max.   :1.0000   Max.   :1.0000  \n",
              "                                                                    \n",
              "  lab_result_1    lab_result_2    lab_result_3        weight      \n",
              " Min.   : 9.10   Min.   :19.70   Min.   : 52.00   Min.   : 48.00  \n",
              " 1st Qu.:13.20   1st Qu.:25.70   1st Qu.: 88.00   1st Qu.: 71.20  \n",
              " Median :14.50   Median :27.40   Median :100.00   Median : 78.80  \n",
              " Mean   :14.47   Mean   :27.42   Mean   : 99.46   Mean   : 78.67  \n",
              " 3rd Qu.:15.80   3rd Qu.:29.20   3rd Qu.:110.00   3rd Qu.: 86.20  \n",
              " Max.   :20.30   Max.   :35.10   Max.   :150.00   Max.   :121.00  \n",
              "                                                                  \n",
              "     height   \n",
              " Min.   :151  \n",
              " 1st Qu.:160  \n",
              " Median :165  \n",
              " Mean   :165  \n",
              " 3rd Qu.:170  \n",
              " Max.   :186  \n",
              "              "
            ]
          },
          "metadata": {}
        }
      ]
    },
    {
      "cell_type": "markdown",
      "source": [
        "#Joined all dataframes into df and ready to use a combined dataset and perform data preparation and preprocessing"
      ],
      "metadata": {
        "id": "-X_6lC_UsiRt"
      }
    },
    {
      "cell_type": "code",
      "source": [
        "# Convert \"yes\" to 1 and \"no\" to 0\n",
        "df$medical_history_3 <- ifelse(tolower(df$medical_history_3) == \"yes\", 1, ifelse(tolower(df$medical_history_3) == \"no\", 0, df$medical_history_3))\n",
        "df$medical_history_3 <- as.integer(df$medical_history_3)\n",
        "# Print the modified dataframe\n",
        "summary(df)"
      ],
      "metadata": {
        "id": "4eTt81NUiZ3i",
        "colab": {
          "base_uri": "https://localhost:8080/",
          "height": 1000
        },
        "outputId": "2e4f9d01-0b01-4568-e741-a19be71dc405"
      },
      "execution_count": 109,
      "outputs": [
        {
          "output_type": "display_data",
          "data": {
            "text/plain": [
              "  patient_id           bill_id          date_of_admission.x      amount       \n",
              " Length:16976       Min.   :5.584e+05   Min.   :2011-01-01   Min.   :   79.5  \n",
              " Class :character   1st Qu.:2.491e+09   1st Qu.:2012-03-26   1st Qu.:  951.8  \n",
              " Mode  :character   Median :5.000e+09   Median :2013-07-08   Median : 1515.7  \n",
              "                    Mean   :4.999e+09   Mean   :2013-07-02   Mean   : 5457.6  \n",
              "                    3rd Qu.:7.499e+09   3rd Qu.:2014-09-24   3rd Qu.: 7307.1  \n",
              "                    Max.   :1.000e+10   Max.   :2015-12-28   Max.   :81849.8  \n",
              "                                                                              \n",
              "    gender              race           resident_status    date_of_birth       \n",
              " Length:16976       Length:16976       Length:16976       Min.   :1930-01-20  \n",
              " Class :character   Class :character   Class :character   1st Qu.:1948-04-06  \n",
              " Mode  :character   Mode  :character   Mode  :character   Median :1962-08-12  \n",
              "                                                          Mean   :1960-11-22  \n",
              "                                                          3rd Qu.:1973-10-22  \n",
              "                                                          Max.   :1990-12-15  \n",
              "                                                                              \n",
              " date_of_admission.y  date_of_discharge    medical_history_1 medical_history_2\n",
              " Min.   :2011-01-01   Min.   :2011-01-11   Min.   :0.0000    Min.   :0.0000   \n",
              " 1st Qu.:2012-03-26   1st Qu.:2012-04-07   1st Qu.:0.0000    1st Qu.:0.0000   \n",
              " Median :2013-07-08   Median :2013-07-20   Median :0.0000    Median :0.0000   \n",
              " Mean   :2013-07-02   Mean   :2013-07-13   Mean   :0.1704    Mean   :0.3113   \n",
              " 3rd Qu.:2014-09-24   3rd Qu.:2014-10-04   3rd Qu.:0.0000    3rd Qu.:1.0000   \n",
              " Max.   :2015-12-28   Max.   :2016-01-11   Max.   :1.0000    Max.   :1.0000   \n",
              "                                                             NA's   :1156     \n",
              " medical_history_3 medical_history_4 medical_history_5 medical_history_6\n",
              " Min.   :0.0000    Min.   :0.00000   Min.   :0.0000    Min.   :0.0000   \n",
              " 1st Qu.:0.0000    1st Qu.:0.00000   1st Qu.:0.0000    1st Qu.:0.0000   \n",
              " Median :0.0000    Median :0.00000   Median :0.0000    Median :0.0000   \n",
              " Mean   :0.1357    Mean   :0.05113   Mean   :0.0655    Mean   :0.2585   \n",
              " 3rd Qu.:0.0000    3rd Qu.:0.00000   3rd Qu.:0.0000    3rd Qu.:1.0000   \n",
              " Max.   :1.0000    Max.   :1.00000   Max.   :1.0000    Max.   :1.0000   \n",
              "                                     NA's   :1528                       \n",
              " medical_history_7 preop_medication_1 preop_medication_2 preop_medication_3\n",
              " Min.   :0.0000    Min.   :0.0000     Min.   :0.0000     Min.   :0.0000    \n",
              " 1st Qu.:0.0000    1st Qu.:0.0000     1st Qu.:0.0000     1st Qu.:1.0000    \n",
              " Median :0.0000    Median :1.0000     Median :1.0000     Median :1.0000    \n",
              " Mean   :0.2516    Mean   :0.5071     Mean   :0.5945     Mean   :0.8195    \n",
              " 3rd Qu.:1.0000    3rd Qu.:1.0000     3rd Qu.:1.0000     3rd Qu.:1.0000    \n",
              " Max.   :1.0000    Max.   :1.0000     Max.   :1.0000     Max.   :1.0000    \n",
              "                                                                           \n",
              " preop_medication_4 preop_medication_5 preop_medication_6   symptom_1    \n",
              " Min.   :0.0000     Min.   :0.0000     Min.   :0.0000     Min.   :0.000  \n",
              " 1st Qu.:0.0000     1st Qu.:1.0000     1st Qu.:0.0000     1st Qu.:0.000  \n",
              " Median :1.0000     Median :1.0000     Median :1.0000     Median :1.000  \n",
              " Mean   :0.5264     Mean   :0.8174     Mean   :0.7495     Mean   :0.618  \n",
              " 3rd Qu.:1.0000     3rd Qu.:1.0000     3rd Qu.:1.0000     3rd Qu.:1.000  \n",
              " Max.   :1.0000     Max.   :1.0000     Max.   :1.0000     Max.   :1.000  \n",
              "                                                                         \n",
              "   symptom_2        symptom_3        symptom_4        symptom_5     \n",
              " Min.   :0.0000   Min.   :0.0000   Min.   :0.0000   Min.   :0.0000  \n",
              " 1st Qu.:0.0000   1st Qu.:0.0000   1st Qu.:0.0000   1st Qu.:0.0000  \n",
              " Median :1.0000   Median :1.0000   Median :1.0000   Median :1.0000  \n",
              " Mean   :0.6645   Mean   :0.5419   Mean   :0.7314   Mean   :0.5262  \n",
              " 3rd Qu.:1.0000   3rd Qu.:1.0000   3rd Qu.:1.0000   3rd Qu.:1.0000  \n",
              " Max.   :1.0000   Max.   :1.0000   Max.   :1.0000   Max.   :1.0000  \n",
              "                                                                    \n",
              "  lab_result_1    lab_result_2    lab_result_3        weight      \n",
              " Min.   : 9.10   Min.   :19.70   Min.   : 52.00   Min.   : 48.00  \n",
              " 1st Qu.:13.20   1st Qu.:25.70   1st Qu.: 88.00   1st Qu.: 71.20  \n",
              " Median :14.50   Median :27.40   Median :100.00   Median : 78.80  \n",
              " Mean   :14.47   Mean   :27.42   Mean   : 99.46   Mean   : 78.67  \n",
              " 3rd Qu.:15.80   3rd Qu.:29.20   3rd Qu.:110.00   3rd Qu.: 86.20  \n",
              " Max.   :20.30   Max.   :35.10   Max.   :150.00   Max.   :121.00  \n",
              "                                                                  \n",
              "     height   \n",
              " Min.   :151  \n",
              " 1st Qu.:160  \n",
              " Median :165  \n",
              " Mean   :165  \n",
              " 3rd Qu.:170  \n",
              " Max.   :186  \n",
              "              "
            ]
          },
          "metadata": {}
        }
      ]
    },
    {
      "cell_type": "code",
      "source": [
        "# Convert \"Male\" to m and \"Female\" to f\n",
        "df$gender <- ifelse(tolower(df$gender) == \"male\", 'm', ifelse(tolower(df$gender) == \"female\", 'f', df$gender))\n"
      ],
      "metadata": {
        "id": "MVBRdDkdiZ83"
      },
      "execution_count": 110,
      "outputs": []
    },
    {
      "cell_type": "code",
      "source": [
        "# Convert \"India\" to Indian\n",
        "df$race <- ifelse(tolower(df$race) == \"india\", 'Indian', df$race)\n",
        "\n",
        "# Convert \"Singapore citizen\" to Singaporean\n",
        "df$resident_status <- ifelse(tolower(df$resident_status) == \"singapore citizen\", 'Singaporean', df$resident_status)"
      ],
      "metadata": {
        "id": "7maaK679iZ_F"
      },
      "execution_count": 111,
      "outputs": []
    },
    {
      "cell_type": "code",
      "source": [
        "# Calculate the difference in days between admissing and discharge date to achieve no of days a patient spent in hospital\n",
        "df$days_in_hospital <- as.numeric(difftime(df$date_of_discharge,df$date_of_admission.y, units = \"days\"))\n",
        "summary(df$days_in_hospital)"
      ],
      "metadata": {
        "id": "7ul1QEsinsd-",
        "colab": {
          "base_uri": "https://localhost:8080/",
          "height": 52
        },
        "outputId": "726a5cf1-d61b-4bb9-b46f-4182085fe7dc"
      },
      "execution_count": 112,
      "outputs": [
        {
          "output_type": "display_data",
          "data": {
            "text/plain": [
              "   Min. 1st Qu.  Median    Mean 3rd Qu.    Max. \n",
              "   1.00    9.00   11.00   11.03   13.00   20.00 "
            ]
          },
          "metadata": {}
        }
      ]
    },
    {
      "cell_type": "markdown",
      "source": [
        "#Gender, Race, Resident_status can be one-hot or label encoded for better understanding for ML models"
      ],
      "metadata": {
        "id": "Y_RCdUcP_g-9"
      }
    },
    {
      "cell_type": "code",
      "source": [
        "\n",
        "df$date_of_admission.y <- as.Date(df$date_of_admission.y)\n",
        "df$date_of_discharge <- as.Date(df$date_of_discharge)\n",
        "# Convert the date format to 'yyyy-mm-dd' using as.Date\n",
        "df$dob  <- as.Date(df$date_of_birth , format = '%d-%m-%Y')\n",
        "\n",
        "# Print the converted date\n",
        "year(df$dob)\n"
      ],
      "metadata": {
        "id": "RMfPmMYaiWod",
        "colab": {
          "base_uri": "https://localhost:8080/",
          "height": 243
        },
        "outputId": "502f53f5-baeb-40db-b2ef-96e714d3bad4"
      },
      "execution_count": 113,
      "outputs": [
        {
          "output_type": "display_data",
          "data": {
            "text/html": [
              "<style>\n",
              ".list-inline {list-style: none; margin:0; padding: 0}\n",
              ".list-inline>li {display: inline-block}\n",
              ".list-inline>li:not(:last-child)::after {content: \"\\00b7\"; padding: 0 .5ex}\n",
              "</style>\n",
              "<ol class=list-inline><li>1983</li><li>1983</li><li>1983</li><li>1983</li><li>1943</li><li>1943</li><li>1943</li><li>1943</li><li>1972</li><li>1972</li><li>1972</li><li>1972</li><li>1976</li><li>1976</li><li>1976</li><li>1976</li><li>1942</li><li>1942</li><li>1942</li><li>1942</li><li>1960</li><li>1960</li><li>1960</li><li>1960</li><li>1947</li><li>1947</li><li>1947</li><li>1947</li><li>1948</li><li>1948</li><li>1948</li><li>1948</li><li>1973</li><li>1973</li><li>1973</li><li>1973</li><li>1990</li><li>1990</li><li>1990</li><li>1990</li><li>1953</li><li>1953</li><li>1953</li><li>1953</li><li>1979</li><li>1979</li><li>1979</li><li>1979</li><li>1979</li><li>1979</li><li>1979</li><li>1979</li><li>1979</li><li>1979</li><li>1979</li><li>1979</li><li>1979</li><li>1979</li><li>1979</li><li>1979</li><li>1969</li><li>1969</li><li>1969</li><li>1969</li><li>1968</li><li>1968</li><li>1968</li><li>1968</li><li>1972</li><li>1972</li><li>1972</li><li>1972</li><li>1934</li><li>1934</li><li>1934</li><li>1934</li><li>1961</li><li>1961</li><li>1961</li><li>1961</li><li>1959</li><li>1959</li><li>1959</li><li>1959</li><li>1977</li><li>1977</li><li>1977</li><li>1977</li><li>1975</li><li>1975</li><li>1975</li><li>1975</li><li>1943</li><li>1943</li><li>1943</li><li>1943</li><li>1962</li><li>1962</li><li>1962</li><li>1962</li><li>1940</li><li>1940</li><li>1940</li><li>1940</li><li>1953</li><li>1953</li><li>1953</li><li>1953</li><li>1973</li><li>1973</li><li>1973</li><li>1973</li><li>1969</li><li>1969</li><li>1969</li><li>1969</li><li>1969</li><li>1969</li><li>1969</li><li>1969</li><li>1948</li><li>1948</li><li>1948</li><li>1948</li><li>1972</li><li>1972</li><li>1972</li><li>1972</li><li>1945</li><li>1945</li><li>1945</li><li>1945</li><li>1945</li><li>1945</li><li>1945</li><li>1945</li><li>1945</li><li>1945</li><li>1945</li><li>1945</li><li>1945</li><li>1945</li><li>1945</li><li>1945</li><li>1945</li><li>1945</li><li>1945</li><li>1945</li><li>1955</li><li>1955</li><li>1955</li><li>1955</li><li>1960</li><li>1960</li><li>1960</li><li>1960</li><li>1934</li><li>1934</li><li>1934</li><li>1934</li><li>1947</li><li>1947</li><li>1947</li><li>1947</li><li>1980</li><li>1980</li><li>1980</li><li>1980</li><li>1963</li><li>1963</li><li>1963</li><li>1963</li><li>1961</li><li>1961</li><li>1961</li><li>1961</li><li>1945</li><li>1945</li><li>1945</li><li>1945</li><li>1974</li><li>1974</li><li>1974</li><li>1974</li><li>1964</li><li>1964</li><li>1964</li><li>1964</li><li>1938</li><li>1938</li><li>1938</li><li>1938</li><li>1976</li><li>1976</li><li>1976</li><li>1976</li><li>1974</li><li>1974</li><li>1974</li><li>1974</li><li>⋯</li><li>1965</li><li>1965</li><li>1965</li><li>1965</li><li>1979</li><li>1979</li><li>1979</li><li>1979</li><li>1954</li><li>1954</li><li>1954</li><li>1954</li><li>1976</li><li>1976</li><li>1976</li><li>1976</li><li>1973</li><li>1973</li><li>1973</li><li>1973</li><li>1969</li><li>1969</li><li>1969</li><li>1969</li><li>1969</li><li>1969</li><li>1969</li><li>1969</li><li>1969</li><li>1969</li><li>1969</li><li>1969</li><li>1969</li><li>1969</li><li>1969</li><li>1969</li><li>1959</li><li>1959</li><li>1959</li><li>1959</li><li>1973</li><li>1973</li><li>1973</li><li>1973</li><li>1962</li><li>1962</li><li>1962</li><li>1962</li><li>1974</li><li>1974</li><li>1974</li><li>1974</li><li>1969</li><li>1969</li><li>1969</li><li>1969</li><li>1975</li><li>1975</li><li>1975</li><li>1975</li><li>1941</li><li>1941</li><li>1941</li><li>1941</li><li>1960</li><li>1960</li><li>1960</li><li>1960</li><li>1943</li><li>1943</li><li>1943</li><li>1943</li><li>1950</li><li>1950</li><li>1950</li><li>1950</li><li>1982</li><li>1982</li><li>1982</li><li>1982</li><li>1979</li><li>1979</li><li>1979</li><li>1979</li><li>1979</li><li>1979</li><li>1979</li><li>1979</li><li>1979</li><li>1979</li><li>1979</li><li>1979</li><li>1979</li><li>1979</li><li>1979</li><li>1979</li><li>1979</li><li>1979</li><li>1979</li><li>1979</li><li>1979</li><li>1979</li><li>1979</li><li>1979</li><li>1979</li><li>1979</li><li>1979</li><li>1979</li><li>1979</li><li>1979</li><li>1979</li><li>1979</li><li>1979</li><li>1979</li><li>1979</li><li>1979</li><li>1979</li><li>1979</li><li>1979</li><li>1979</li><li>1976</li><li>1976</li><li>1976</li><li>1976</li><li>1945</li><li>1945</li><li>1945</li><li>1945</li><li>1956</li><li>1956</li><li>1956</li><li>1956</li><li>1961</li><li>1961</li><li>1961</li><li>1961</li><li>1967</li><li>1967</li><li>1967</li><li>1967</li><li>1974</li><li>1974</li><li>1974</li><li>1974</li><li>1974</li><li>1974</li><li>1974</li><li>1974</li><li>1974</li><li>1974</li><li>1974</li><li>1974</li><li>1974</li><li>1974</li><li>1974</li><li>1974</li><li>1977</li><li>1977</li><li>1977</li><li>1977</li><li>1952</li><li>1952</li><li>1952</li><li>1952</li><li>1962</li><li>1962</li><li>1962</li><li>1962</li><li>1962</li><li>1962</li><li>1962</li><li>1962</li><li>1962</li><li>1962</li><li>1962</li><li>1962</li><li>1962</li><li>1962</li><li>1962</li><li>1962</li><li>1976</li><li>1976</li><li>1976</li><li>1976</li><li>1963</li><li>1963</li><li>1963</li><li>1963</li><li>1938</li><li>1938</li><li>1938</li><li>1938</li><li>1950</li><li>1950</li><li>1950</li><li>1950</li><li>1956</li><li>1956</li><li>1956</li><li>1956</li></ol>\n"
            ],
            "text/markdown": "1. 1983\n2. 1983\n3. 1983\n4. 1983\n5. 1943\n6. 1943\n7. 1943\n8. 1943\n9. 1972\n10. 1972\n11. 1972\n12. 1972\n13. 1976\n14. 1976\n15. 1976\n16. 1976\n17. 1942\n18. 1942\n19. 1942\n20. 1942\n21. 1960\n22. 1960\n23. 1960\n24. 1960\n25. 1947\n26. 1947\n27. 1947\n28. 1947\n29. 1948\n30. 1948\n31. 1948\n32. 1948\n33. 1973\n34. 1973\n35. 1973\n36. 1973\n37. 1990\n38. 1990\n39. 1990\n40. 1990\n41. 1953\n42. 1953\n43. 1953\n44. 1953\n45. 1979\n46. 1979\n47. 1979\n48. 1979\n49. 1979\n50. 1979\n51. 1979\n52. 1979\n53. 1979\n54. 1979\n55. 1979\n56. 1979\n57. 1979\n58. 1979\n59. 1979\n60. 1979\n61. 1969\n62. 1969\n63. 1969\n64. 1969\n65. 1968\n66. 1968\n67. 1968\n68. 1968\n69. 1972\n70. 1972\n71. 1972\n72. 1972\n73. 1934\n74. 1934\n75. 1934\n76. 1934\n77. 1961\n78. 1961\n79. 1961\n80. 1961\n81. 1959\n82. 1959\n83. 1959\n84. 1959\n85. 1977\n86. 1977\n87. 1977\n88. 1977\n89. 1975\n90. 1975\n91. 1975\n92. 1975\n93. 1943\n94. 1943\n95. 1943\n96. 1943\n97. 1962\n98. 1962\n99. 1962\n100. 1962\n101. 1940\n102. 1940\n103. 1940\n104. 1940\n105. 1953\n106. 1953\n107. 1953\n108. 1953\n109. 1973\n110. 1973\n111. 1973\n112. 1973\n113. 1969\n114. 1969\n115. 1969\n116. 1969\n117. 1969\n118. 1969\n119. 1969\n120. 1969\n121. 1948\n122. 1948\n123. 1948\n124. 1948\n125. 1972\n126. 1972\n127. 1972\n128. 1972\n129. 1945\n130. 1945\n131. 1945\n132. 1945\n133. 1945\n134. 1945\n135. 1945\n136. 1945\n137. 1945\n138. 1945\n139. 1945\n140. 1945\n141. 1945\n142. 1945\n143. 1945\n144. 1945\n145. 1945\n146. 1945\n147. 1945\n148. 1945\n149. 1955\n150. 1955\n151. 1955\n152. 1955\n153. 1960\n154. 1960\n155. 1960\n156. 1960\n157. 1934\n158. 1934\n159. 1934\n160. 1934\n161. 1947\n162. 1947\n163. 1947\n164. 1947\n165. 1980\n166. 1980\n167. 1980\n168. 1980\n169. 1963\n170. 1963\n171. 1963\n172. 1963\n173. 1961\n174. 1961\n175. 1961\n176. 1961\n177. 1945\n178. 1945\n179. 1945\n180. 1945\n181. 1974\n182. 1974\n183. 1974\n184. 1974\n185. 1964\n186. 1964\n187. 1964\n188. 1964\n189. 1938\n190. 1938\n191. 1938\n192. 1938\n193. 1976\n194. 1976\n195. 1976\n196. 1976\n197. 1974\n198. 1974\n199. 1974\n200. 1974\n201. ⋯\n202. 1965\n203. 1965\n204. 1965\n205. 1965\n206. 1979\n207. 1979\n208. 1979\n209. 1979\n210. 1954\n211. 1954\n212. 1954\n213. 1954\n214. 1976\n215. 1976\n216. 1976\n217. 1976\n218. 1973\n219. 1973\n220. 1973\n221. 1973\n222. 1969\n223. 1969\n224. 1969\n225. 1969\n226. 1969\n227. 1969\n228. 1969\n229. 1969\n230. 1969\n231. 1969\n232. 1969\n233. 1969\n234. 1969\n235. 1969\n236. 1969\n237. 1969\n238. 1959\n239. 1959\n240. 1959\n241. 1959\n242. 1973\n243. 1973\n244. 1973\n245. 1973\n246. 1962\n247. 1962\n248. 1962\n249. 1962\n250. 1974\n251. 1974\n252. 1974\n253. 1974\n254. 1969\n255. 1969\n256. 1969\n257. 1969\n258. 1975\n259. 1975\n260. 1975\n261. 1975\n262. 1941\n263. 1941\n264. 1941\n265. 1941\n266. 1960\n267. 1960\n268. 1960\n269. 1960\n270. 1943\n271. 1943\n272. 1943\n273. 1943\n274. 1950\n275. 1950\n276. 1950\n277. 1950\n278. 1982\n279. 1982\n280. 1982\n281. 1982\n282. 1979\n283. 1979\n284. 1979\n285. 1979\n286. 1979\n287. 1979\n288. 1979\n289. 1979\n290. 1979\n291. 1979\n292. 1979\n293. 1979\n294. 1979\n295. 1979\n296. 1979\n297. 1979\n298. 1979\n299. 1979\n300. 1979\n301. 1979\n302. 1979\n303. 1979\n304. 1979\n305. 1979\n306. 1979\n307. 1979\n308. 1979\n309. 1979\n310. 1979\n311. 1979\n312. 1979\n313. 1979\n314. 1979\n315. 1979\n316. 1979\n317. 1979\n318. 1979\n319. 1979\n320. 1979\n321. 1979\n322. 1976\n323. 1976\n324. 1976\n325. 1976\n326. 1945\n327. 1945\n328. 1945\n329. 1945\n330. 1956\n331. 1956\n332. 1956\n333. 1956\n334. 1961\n335. 1961\n336. 1961\n337. 1961\n338. 1967\n339. 1967\n340. 1967\n341. 1967\n342. 1974\n343. 1974\n344. 1974\n345. 1974\n346. 1974\n347. 1974\n348. 1974\n349. 1974\n350. 1974\n351. 1974\n352. 1974\n353. 1974\n354. 1974\n355. 1974\n356. 1974\n357. 1974\n358. 1977\n359. 1977\n360. 1977\n361. 1977\n362. 1952\n363. 1952\n364. 1952\n365. 1952\n366. 1962\n367. 1962\n368. 1962\n369. 1962\n370. 1962\n371. 1962\n372. 1962\n373. 1962\n374. 1962\n375. 1962\n376. 1962\n377. 1962\n378. 1962\n379. 1962\n380. 1962\n381. 1962\n382. 1976\n383. 1976\n384. 1976\n385. 1976\n386. 1963\n387. 1963\n388. 1963\n389. 1963\n390. 1938\n391. 1938\n392. 1938\n393. 1938\n394. 1950\n395. 1950\n396. 1950\n397. 1950\n398. 1956\n399. 1956\n400. 1956\n401. 1956\n\n\n",
            "text/latex": "\\begin{enumerate*}\n\\item 1983\n\\item 1983\n\\item 1983\n\\item 1983\n\\item 1943\n\\item 1943\n\\item 1943\n\\item 1943\n\\item 1972\n\\item 1972\n\\item 1972\n\\item 1972\n\\item 1976\n\\item 1976\n\\item 1976\n\\item 1976\n\\item 1942\n\\item 1942\n\\item 1942\n\\item 1942\n\\item 1960\n\\item 1960\n\\item 1960\n\\item 1960\n\\item 1947\n\\item 1947\n\\item 1947\n\\item 1947\n\\item 1948\n\\item 1948\n\\item 1948\n\\item 1948\n\\item 1973\n\\item 1973\n\\item 1973\n\\item 1973\n\\item 1990\n\\item 1990\n\\item 1990\n\\item 1990\n\\item 1953\n\\item 1953\n\\item 1953\n\\item 1953\n\\item 1979\n\\item 1979\n\\item 1979\n\\item 1979\n\\item 1979\n\\item 1979\n\\item 1979\n\\item 1979\n\\item 1979\n\\item 1979\n\\item 1979\n\\item 1979\n\\item 1979\n\\item 1979\n\\item 1979\n\\item 1979\n\\item 1969\n\\item 1969\n\\item 1969\n\\item 1969\n\\item 1968\n\\item 1968\n\\item 1968\n\\item 1968\n\\item 1972\n\\item 1972\n\\item 1972\n\\item 1972\n\\item 1934\n\\item 1934\n\\item 1934\n\\item 1934\n\\item 1961\n\\item 1961\n\\item 1961\n\\item 1961\n\\item 1959\n\\item 1959\n\\item 1959\n\\item 1959\n\\item 1977\n\\item 1977\n\\item 1977\n\\item 1977\n\\item 1975\n\\item 1975\n\\item 1975\n\\item 1975\n\\item 1943\n\\item 1943\n\\item 1943\n\\item 1943\n\\item 1962\n\\item 1962\n\\item 1962\n\\item 1962\n\\item 1940\n\\item 1940\n\\item 1940\n\\item 1940\n\\item 1953\n\\item 1953\n\\item 1953\n\\item 1953\n\\item 1973\n\\item 1973\n\\item 1973\n\\item 1973\n\\item 1969\n\\item 1969\n\\item 1969\n\\item 1969\n\\item 1969\n\\item 1969\n\\item 1969\n\\item 1969\n\\item 1948\n\\item 1948\n\\item 1948\n\\item 1948\n\\item 1972\n\\item 1972\n\\item 1972\n\\item 1972\n\\item 1945\n\\item 1945\n\\item 1945\n\\item 1945\n\\item 1945\n\\item 1945\n\\item 1945\n\\item 1945\n\\item 1945\n\\item 1945\n\\item 1945\n\\item 1945\n\\item 1945\n\\item 1945\n\\item 1945\n\\item 1945\n\\item 1945\n\\item 1945\n\\item 1945\n\\item 1945\n\\item 1955\n\\item 1955\n\\item 1955\n\\item 1955\n\\item 1960\n\\item 1960\n\\item 1960\n\\item 1960\n\\item 1934\n\\item 1934\n\\item 1934\n\\item 1934\n\\item 1947\n\\item 1947\n\\item 1947\n\\item 1947\n\\item 1980\n\\item 1980\n\\item 1980\n\\item 1980\n\\item 1963\n\\item 1963\n\\item 1963\n\\item 1963\n\\item 1961\n\\item 1961\n\\item 1961\n\\item 1961\n\\item 1945\n\\item 1945\n\\item 1945\n\\item 1945\n\\item 1974\n\\item 1974\n\\item 1974\n\\item 1974\n\\item 1964\n\\item 1964\n\\item 1964\n\\item 1964\n\\item 1938\n\\item 1938\n\\item 1938\n\\item 1938\n\\item 1976\n\\item 1976\n\\item 1976\n\\item 1976\n\\item 1974\n\\item 1974\n\\item 1974\n\\item 1974\n\\item ⋯\n\\item 1965\n\\item 1965\n\\item 1965\n\\item 1965\n\\item 1979\n\\item 1979\n\\item 1979\n\\item 1979\n\\item 1954\n\\item 1954\n\\item 1954\n\\item 1954\n\\item 1976\n\\item 1976\n\\item 1976\n\\item 1976\n\\item 1973\n\\item 1973\n\\item 1973\n\\item 1973\n\\item 1969\n\\item 1969\n\\item 1969\n\\item 1969\n\\item 1969\n\\item 1969\n\\item 1969\n\\item 1969\n\\item 1969\n\\item 1969\n\\item 1969\n\\item 1969\n\\item 1969\n\\item 1969\n\\item 1969\n\\item 1969\n\\item 1959\n\\item 1959\n\\item 1959\n\\item 1959\n\\item 1973\n\\item 1973\n\\item 1973\n\\item 1973\n\\item 1962\n\\item 1962\n\\item 1962\n\\item 1962\n\\item 1974\n\\item 1974\n\\item 1974\n\\item 1974\n\\item 1969\n\\item 1969\n\\item 1969\n\\item 1969\n\\item 1975\n\\item 1975\n\\item 1975\n\\item 1975\n\\item 1941\n\\item 1941\n\\item 1941\n\\item 1941\n\\item 1960\n\\item 1960\n\\item 1960\n\\item 1960\n\\item 1943\n\\item 1943\n\\item 1943\n\\item 1943\n\\item 1950\n\\item 1950\n\\item 1950\n\\item 1950\n\\item 1982\n\\item 1982\n\\item 1982\n\\item 1982\n\\item 1979\n\\item 1979\n\\item 1979\n\\item 1979\n\\item 1979\n\\item 1979\n\\item 1979\n\\item 1979\n\\item 1979\n\\item 1979\n\\item 1979\n\\item 1979\n\\item 1979\n\\item 1979\n\\item 1979\n\\item 1979\n\\item 1979\n\\item 1979\n\\item 1979\n\\item 1979\n\\item 1979\n\\item 1979\n\\item 1979\n\\item 1979\n\\item 1979\n\\item 1979\n\\item 1979\n\\item 1979\n\\item 1979\n\\item 1979\n\\item 1979\n\\item 1979\n\\item 1979\n\\item 1979\n\\item 1979\n\\item 1979\n\\item 1979\n\\item 1979\n\\item 1979\n\\item 1979\n\\item 1976\n\\item 1976\n\\item 1976\n\\item 1976\n\\item 1945\n\\item 1945\n\\item 1945\n\\item 1945\n\\item 1956\n\\item 1956\n\\item 1956\n\\item 1956\n\\item 1961\n\\item 1961\n\\item 1961\n\\item 1961\n\\item 1967\n\\item 1967\n\\item 1967\n\\item 1967\n\\item 1974\n\\item 1974\n\\item 1974\n\\item 1974\n\\item 1974\n\\item 1974\n\\item 1974\n\\item 1974\n\\item 1974\n\\item 1974\n\\item 1974\n\\item 1974\n\\item 1974\n\\item 1974\n\\item 1974\n\\item 1974\n\\item 1977\n\\item 1977\n\\item 1977\n\\item 1977\n\\item 1952\n\\item 1952\n\\item 1952\n\\item 1952\n\\item 1962\n\\item 1962\n\\item 1962\n\\item 1962\n\\item 1962\n\\item 1962\n\\item 1962\n\\item 1962\n\\item 1962\n\\item 1962\n\\item 1962\n\\item 1962\n\\item 1962\n\\item 1962\n\\item 1962\n\\item 1962\n\\item 1976\n\\item 1976\n\\item 1976\n\\item 1976\n\\item 1963\n\\item 1963\n\\item 1963\n\\item 1963\n\\item 1938\n\\item 1938\n\\item 1938\n\\item 1938\n\\item 1950\n\\item 1950\n\\item 1950\n\\item 1950\n\\item 1956\n\\item 1956\n\\item 1956\n\\item 1956\n\\end{enumerate*}\n",
            "text/plain": [
              "    [1] 1983 1983 1983 1983 1943 1943 1943 1943 1972 1972 1972 1972 1976 1976\n",
              "   [15] 1976 1976 1942 1942 1942 1942 1960 1960 1960 1960 1947 1947 1947 1947\n",
              "   [29] 1948 1948 1948 1948 1973 1973 1973 1973 1990 1990 1990 1990 1953 1953\n",
              "   [43] 1953 1953 1979 1979 1979 1979 1979 1979 1979 1979 1979 1979 1979 1979\n",
              "   [57] 1979 1979 1979 1979 1969 1969 1969 1969 1968 1968 1968 1968 1972 1972\n",
              "   [71] 1972 1972 1934 1934 1934 1934 1961 1961 1961 1961 1959 1959 1959 1959\n",
              "   [85] 1977 1977 1977 1977 1975 1975 1975 1975 1943 1943 1943 1943 1962 1962\n",
              "   [99] 1962 1962 1940 1940 1940 1940 1953 1953 1953 1953 1973 1973 1973 1973\n",
              "  [113] 1969 1969 1969 1969 1969 1969 1969 1969 1948 1948 1948 1948 1972 1972\n",
              "  [127] 1972 1972 1945 1945 1945 1945 1945 1945 1945 1945 1945 1945 1945 1945\n",
              "  [141] 1945 1945 1945 1945 1945 1945 1945 1945 1955 1955 1955 1955 1960 1960\n",
              "  [155] 1960 1960 1934 1934 1934 1934 1947 1947 1947 1947 1980 1980 1980 1980\n",
              "  [169] 1963 1963 1963 1963 1961 1961 1961 1961 1945 1945 1945 1945 1974 1974\n",
              "  [183] 1974 1974 1964 1964 1964 1964 1938 1938 1938 1938 1976 1976 1976 1976\n",
              "  [197] 1974 1974 1974 1974 1938 1938 1938 1938 1938 1938 1938 1938 1938 1938\n",
              "  [211] 1938 1938 1938 1938 1938 1938 1942 1942 1942 1942 1938 1938 1938 1938\n",
              "  [225] 1961 1961 1961 1961 1951 1951 1951 1951 1982 1982 1982 1982 1978 1978\n",
              "  [239] 1978 1978 1958 1958 1958 1958 1975 1975 1975 1975 1971 1971 1971 1971\n",
              "  [253] 1966 1966 1966 1966 1969 1969 1969 1969 1959 1959 1959 1959 1944 1944\n",
              "  [267] 1944 1944 1944 1944 1944 1944 1944 1944 1944 1944 1944 1944 1944 1944\n",
              "  [281] 1958 1958 1958 1958 1941 1941 1941 1941 1943 1943 1943 1943 1935 1935\n",
              "  [295] 1935 1935 1975 1975 1975 1975 1940 1940 1940 1940 1975 1975 1975 1975\n",
              "  [309] 1971 1971 1971 1971 1982 1982 1982 1982 1972 1972 1972 1972 1966 1966\n",
              "  [323] 1966 1966 1952 1952 1952 1952 1982 1982 1982 1982 1982 1982 1982 1982\n",
              "  [337] 1982 1982 1982 1982 1982 1982 1982 1982 1953 1953 1953 1953 1981 1981\n",
              "  [351] 1981 1981 1932 1932 1932 1932 1951 1951 1951 1951 1978 1978 1978 1978\n",
              "  [365] 1977 1977 1977 1977 1977 1977 1977 1977 1977 1977 1977 1977 1977 1977\n",
              "  [379] 1977 1977 1953 1953 1953 1953 1978 1978 1978 1978 1978 1978 1978 1978\n",
              "  [393] 1978 1978 1978 1978 1978 1978 1978 1978 1932 1932 1932 1932 1975 1975\n",
              "  [407] 1975 1975 1955 1955 1955 1955 1957 1957 1957 1957 1950 1950 1950 1950\n",
              "  [421] 1952 1952 1952 1952 1939 1939 1939 1939 1965 1965 1965 1965 1980 1980\n",
              "  [435] 1980 1980 1966 1966 1966 1966 1958 1958 1958 1958 1958 1958 1958 1958\n",
              "  [449] 1958 1958 1958 1958 1958 1958 1958 1958 1976 1976 1976 1976 1982 1982\n",
              "  [463] 1982 1982 1982 1982 1982 1982 1962 1962 1962 1962 1976 1976 1976 1976\n",
              "  [477] 1981 1981 1981 1981 1981 1981 1981 1981 1981 1981 1981 1981 1981 1981\n",
              "  [491] 1981 1981 1959 1959 1959 1959 1946 1946 1946 1946 1967 1967 1967 1967\n",
              "  [505] 1958 1958 1958 1958 1980 1980 1980 1980 1966 1966 1966 1966 1948 1948\n",
              "  [519] 1948 1948 1949 1949 1949 1949 1949 1949 1949 1949 1949 1949 1949 1949\n",
              "  [533] 1949 1949 1949 1949 1973 1973 1973 1973 1940 1940 1940 1940 1948 1948\n",
              "  [547] 1948 1948 1971 1971 1971 1971 1966 1966 1966 1966 1945 1945 1945 1945\n",
              "  [561] 1938 1938 1938 1938 1981 1981 1981 1981 1939 1939 1939 1939 1935 1935\n",
              "  [575] 1935 1935 1981 1981 1981 1981 1946 1946 1946 1946 1960 1960 1960 1960\n",
              "  [589] 1962 1962 1962 1962 1962 1962 1962 1962 1962 1962 1962 1962 1962 1962\n",
              "  [603] 1962 1962 1972 1972 1972 1972 1974 1974 1974 1974 1940 1940 1940 1940\n",
              "  [617] 1972 1972 1972 1972 1949 1949 1949 1949 1971 1971 1971 1971 1945 1945\n",
              "  [631] 1945 1945 1957 1957 1957 1957 1948 1948 1948 1948 1958 1958 1958 1958\n",
              "  [645] 1969 1969 1969 1969 1971 1971 1971 1971 1970 1970 1970 1970 1959 1959\n",
              "  [659] 1959 1959 1959 1959 1959 1959 1959 1959 1959 1959 1959 1959 1959 1959\n",
              "  [673] 1975 1975 1975 1975 1975 1975 1975 1975 1975 1975 1975 1975 1975 1975\n",
              "  [687] 1975 1975 1941 1941 1941 1941 1941 1941 1941 1941 1941 1941 1941 1941\n",
              "  [701] 1941 1941 1941 1941 1965 1965 1965 1965 1948 1948 1948 1948 1948 1948\n",
              "  [715] 1948 1948 1948 1948 1948 1948 1948 1948 1948 1948 1973 1973 1973 1973\n",
              "  [729] 1975 1975 1975 1975 1978 1978 1978 1978 1953 1953 1953 1953 1981 1981\n",
              "  [743] 1981 1981 1935 1935 1935 1935 1944 1944 1944 1944 1982 1982 1982 1982\n",
              "  [757] 1975 1975 1975 1975 1936 1936 1936 1936 1972 1972 1972 1972 1943 1943\n",
              "  [771] 1943 1943 1949 1949 1949 1949 1944 1944 1944 1944 1948 1948 1948 1948\n",
              "  [785] 1954 1954 1954 1954 1966 1966 1966 1966 1933 1933 1933 1933 1939 1939\n",
              "  [799] 1939 1939 1979 1979 1979 1979 1953 1953 1953 1953 1975 1975 1975 1975\n",
              "  [813] 1975 1975 1975 1975 1975 1975 1975 1975 1975 1975 1975 1975 1947 1947\n",
              "  [827] 1947 1947 1960 1960 1960 1960 1960 1960 1960 1960 1960 1960 1960 1960\n",
              "  [841] 1960 1960 1960 1960 1971 1971 1971 1971 1980 1980 1980 1980 1955 1955\n",
              "  [855] 1955 1955 1932 1932 1932 1932 1959 1959 1959 1959 1977 1977 1977 1977\n",
              "  [869] 1969 1969 1969 1969 1964 1964 1964 1964 1950 1950 1950 1950 1981 1981\n",
              "  [883] 1981 1981 1981 1981 1981 1981 1981 1981 1981 1981 1981 1981 1981 1981\n",
              "  [897] 1958 1958 1958 1958 1974 1974 1974 1974 1950 1950 1950 1950 1971 1971\n",
              "  [911] 1971 1971 1962 1962 1962 1962 1962 1962 1962 1962 1962 1962 1962 1962\n",
              "  [925] 1962 1962 1962 1962 1942 1942 1942 1942 1957 1957 1957 1957 1953 1953\n",
              "  [939] 1953 1953 1946 1946 1946 1946 1961 1961 1961 1961 1976 1976 1976 1976\n",
              "  [953] 1979 1979 1979 1979 1979 1979 1979 1979 1979 1979 1979 1979 1979 1979\n",
              "  [967] 1979 1979 1979 1979 1979 1979 1979 1979 1979 1979 1979 1979 1979 1979\n",
              "  [981] 1979 1979 1979 1979 1979 1979 1979 1979 1941 1941 1941 1941 1975 1975\n",
              "  [995] 1975 1975 1975 1975 1975 1975 1975 1975 1975 1975 1975 1975 1975 1975\n",
              " [1009] 1975 1975 1975 1975 1969 1969 1969 1969 1948 1948 1948 1948 1949 1949\n",
              " [1023] 1949 1949 1976 1976 1976 1976 1972 1972 1972 1972 1940 1940 1940 1940\n",
              " [1037] 1982 1982 1982 1982 1940 1940 1940 1940 1956 1956 1956 1956 1970 1970\n",
              " [1051] 1970 1970 1971 1971 1971 1971 1950 1950 1950 1950 1963 1963 1963 1963\n",
              " [1065] 1966 1966 1966 1966 1961 1961 1961 1961 1972 1972 1972 1972 1948 1948\n",
              " [1079] 1948 1948 1938 1938 1938 1938 1956 1956 1956 1956 1962 1962 1962 1962\n",
              " [1093] 1972 1972 1972 1972 1954 1954 1954 1954 1954 1954 1954 1954 1954 1954\n",
              " [1107] 1954 1954 1954 1954 1954 1954 1941 1941 1941 1941 1962 1962 1962 1962\n",
              " [1121] 1976 1976 1976 1976 1978 1978 1978 1978 1978 1978 1978 1978 1978 1978\n",
              " [1135] 1978 1978 1978 1978 1978 1978 1940 1940 1940 1940 1946 1946 1946 1946\n",
              " [1149] 1940 1940 1940 1940 1969 1969 1969 1969 1954 1954 1954 1954 1951 1951\n",
              " [1163] 1951 1951 1975 1975 1975 1975 1973 1973 1973 1973 1957 1957 1957 1957\n",
              " [1177] 1983 1983 1983 1983 1973 1973 1973 1973 1972 1972 1972 1972 1950 1950\n",
              " [1191] 1950 1950 1936 1936 1936 1936 1941 1941 1941 1941 1936 1936 1936 1936\n",
              " [1205] 1956 1956 1956 1956 1962 1962 1962 1962 1962 1962 1962 1962 1962 1962\n",
              " [1219] 1962 1962 1962 1962 1962 1962 1975 1975 1975 1975 1946 1946 1946 1946\n",
              " [1233] 1967 1967 1967 1967 1948 1948 1948 1948 1972 1972 1972 1972 1982 1982\n",
              " [1247] 1982 1982 1938 1938 1938 1938 1973 1973 1973 1973 1969 1969 1969 1969\n",
              " [1261] 1961 1961 1961 1961 1936 1936 1936 1936 1985 1985 1985 1985 1948 1948\n",
              " [1275] 1948 1948 1948 1948 1948 1948 1948 1948 1948 1948 1948 1948 1948 1948\n",
              " [1289] 1975 1975 1975 1975 1955 1955 1955 1955 1961 1961 1961 1961 1961 1961\n",
              " [1303] 1961 1961 1961 1961 1961 1961 1961 1961 1961 1961 1938 1938 1938 1938\n",
              " [1317] 1967 1967 1967 1967 1964 1964 1964 1964 1947 1947 1947 1947 1947 1947\n",
              " [1331] 1947 1947 1947 1947 1947 1947 1947 1947 1947 1947 1978 1978 1978 1978\n",
              " [1345] 1967 1967 1967 1967 1975 1975 1975 1975 1975 1975 1975 1975 1975 1975\n",
              " [1359] 1975 1975 1975 1975 1975 1975 1946 1946 1946 1946 1981 1981 1981 1981\n",
              " [1373] 1979 1979 1979 1979 1964 1964 1964 1964 1961 1961 1961 1961 1968 1968\n",
              " [1387] 1968 1968 1934 1934 1934 1934 1968 1968 1968 1968 1943 1943 1943 1943\n",
              " [1401] 1953 1953 1953 1953 1973 1973 1973 1973 1979 1979 1979 1979 1941 1941\n",
              " [1415] 1941 1941 1951 1951 1951 1951 1979 1979 1979 1979 1938 1938 1938 1938\n",
              " [1429] 1937 1937 1937 1937 1937 1937 1937 1937 1937 1937 1937 1937 1937 1937\n",
              " [1443] 1937 1937 1933 1933 1933 1933 1983 1983 1983 1983 1944 1944 1944 1944\n",
              " [1457] 1977 1977 1977 1977 1962 1962 1962 1962 1957 1957 1957 1957 1953 1953\n",
              " [1471] 1953 1953 1963 1963 1963 1963 1973 1973 1973 1973 1965 1965 1965 1965\n",
              " [1485] 1952 1952 1952 1952 1950 1950 1950 1950 1982 1982 1982 1982 1952 1952\n",
              " [1499] 1952 1952 1984 1984 1984 1984 1976 1976 1976 1976 1932 1932 1932 1932\n",
              " [1513] 1967 1967 1967 1967 1958 1958 1958 1958 1970 1970 1970 1970 1943 1943\n",
              " [1527] 1943 1943 1964 1964 1964 1964 1971 1971 1971 1971 1975 1975 1975 1975\n",
              " [1541] 1975 1975 1975 1975 1975 1975 1975 1975 1975 1975 1975 1975 1958 1958\n",
              " [1555] 1958 1958 1967 1967 1967 1967 1962 1962 1962 1962 1976 1976 1976 1976\n",
              " [1569] 1978 1978 1978 1978 1944 1944 1944 1944 1944 1944 1944 1944 1944 1944\n",
              " [1583] 1944 1944 1944 1944 1944 1944 1978 1978 1978 1978 1974 1974 1974 1974\n",
              " [1597] 1968 1968 1968 1968 1968 1968 1968 1968 1941 1941 1941 1941 1965 1965\n",
              " [1611] 1965 1965 1972 1972 1972 1972 1964 1964 1964 1964 1964 1964 1964 1964\n",
              " [1625] 1941 1941 1941 1941 1984 1984 1984 1984 1982 1982 1982 1982 1984 1984\n",
              " [1639] 1984 1984 1937 1937 1937 1937 1931 1931 1931 1931 1977 1977 1977 1977\n",
              " [1653] 1977 1977 1977 1977 1960 1960 1960 1960 1955 1955 1955 1955 1983 1983\n",
              " [1667] 1983 1983 1977 1977 1977 1977 1959 1959 1959 1959 1973 1973 1973 1973\n",
              " [1681] 1963 1963 1963 1963 1973 1973 1973 1973 1953 1953 1953 1953 1935 1935\n",
              " [1695] 1935 1935 1957 1957 1957 1957 1980 1980 1980 1980 1931 1931 1931 1931\n",
              " [1709] 1954 1954 1954 1954 1973 1973 1973 1973 1973 1973 1973 1973 1973 1973\n",
              " [1723] 1973 1973 1973 1973 1973 1973 1978 1978 1978 1978 1953 1953 1953 1953\n",
              " [1737] 1953 1953 1953 1953 1953 1953 1953 1953 1953 1953 1953 1953 1969 1969\n",
              " [1751] 1969 1969 1944 1944 1944 1944 1982 1982 1982 1982 1982 1982 1982 1982\n",
              " [1765] 1982 1982 1982 1982 1982 1982 1982 1982 1938 1938 1938 1938 1938 1938\n",
              " [1779] 1938 1938 1938 1938 1938 1938 1938 1938 1938 1938 1956 1956 1956 1956\n",
              " [1793] 1970 1970 1970 1970 1970 1970 1970 1970 1970 1970 1970 1970 1970 1970\n",
              " [1807] 1970 1970 1982 1982 1982 1982 1947 1947 1947 1947 1966 1966 1966 1966\n",
              " [1821] 1950 1950 1950 1950 1968 1968 1968 1968 1968 1968 1968 1968 1968 1968\n",
              " [1835] 1968 1968 1968 1968 1968 1968 1975 1975 1975 1975 1975 1975 1975 1975\n",
              " [1849] 1975 1975 1975 1975 1975 1975 1975 1975 1952 1952 1952 1952 1974 1974\n",
              " [1863] 1974 1974 1949 1949 1949 1949 1971 1971 1971 1971 1975 1975 1975 1975\n",
              " [1877] 1966 1966 1966 1966 1969 1969 1969 1969 1980 1980 1980 1980 1967 1967\n",
              " [1891] 1967 1967 1958 1958 1958 1958 1958 1958 1958 1958 1958 1958 1958 1958\n",
              " [1905] 1958 1958 1958 1958 1963 1963 1963 1963 1966 1966 1966 1966 1976 1976\n",
              " [1919] 1976 1976 1976 1976 1976 1976 1976 1976 1976 1976 1976 1976 1976 1976\n",
              " [1933] 1957 1957 1957 1957 1980 1980 1980 1980 1950 1950 1950 1950 1933 1933\n",
              " [1947] 1933 1933 1974 1974 1974 1974 1941 1941 1941 1941 1964 1964 1964 1964\n",
              " [1961] 1974 1974 1974 1974 1979 1979 1979 1979 1972 1972 1972 1972 1965 1965\n",
              " [1975] 1965 1965 1939 1939 1939 1939 1972 1972 1972 1972 1940 1940 1940 1940\n",
              " [1989] 1940 1940 1940 1940 1940 1940 1940 1940 1940 1940 1940 1940 1951 1951\n",
              " [2003] 1951 1951 1942 1942 1942 1942 1972 1972 1972 1972 1961 1961 1961 1961\n",
              " [2017] 1968 1968 1968 1968 1965 1965 1965 1965 1949 1949 1949 1949 1980 1980\n",
              " [2031] 1980 1980 1955 1955 1955 1955 1945 1945 1945 1945 1963 1963 1963 1963\n",
              " [2045] 1949 1949 1949 1949 1949 1949 1949 1949 1949 1949 1949 1949 1949 1949\n",
              " [2059] 1949 1949 1974 1974 1974 1974 1961 1961 1961 1961 1946 1946 1946 1946\n",
              " [2073] 1972 1972 1972 1972 1948 1948 1948 1948 1947 1947 1947 1947 1964 1964\n",
              " [2087] 1964 1964 1959 1959 1959 1959 1986 1986 1986 1986 1944 1944 1944 1944\n",
              " [2101] 1964 1964 1964 1964 1970 1970 1970 1970 1969 1969 1969 1969 1968 1968\n",
              " [2115] 1968 1968 1975 1975 1975 1975 1959 1959 1959 1959 1939 1939 1939 1939\n",
              " [2129] 1958 1958 1958 1958 1958 1958 1958 1958 1981 1981 1981 1981 1981 1981\n",
              " [2143] 1981 1981 1981 1981 1981 1981 1981 1981 1981 1981 1950 1950 1950 1950\n",
              " [2157] 1950 1950 1950 1950 1950 1950 1950 1950 1950 1950 1950 1950 1973 1973\n",
              " [2171] 1973 1973 1973 1973 1973 1973 1973 1973 1973 1973 1973 1973 1973 1973\n",
              " [2185] 1954 1954 1954 1954 1935 1935 1935 1935 1935 1935 1935 1935 1935 1935\n",
              " [2199] 1935 1935 1935 1935 1935 1935 1956 1956 1956 1956 1976 1976 1976 1976\n",
              " [2213] 1977 1977 1977 1977 1977 1977 1977 1977 1977 1977 1977 1977 1977 1977\n",
              " [2227] 1977 1977 1977 1977 1977 1977 1978 1978 1978 1978 1971 1971 1971 1971\n",
              " [2241] 1978 1978 1978 1978 1934 1934 1934 1934 1934 1934 1934 1934 1934 1934\n",
              " [2255] 1934 1934 1934 1934 1934 1934 1967 1967 1967 1967 1970 1970 1970 1970\n",
              " [2269] 1976 1976 1976 1976 1970 1970 1970 1970 1961 1961 1961 1961 1979 1979\n",
              " [2283] 1979 1979 1958 1958 1958 1958 1973 1973 1973 1973 1975 1975 1975 1975\n",
              " [2297] 1967 1967 1967 1967 1977 1977 1977 1977 1936 1936 1936 1936 1944 1944\n",
              " [2311] 1944 1944 1969 1969 1969 1969 1972 1972 1972 1972 1955 1955 1955 1955\n",
              " [2325] 1967 1967 1967 1967 1967 1967 1967 1967 1967 1967 1967 1967 1967 1967\n",
              " [2339] 1967 1967 1948 1948 1948 1948 1942 1942 1942 1942 1980 1980 1980 1980\n",
              " [2353] 1980 1980 1980 1980 1980 1980 1980 1980 1980 1980 1980 1980 1939 1939\n",
              " [2367] 1939 1939 1954 1954 1954 1954 1972 1972 1972 1972 1976 1976 1976 1976\n",
              " [2381] 1971 1971 1971 1971 1965 1965 1965 1965 1936 1936 1936 1936 1936 1936\n",
              " [2395] 1936 1936 1936 1936 1936 1936 1936 1936 1936 1936 1945 1945 1945 1945\n",
              " [2409] 1964 1964 1964 1964 1983 1983 1983 1983 1956 1956 1956 1956 1935 1935\n",
              " [2423] 1935 1935 1953 1953 1953 1953 1951 1951 1951 1951 1956 1956 1956 1956\n",
              " [2437] 1938 1938 1938 1938 1977 1977 1977 1977 1959 1959 1959 1959 1960 1960\n",
              " [2451] 1960 1960 1948 1948 1948 1948 1948 1948 1948 1948 1948 1948 1948 1948\n",
              " [2465] 1948 1948 1948 1948 1971 1971 1971 1971 1952 1952 1952 1952 1977 1977\n",
              " [2479] 1977 1977 1977 1977 1977 1977 1977 1977 1977 1977 1977 1977 1977 1977\n",
              " [2493] 1977 1977 1977 1977 1977 1977 1977 1977 1977 1977 1977 1977 1977 1977\n",
              " [2507] 1977 1977 1977 1977 1977 1977 1969 1969 1969 1969 1969 1969 1969 1969\n",
              " [2521] 1969 1969 1969 1969 1969 1969 1969 1969 1963 1963 1963 1963 1972 1972\n",
              " [2535] 1972 1972 1975 1975 1975 1975 1946 1946 1946 1946 1967 1967 1967 1967\n",
              " [2549] 1944 1944 1944 1944 1957 1957 1957 1957 1946 1946 1946 1946 1942 1942\n",
              " [2563] 1942 1942 1955 1955 1955 1955 1959 1959 1959 1959 1932 1932 1932 1932\n",
              " [2577] 1973 1973 1973 1973 1973 1973 1973 1973 1973 1973 1973 1973 1973 1973\n",
              " [2591] 1973 1973 1969 1969 1969 1969 1945 1945 1945 1945 1984 1984 1984 1984\n",
              " [2605] 1981 1981 1981 1981 1958 1958 1958 1958 1974 1974 1974 1974 1942 1942\n",
              " [2619] 1942 1942 1934 1934 1934 1934 1968 1968 1968 1968 1968 1968 1968 1968\n",
              " [2633] 1968 1968 1968 1968 1968 1968 1968 1968 1943 1943 1943 1943 1963 1963\n",
              " [2647] 1963 1963 1967 1967 1967 1967 1973 1973 1973 1973 1972 1972 1972 1972\n",
              " [2661] 1971 1971 1971 1971 1938 1938 1938 1938 1945 1945 1945 1945 1942 1942\n",
              " [2675] 1942 1942 1967 1967 1967 1967 1980 1980 1980 1980 1980 1980 1980 1980\n",
              " [2689] 1980 1980 1980 1980 1980 1980 1980 1980 1977 1977 1977 1977 1969 1969\n",
              " [2703] 1969 1969 1943 1943 1943 1943 1974 1974 1974 1974 1976 1976 1976 1976\n",
              " [2717] 1975 1975 1975 1975 1974 1974 1974 1974 1944 1944 1944 1944 1966 1966\n",
              " [2731] 1966 1966 1934 1934 1934 1934 1966 1966 1966 1966 1938 1938 1938 1938\n",
              " [2745] 1970 1970 1970 1970 1961 1961 1961 1961 1945 1945 1945 1945 1984 1984\n",
              " [2759] 1984 1984 1951 1951 1951 1951 1951 1951 1951 1951 1965 1965 1965 1965\n",
              " [2773] 1970 1970 1970 1970 1977 1977 1977 1977 1949 1949 1949 1949 1936 1936\n",
              " [2787] 1936 1936 1954 1954 1954 1954 1973 1973 1973 1973 1963 1963 1963 1963\n",
              " [2801] 1970 1970 1970 1970 1950 1950 1950 1950 1951 1951 1951 1951 1966 1966\n",
              " [2815] 1966 1966 1978 1978 1978 1978 1957 1957 1957 1957 1940 1940 1940 1940\n",
              " [2829] 1976 1976 1976 1976 1973 1973 1973 1973 1976 1976 1976 1976 1957 1957\n",
              " [2843] 1957 1957 1957 1957 1957 1957 1957 1957 1957 1957 1957 1957 1957 1957\n",
              " [2857] 1969 1969 1969 1969 1969 1969 1969 1969 1969 1969 1969 1969 1969 1969\n",
              " [2871] 1969 1969 1981 1981 1981 1981 1961 1961 1961 1961 1950 1950 1950 1950\n",
              " [2885] 1979 1979 1979 1979 1971 1971 1971 1971 1942 1942 1942 1942 1976 1976\n",
              " [2899] 1976 1976 1941 1941 1941 1941 1966 1966 1966 1966 1960 1960 1960 1960\n",
              " [2913] 1933 1933 1933 1933 1933 1933 1933 1933 1933 1933 1933 1933 1933 1933\n",
              " [2927] 1933 1933 1955 1955 1955 1955 1965 1965 1965 1965 1965 1965 1965 1965\n",
              " [2941] 1965 1965 1965 1965 1965 1965 1965 1965 1954 1954 1954 1954 1981 1981\n",
              " [2955] 1981 1981 1975 1975 1975 1975 1942 1942 1942 1942 1970 1970 1970 1970\n",
              " [2969] 1960 1960 1960 1960 1973 1973 1973 1973 1968 1968 1968 1968 1975 1975\n",
              " [2983] 1975 1975 1974 1974 1974 1974 1932 1932 1932 1932 1965 1965 1965 1965\n",
              " [2997] 1943 1943 1943 1943 1982 1982 1982 1982 1982 1982 1982 1982 1982 1982\n",
              " [3011] 1982 1982 1982 1982 1982 1982 1942 1942 1942 1942 1964 1964 1964 1964\n",
              " [3025] 1964 1964 1964 1964 1977 1977 1977 1977 1931 1931 1931 1931 1931 1931\n",
              " [3039] 1931 1931 1931 1931 1931 1931 1931 1931 1931 1931 1968 1968 1968 1968\n",
              " [3053] 1959 1959 1959 1959 1948 1948 1948 1948 1953 1953 1953 1953 1946 1946\n",
              " [3067] 1946 1946 1967 1967 1967 1967 1952 1952 1952 1952 1970 1970 1970 1970\n",
              " [3081] 1977 1977 1977 1977 1974 1974 1974 1974 1974 1974 1974 1974 1974 1974\n",
              " [3095] 1974 1974 1974 1974 1974 1974 1977 1977 1977 1977 1974 1974 1974 1974\n",
              " [3109] 1972 1972 1972 1972 1949 1949 1949 1949 1945 1945 1945 1945 1939 1939\n",
              " [3123] 1939 1939 1971 1971 1971 1971 1944 1944 1944 1944 1963 1963 1963 1963\n",
              " [3137] 1973 1973 1973 1973 1953 1953 1953 1953 1933 1933 1933 1933 1955 1955\n",
              " [3151] 1955 1955 1975 1975 1975 1975 1957 1957 1957 1957 1969 1969 1969 1969\n",
              " [3165] 1957 1957 1957 1957 1978 1978 1978 1978 1961 1961 1961 1961 1961 1961\n",
              " [3179] 1961 1961 1961 1961 1961 1961 1961 1961 1961 1961 1970 1970 1970 1970\n",
              " [3193] 1943 1943 1943 1943 1952 1952 1952 1952 1971 1971 1971 1971 1971 1971\n",
              " [3207] 1971 1971 1971 1971 1971 1971 1971 1971 1971 1971 1982 1982 1982 1982\n",
              " [3221] 1982 1982 1982 1982 1982 1982 1982 1982 1982 1982 1982 1982 1968 1968\n",
              " [3235] 1968 1968 1953 1953 1953 1953 1972 1972 1972 1972 1967 1967 1967 1967\n",
              " [3249] 1960 1960 1960 1960 1960 1960 1960 1960 1960 1960 1960 1960 1960 1960\n",
              " [3263] 1960 1960 1941 1941 1941 1941 1941 1941 1941 1941 1941 1941 1941 1941\n",
              " [3277] 1941 1941 1941 1941 1937 1937 1937 1937 1970 1970 1970 1970 1971 1971\n",
              " [3291] 1971 1971 1971 1971 1971 1971 1971 1971 1971 1971 1971 1971 1971 1971\n",
              " [3305] 1947 1947 1947 1947 1951 1951 1951 1951 1951 1951 1951 1951 1951 1951\n",
              " [3319] 1951 1951 1951 1951 1951 1951 1943 1943 1943 1943 1950 1950 1950 1950\n",
              " [3333] 1981 1981 1981 1981 1981 1981 1981 1981 1981 1981 1981 1981 1981 1981\n",
              " [3347] 1981 1981 1949 1949 1949 1949 1961 1961 1961 1961 1961 1961 1961 1961\n",
              " [3361] 1961 1961 1961 1961 1961 1961 1961 1961 1976 1976 1976 1976 1976 1976\n",
              " [3375] 1976 1976 1976 1976 1976 1976 1976 1976 1976 1976 1975 1975 1975 1975\n",
              " [3389] 1959 1959 1959 1959 1963 1963 1963 1963 1946 1946 1946 1946 1946 1946\n",
              " [3403] 1946 1946 1950 1950 1950 1950 1945 1945 1945 1945 1949 1949 1949 1949\n",
              " [3417] 1939 1939 1939 1939 1977 1977 1977 1977 1973 1973 1973 1973 1971 1971\n",
              " [3431] 1971 1971 1943 1943 1943 1943 1930 1930 1930 1930 1953 1953 1953 1953\n",
              " [3445] 1971 1971 1971 1971 1939 1939 1939 1939 1947 1947 1947 1947 1957 1957\n",
              " [3459] 1957 1957 1973 1973 1973 1973 1973 1973 1973 1973 1973 1973 1973 1973\n",
              " [3473] 1973 1973 1973 1973 1970 1970 1970 1970 1944 1944 1944 1944 1935 1935\n",
              " [3487] 1935 1935 1935 1935 1935 1935 1935 1935 1935 1935 1935 1935 1935 1935\n",
              " [3501] 1952 1952 1952 1952 1972 1972 1972 1972 1969 1969 1969 1969 1969 1969\n",
              " [3515] 1969 1969 1969 1969 1969 1969 1969 1969 1969 1969 1948 1948 1948 1948\n",
              " [3529] 1972 1972 1972 1972 1980 1980 1980 1980 1960 1960 1960 1960 1961 1961\n",
              " [3543] 1961 1961 1973 1973 1973 1973 1973 1973 1973 1973 1973 1973 1973 1973\n",
              " [3557] 1973 1973 1973 1973 1971 1971 1971 1971 1974 1974 1974 1974 1951 1951\n",
              " [3571] 1951 1951 1958 1958 1958 1958 1975 1975 1975 1975 1981 1981 1981 1981\n",
              " [3585] 1947 1947 1947 1947 1947 1947 1947 1947 1947 1947 1947 1947 1947 1947\n",
              " [3599] 1947 1947 1941 1941 1941 1941 1944 1944 1944 1944 1974 1974 1974 1974\n",
              " [3613] 1973 1973 1973 1973 1958 1958 1958 1958 1975 1975 1975 1975 1965 1965\n",
              " [3627] 1965 1965 1955 1955 1955 1955 1955 1955 1955 1955 1955 1955 1955 1955\n",
              " [3641] 1955 1955 1955 1955 1972 1972 1972 1972 1962 1962 1962 1962 1954 1954\n",
              " [3655] 1954 1954 1965 1965 1965 1965 1976 1976 1976 1976 1948 1948 1948 1948\n",
              " [3669] 1956 1956 1956 1956 1956 1956 1956 1956 1956 1956 1956 1956 1956 1956\n",
              " [3683] 1956 1956 1984 1984 1984 1984 1950 1950 1950 1950 1971 1971 1971 1971\n",
              " [3697] 1969 1969 1969 1969 1960 1960 1960 1960 1944 1944 1944 1944 1944 1944\n",
              " [3711] 1944 1944 1948 1948 1948 1948 1970 1970 1970 1970 1970 1970 1970 1970\n",
              " [3725] 1970 1970 1970 1970 1970 1970 1970 1970 1967 1967 1967 1967 1967 1967\n",
              " [3739] 1967 1967 1956 1956 1956 1956 1956 1956 1956 1956 1956 1956 1956 1956\n",
              " [3753] 1956 1956 1956 1956 1969 1969 1969 1969 1948 1948 1948 1948 1977 1977\n",
              " [3767] 1977 1977 1973 1973 1973 1973 1968 1968 1968 1968 1952 1952 1952 1952\n",
              " [3781] 1977 1977 1977 1977 1965 1965 1965 1965 1970 1970 1970 1970 1939 1939\n",
              " [3795] 1939 1939 1941 1941 1941 1941 1942 1942 1942 1942 1967 1967 1967 1967\n",
              " [3809] 1981 1981 1981 1981 1950 1950 1950 1950 1947 1947 1947 1947 1968 1968\n",
              " [3823] 1968 1968 1968 1968 1968 1968 1968 1968 1968 1968 1968 1968 1968 1968\n",
              " [3837] 1971 1971 1971 1971 1974 1974 1974 1974 1961 1961 1961 1961 1946 1946\n",
              " [3851] 1946 1946 1951 1951 1951 1951 1962 1962 1962 1962 1947 1947 1947 1947\n",
              " [3865] 1974 1974 1974 1974 1940 1940 1940 1940 1947 1947 1947 1947 1977 1977\n",
              " [3879] 1977 1977 1961 1961 1961 1961 1961 1961 1961 1961 1961 1961 1961 1961\n",
              " [3893] 1961 1961 1961 1961 1968 1968 1968 1968 1955 1955 1955 1955 1947 1947\n",
              " [3907] 1947 1947 1978 1978 1978 1978 1962 1962 1962 1962 1976 1976 1976 1976\n",
              " [3921] 1941 1941 1941 1941 1956 1956 1956 1956 1973 1973 1973 1973 1968 1968\n",
              " [3935] 1968 1968 1960 1960 1960 1960 1981 1981 1981 1981 1979 1979 1979 1979\n",
              " [3949] 1971 1971 1971 1971 1949 1949 1949 1949 1977 1977 1977 1977 1978 1978\n",
              " [3963] 1978 1978 1953 1953 1953 1953 1972 1972 1972 1972 1952 1952 1952 1952\n",
              " [3977] 1972 1972 1972 1972 1957 1957 1957 1957 1979 1979 1979 1979 1965 1965\n",
              " [3991] 1965 1965 1952 1952 1952 1952 1952 1952 1952 1952 1952 1952 1952 1952\n",
              " [4005] 1952 1952 1952 1952 1980 1980 1980 1980 1955 1955 1955 1955 1943 1943\n",
              " [4019] 1943 1943 1943 1943 1943 1943 1943 1943 1943 1943 1943 1943 1943 1943\n",
              " [4033] 1950 1950 1950 1950 1981 1981 1981 1981 1959 1959 1959 1959 1959 1959\n",
              " [4047] 1959 1959 1959 1959 1959 1959 1959 1959 1959 1959 1971 1971 1971 1971\n",
              " [4061] 1975 1975 1975 1975 1956 1956 1956 1956 1938 1938 1938 1938 1964 1964\n",
              " [4075] 1964 1964 1952 1952 1952 1952 1967 1967 1967 1967 1980 1980 1980 1980\n",
              " [4089] 1978 1978 1978 1978 1965 1965 1965 1965 1956 1956 1956 1956 1937 1937\n",
              " [4103] 1937 1937 1953 1953 1953 1953 1943 1943 1943 1943 1939 1939 1939 1939\n",
              " [4117] 1947 1947 1947 1947 1971 1971 1971 1971 1963 1963 1963 1963 1965 1965\n",
              " [4131] 1965 1965 1935 1935 1935 1935 1984 1984 1984 1984 1941 1941 1941 1941\n",
              " [4145] 1934 1934 1934 1934 1957 1957 1957 1957 1980 1980 1980 1980 1962 1962\n",
              " [4159] 1962 1962 1971 1971 1971 1971 1974 1974 1974 1974 1979 1979 1979 1979\n",
              " [4173] 1934 1934 1934 1934 1958 1958 1958 1958 1949 1949 1949 1949 1955 1955\n",
              " [4187] 1955 1955 1951 1951 1951 1951 1964 1964 1964 1964 1943 1943 1943 1943\n",
              " [4201] 1952 1952 1952 1952 1968 1968 1968 1968 1968 1968 1968 1968 1968 1968\n",
              " [4215] 1968 1968 1968 1968 1968 1968 1968 1968 1968 1968 1976 1976 1976 1976\n",
              " [4229] 1976 1976 1976 1976 1976 1976 1976 1976 1976 1976 1976 1976 1965 1965\n",
              " [4243] 1965 1965 1944 1944 1944 1944 1981 1981 1981 1981 1972 1972 1972 1972\n",
              " [4257] 1970 1970 1970 1970 1975 1975 1975 1975 1951 1951 1951 1951 1951 1951\n",
              " [4271] 1951 1951 1951 1951 1951 1951 1951 1951 1951 1951 1966 1966 1966 1966\n",
              " [4285] 1965 1965 1965 1965 1968 1968 1968 1968 1983 1983 1983 1983 1975 1975\n",
              " [4299] 1975 1975 1940 1940 1940 1940 1941 1941 1941 1941 1944 1944 1944 1944\n",
              " [4313] 1984 1984 1984 1984 1968 1968 1968 1968 1960 1960 1960 1960 1973 1973\n",
              " [4327] 1973 1973 1941 1941 1941 1941 1936 1936 1936 1936 1964 1964 1964 1964\n",
              " [4341] 1964 1964 1964 1964 1964 1964 1964 1964 1964 1964 1964 1964 1964 1964\n",
              " [4355] 1964 1964 1958 1958 1958 1958 1974 1974 1974 1974 1961 1961 1961 1961\n",
              " [4369] 1961 1961 1961 1961 1961 1961 1961 1961 1961 1961 1961 1961 1942 1942\n",
              " [4383] 1942 1942 1943 1943 1943 1943 1941 1941 1941 1941 1941 1941 1941 1941\n",
              " [4397] 1978 1978 1978 1978 1970 1970 1970 1970 1942 1942 1942 1942 1940 1940\n",
              " [4411] 1940 1940 1943 1943 1943 1943 1943 1943 1943 1943 1943 1943 1943 1943\n",
              " [4425] 1943 1943 1943 1943 1979 1979 1979 1979 1981 1981 1981 1981 1945 1945\n",
              " [4439] 1945 1945 1939 1939 1939 1939 1949 1949 1949 1949 1961 1961 1961 1961\n",
              " [4453] 1954 1954 1954 1954 1973 1973 1973 1973 1967 1967 1967 1967 1952 1952\n",
              " [4467] 1952 1952 1935 1935 1935 1935 1936 1936 1936 1936 1974 1974 1974 1974\n",
              " [4481] 1945 1945 1945 1945 1972 1972 1972 1972 1974 1974 1974 1974 1940 1940\n",
              " [4495] 1940 1940 1942 1942 1942 1942 1972 1972 1972 1972 1946 1946 1946 1946\n",
              " [4509] 1975 1975 1975 1975 1975 1975 1975 1975 1975 1975 1975 1975 1975 1975\n",
              " [4523] 1975 1975 1945 1945 1945 1945 1945 1945 1945 1945 1945 1945 1945 1945\n",
              " [4537] 1945 1945 1945 1945 1959 1959 1959 1959 1979 1979 1979 1979 1938 1938\n",
              " [4551] 1938 1938 1962 1962 1962 1962 1944 1944 1944 1944 1951 1951 1951 1951\n",
              " [4565] 1943 1943 1943 1943 1933 1933 1933 1933 1983 1983 1983 1983 1969 1969\n",
              " [4579] 1969 1969 1942 1942 1942 1942 1971 1971 1971 1971 1983 1983 1983 1983\n",
              " [4593] 1950 1950 1950 1950 1966 1966 1966 1966 1966 1966 1966 1966 1977 1977\n",
              " [4607] 1977 1977 1953 1953 1953 1953 1976 1976 1976 1976 1945 1945 1945 1945\n",
              " [4621] 1963 1963 1963 1963 1972 1972 1972 1972 1982 1982 1982 1982 1955 1955\n",
              " [4635] 1955 1955 1955 1955 1955 1955 1955 1955 1955 1955 1955 1955 1955 1955\n",
              " [4649] 1972 1972 1972 1972 1971 1971 1971 1971 1934 1934 1934 1934 1976 1976\n",
              " [4663] 1976 1976 1935 1935 1935 1935 1981 1981 1981 1981 1948 1948 1948 1948\n",
              " [4677] 1972 1972 1972 1972 1977 1977 1977 1977 1982 1982 1982 1982 1934 1934\n",
              " [4691] 1934 1934 1943 1943 1943 1943 1948 1948 1948 1948 1961 1961 1961 1961\n",
              " [4705] 1941 1941 1941 1941 1975 1975 1975 1975 1930 1930 1930 1930 1944 1944\n",
              " [4719] 1944 1944 1969 1969 1969 1969 1938 1938 1938 1938 1967 1967 1967 1967\n",
              " [4733] 1947 1947 1947 1947 1961 1961 1961 1961 1963 1963 1963 1963 1939 1939\n",
              " [4747] 1939 1939 1982 1982 1982 1982 1974 1974 1974 1974 1938 1938 1938 1938\n",
              " [4761] 1952 1952 1952 1952 1941 1941 1941 1941 1967 1967 1967 1967 1970 1970\n",
              " [4775] 1970 1970 1970 1970 1970 1970 1970 1970 1970 1970 1970 1970 1970 1970\n",
              " [4789] 1959 1959 1959 1959 1949 1949 1949 1949 1950 1950 1950 1950 1934 1934\n",
              " [4803] 1934 1934 1935 1935 1935 1935 1946 1946 1946 1946 1972 1972 1972 1972\n",
              " [4817] 1972 1972 1972 1972 1972 1972 1972 1972 1972 1972 1972 1972 1952 1952\n",
              " [4831] 1952 1952 1940 1940 1940 1940 1978 1978 1978 1978 1963 1963 1963 1963\n",
              " [4845] 1955 1955 1955 1955 1935 1935 1935 1935 1979 1979 1979 1979 1977 1977\n",
              " [4859] 1977 1977 1970 1970 1970 1970 1974 1974 1974 1974 1955 1955 1955 1955\n",
              " [4873] 1955 1955 1955 1955 1955 1955 1955 1955 1955 1955 1955 1955 1937 1937\n",
              " [4887] 1937 1937 1967 1967 1967 1967 1967 1967 1967 1967 1967 1967 1967 1967\n",
              " [4901] 1967 1967 1967 1967 1947 1947 1947 1947 1972 1972 1972 1972 1943 1943\n",
              " [4915] 1943 1943 1956 1956 1956 1956 1948 1948 1948 1948 1932 1932 1932 1932\n",
              " [4929] 1952 1952 1952 1952 1975 1975 1975 1975 1948 1948 1948 1948 1948 1948\n",
              " [4943] 1948 1948 1948 1948 1948 1948 1948 1948 1948 1948 1948 1948 1948 1948\n",
              " [4957] 1948 1948 1948 1948 1948 1948 1948 1948 1948 1948 1948 1948 1948 1948\n",
              " [4971] 1948 1948 1948 1948 1948 1948 1948 1948 1948 1948 1948 1948 1948 1948\n",
              " [4985] 1948 1948 1948 1948 1948 1948 1948 1948 1948 1948 1948 1948 1948 1948\n",
              " [4999] 1948 1948 1962 1962 1962 1962 1954 1954 1954 1954 1961 1961 1961 1961\n",
              " [5013] 1968 1968 1968 1968 1967 1967 1967 1967 1966 1966 1966 1966 1935 1935\n",
              " [5027] 1935 1935 1980 1980 1980 1980 1938 1938 1938 1938 1962 1962 1962 1962\n",
              " [5041] 1964 1964 1964 1964 1964 1964 1964 1964 1964 1964 1964 1964 1964 1964\n",
              " [5055] 1964 1964 1969 1969 1969 1969 1947 1947 1947 1947 1934 1934 1934 1934\n",
              " [5069] 1942 1942 1942 1942 1935 1935 1935 1935 1946 1946 1946 1946 1938 1938\n",
              " [5083] 1938 1938 1970 1970 1970 1970 1966 1966 1966 1966 1978 1978 1978 1978\n",
              " [5097] 1948 1948 1948 1948 1932 1932 1932 1932 1932 1932 1932 1932 1932 1932\n",
              " [5111] 1932 1932 1932 1932 1932 1932 1975 1975 1975 1975 1975 1975 1975 1975\n",
              " [5125] 1975 1975 1975 1975 1975 1975 1975 1975 1934 1934 1934 1934 1961 1961\n",
              " [5139] 1961 1961 1964 1964 1964 1964 1938 1938 1938 1938 1942 1942 1942 1942\n",
              " [5153] 1949 1949 1949 1949 1960 1960 1960 1960 1940 1940 1940 1940 1940 1940\n",
              " [5167] 1940 1940 1940 1940 1940 1940 1940 1940 1940 1940 1957 1957 1957 1957\n",
              " [5181] 1981 1981 1981 1981 1981 1981 1981 1981 1981 1981 1981 1981 1981 1981\n",
              " [5195] 1981 1981 1971 1971 1971 1971 1970 1970 1970 1970 1947 1947 1947 1947\n",
              " [5209] 1977 1977 1977 1977 1939 1939 1939 1939 1936 1936 1936 1936 1937 1937\n",
              " [5223] 1937 1937 1960 1960 1960 1960 1934 1934 1934 1934 1934 1934 1934 1934\n",
              " [5237] 1934 1934 1934 1934 1934 1934 1934 1934 1934 1934 1934 1934 1937 1937\n",
              " [5251] 1937 1937 1936 1936 1936 1936 1936 1936 1936 1936 1936 1936 1936 1936\n",
              " [5265] 1936 1936 1936 1936 1981 1981 1981 1981 1981 1981 1981 1981 1981 1981\n",
              " [5279] 1981 1981 1981 1981 1981 1981 1971 1971 1971 1971 1971 1971 1971 1971\n",
              " [5293] 1971 1971 1971 1971 1971 1971 1971 1971 1974 1974 1974 1974 1942 1942\n",
              " [5307] 1942 1942 1972 1972 1972 1972 1972 1972 1972 1972 1972 1972 1972 1972\n",
              " [5321] 1972 1972 1972 1972 1955 1955 1955 1955 1978 1978 1978 1978 1962 1962\n",
              " [5335] 1962 1962 1961 1961 1961 1961 1970 1970 1970 1970 1932 1932 1932 1932\n",
              " [5349] 1932 1932 1932 1932 1932 1932 1932 1932 1932 1932 1932 1932 1958 1958\n",
              " [5363] 1958 1958 1958 1958 1958 1958 1958 1958 1958 1958 1958 1958 1958 1958\n",
              " [5377] 1974 1974 1974 1974 1966 1966 1966 1966 1982 1982 1982 1982 1965 1965\n",
              " [5391] 1965 1965 1952 1952 1952 1952 1974 1974 1974 1974 1968 1968 1968 1968\n",
              " [5405] 1951 1951 1951 1951 1942 1942 1942 1942 1932 1932 1932 1932 1934 1934\n",
              " [5419] 1934 1934 1934 1934 1934 1934 1934 1934 1934 1934 1934 1934 1934 1934\n",
              " [5433] 1978 1978 1978 1978 1978 1978 1978 1978 1978 1978 1978 1978 1978 1978\n",
              " [5447] 1978 1978 1975 1975 1975 1975 1973 1973 1973 1973 1973 1973 1973 1973\n",
              " [5461] 1973 1973 1973 1973 1973 1973 1973 1973 1961 1961 1961 1961 1972 1972\n",
              " [5475] 1972 1972 1978 1978 1978 1978 1970 1970 1970 1970 1960 1960 1960 1960\n",
              " [5489] 1977 1977 1977 1977 1948 1948 1948 1948 1961 1961 1961 1961 1952 1952\n",
              " [5503] 1952 1952 1974 1974 1974 1974 1974 1974 1974 1974 1974 1974 1974 1974\n",
              " [5517] 1974 1974 1974 1974 1977 1977 1977 1977 1958 1958 1958 1958 1969 1969\n",
              " [5531] 1969 1969 1957 1957 1957 1957 1957 1957 1957 1957 1957 1957 1957 1957\n",
              " [5545] 1957 1957 1957 1957 1948 1948 1948 1948 1948 1948 1948 1948 1957 1957\n",
              " [5559] 1957 1957 1945 1945 1945 1945 1948 1948 1948 1948 1967 1967 1967 1967\n",
              " [5573] 1937 1937 1937 1937 1969 1969 1969 1969 1938 1938 1938 1938 1967 1967\n",
              " [5587] 1967 1967 1981 1981 1981 1981 1986 1986 1986 1986 1978 1978 1978 1978\n",
              " [5601] 1977 1977 1977 1977 1979 1979 1979 1979 1968 1968 1968 1968 1968 1968\n",
              " [5615] 1968 1968 1968 1968 1968 1968 1968 1968 1968 1968 1930 1930 1930 1930\n",
              " [5629] 1964 1964 1964 1964 1974 1974 1974 1974 1960 1960 1960 1960 1945 1945\n",
              " [5643] 1945 1945 1940 1940 1940 1940 1974 1974 1974 1974 1940 1940 1940 1940\n",
              " [5657] 1966 1966 1966 1966 1972 1972 1972 1972 1971 1971 1971 1971 1943 1943\n",
              " [5671] 1943 1943 1947 1947 1947 1947 1961 1961 1961 1961 1977 1977 1977 1977\n",
              " [5685] 1952 1952 1952 1952 1984 1984 1984 1984 1976 1976 1976 1976 1944 1944\n",
              " [5699] 1944 1944 1959 1959 1959 1959 1960 1960 1960 1960 1963 1963 1963 1963\n",
              " [5713] 1978 1978 1978 1978 1945 1945 1945 1945 1973 1973 1973 1973 1982 1982\n",
              " [5727] 1982 1982 1958 1958 1958 1958 1975 1975 1975 1975 1965 1965 1965 1965\n",
              " [5741] 1966 1966 1966 1966 1943 1943 1943 1943 1974 1974 1974 1974 1955 1955\n",
              " [5755] 1955 1955 1941 1941 1941 1941 1973 1973 1973 1973 1961 1961 1961 1961\n",
              " [5769] 1949 1949 1949 1949 1947 1947 1947 1947 1956 1956 1956 1956 1975 1975\n",
              " [5783] 1975 1975 1964 1964 1964 1964 1981 1981 1981 1981 1964 1964 1964 1964\n",
              " [5797] 1964 1964 1964 1964 1964 1964 1964 1964 1964 1964 1964 1964 1950 1950\n",
              " [5811] 1950 1950 1972 1972 1972 1972 1982 1982 1982 1982 1976 1976 1976 1976\n",
              " [5825] 1941 1941 1941 1941 1941 1941 1941 1941 1941 1941 1941 1941 1941 1941\n",
              " [5839] 1941 1941 1981 1981 1981 1981 1975 1975 1975 1975 1979 1979 1979 1979\n",
              " [5853] 1979 1979 1979 1979 1979 1979 1979 1979 1979 1979 1979 1979 1960 1960\n",
              " [5867] 1960 1960 1944 1944 1944 1944 1982 1982 1982 1982 1943 1943 1943 1943\n",
              " [5881] 1950 1950 1950 1950 1973 1973 1973 1973 1934 1934 1934 1934 1941 1941\n",
              " [5895] 1941 1941 1941 1941 1941 1941 1973 1973 1973 1973 1964 1964 1964 1964\n",
              " [5909] 1967 1967 1967 1967 1967 1967 1967 1967 1967 1967 1967 1967 1967 1967\n",
              " [5923] 1967 1967 1956 1956 1956 1956 1935 1935 1935 1935 1978 1978 1978 1978\n",
              " [5937] 1948 1948 1948 1948 1981 1981 1981 1981 1949 1949 1949 1949 1948 1948\n",
              " [5951] 1948 1948 1948 1948 1948 1948 1948 1948 1948 1948 1948 1948 1948 1948\n",
              " [5965] 1955 1955 1955 1955 1955 1955 1955 1955 1984 1984 1984 1984 1965 1965\n",
              " [5979] 1965 1965 1951 1951 1951 1951 1968 1968 1968 1968 1968 1968 1968 1968\n",
              " [5993] 1968 1968 1968 1968 1968 1968 1968 1968 1965 1965 1965 1965 1969 1969\n",
              " [6007] 1969 1969 1975 1975 1975 1975 1977 1977 1977 1977 1952 1952 1952 1952\n",
              " [6021] 1949 1949 1949 1949 1974 1974 1974 1974 1974 1974 1974 1974 1974 1974\n",
              " [6035] 1974 1974 1974 1974 1974 1974 1974 1974 1974 1974 1974 1974 1974 1974\n",
              " [6049] 1974 1974 1974 1974 1974 1974 1974 1974 1974 1974 1974 1974 1972 1972\n",
              " [6063] 1972 1972 1936 1936 1936 1936 1977 1977 1977 1977 1966 1966 1966 1966\n",
              " [6077] 1966 1966 1966 1966 1966 1966 1966 1966 1966 1966 1966 1966 1942 1942\n",
              " [6091] 1942 1942 1969 1969 1969 1969 1944 1944 1944 1944 1974 1974 1974 1974\n",
              " [6105] 1967 1967 1967 1967 1967 1967 1967 1967 1967 1967 1967 1967 1967 1967\n",
              " [6119] 1967 1967 1975 1975 1975 1975 1971 1971 1971 1971 1984 1984 1984 1984\n",
              " [6133] 1942 1942 1942 1942 1952 1952 1952 1952 1973 1973 1973 1973 1973 1973\n",
              " [6147] 1973 1973 1933 1933 1933 1933 1964 1964 1964 1964 1939 1939 1939 1939\n",
              " [6161] 1973 1973 1973 1973 1941 1941 1941 1941 1957 1957 1957 1957 1975 1975\n",
              " [6175] 1975 1975 1962 1962 1962 1962 1963 1963 1963 1963 1953 1953 1953 1953\n",
              " [6189] 1983 1983 1983 1983 1977 1977 1977 1977 1953 1953 1953 1953 1981 1981\n",
              " [6203] 1981 1981 1981 1981 1981 1981 1981 1981 1981 1981 1981 1981 1981 1981\n",
              " [6217] 1979 1979 1979 1979 1957 1957 1957 1957 1935 1935 1935 1935 1948 1948\n",
              " [6231] 1948 1948 1966 1966 1966 1966 1974 1974 1974 1974 1975 1975 1975 1975\n",
              " [6245] 1963 1963 1963 1963 1973 1973 1973 1973 1978 1978 1978 1978 1954 1954\n",
              " [6259] 1954 1954 1945 1945 1945 1945 1968 1968 1968 1968 1968 1968 1968 1968\n",
              " [6273] 1968 1968 1968 1968 1968 1968 1968 1968 1977 1977 1977 1977 1975 1975\n",
              " [6287] 1975 1975 1978 1978 1978 1978 1973 1973 1973 1973 1979 1979 1979 1979\n",
              " [6301] 1981 1981 1981 1981 1945 1945 1945 1945 1945 1945 1945 1945 1945 1945\n",
              " [6315] 1945 1945 1945 1945 1945 1945 1977 1977 1977 1977 1973 1973 1973 1973\n",
              " [6329] 1974 1974 1974 1974 1955 1955 1955 1955 1954 1954 1954 1954 1965 1965\n",
              " [6343] 1965 1965 1953 1953 1953 1953 1977 1977 1977 1977 1960 1960 1960 1960\n",
              " [6357] 1980 1980 1980 1980 1984 1984 1984 1984 1947 1947 1947 1947 1947 1947\n",
              " [6371] 1947 1947 1947 1947 1947 1947 1947 1947 1947 1947 1947 1947 1947 1947\n",
              " [6385] 1947 1947 1947 1947 1947 1947 1947 1947 1947 1947 1947 1947 1947 1947\n",
              " [6399] 1947 1947 1970 1970 1970 1970 1970 1970 1970 1970 1970 1970 1970 1970\n",
              " [6413] 1970 1970 1970 1970 1980 1980 1980 1980 1980 1980 1980 1980 1980 1980\n",
              " [6427] 1980 1980 1980 1980 1980 1980 1954 1954 1954 1954 1969 1969 1969 1969\n",
              " [6441] 1936 1936 1936 1936 1940 1940 1940 1940 1950 1950 1950 1950 1963 1963\n",
              " [6455] 1963 1963 1935 1935 1935 1935 1935 1935 1935 1935 1935 1935 1935 1935\n",
              " [6469] 1935 1935 1935 1935 1962 1962 1962 1962 1966 1966 1966 1966 1966 1966\n",
              " [6483] 1966 1966 1966 1966 1966 1966 1966 1966 1966 1966 1980 1980 1980 1980\n",
              " [6497] 1977 1977 1977 1977 1961 1961 1961 1961 1976 1976 1976 1976 1975 1975\n",
              " [6511] 1975 1975 1975 1975 1975 1975 1975 1975 1975 1975 1975 1975 1975 1975\n",
              " [6525] 1965 1965 1965 1965 1946 1946 1946 1946 1975 1975 1975 1975 1976 1976\n",
              " [6539] 1976 1976 1950 1950 1950 1950 1981 1981 1981 1981 1951 1951 1951 1951\n",
              " [6553] 1975 1975 1975 1975 1934 1934 1934 1934 1974 1974 1974 1974 1960 1960\n",
              " [6567] 1960 1960 1978 1978 1978 1978 1969 1969 1969 1969 1936 1936 1936 1936\n",
              " [6581] 1936 1936 1936 1936 1936 1936 1936 1936 1936 1936 1936 1936 1933 1933\n",
              " [6595] 1933 1933 1976 1976 1976 1976 1946 1946 1946 1946 1983 1983 1983 1983\n",
              " [6609] 1944 1944 1944 1944 1970 1970 1970 1970 1972 1972 1972 1972 1967 1967\n",
              " [6623] 1967 1967 1978 1978 1978 1978 1981 1981 1981 1981 1974 1974 1974 1974\n",
              " [6637] 1955 1955 1955 1955 1970 1970 1970 1970 1974 1974 1974 1974 1974 1974\n",
              " [6651] 1974 1974 1974 1974 1974 1974 1974 1974 1974 1974 1939 1939 1939 1939\n",
              " [6665] 1962 1962 1962 1962 1963 1963 1963 1963 1981 1981 1981 1981 1972 1972\n",
              " [6679] 1972 1972 1971 1971 1971 1971 1972 1972 1972 1972 1961 1961 1961 1961\n",
              " [6693] 1974 1974 1974 1974 1966 1966 1966 1966 1952 1952 1952 1952 1960 1960\n",
              " [6707] 1960 1960 1956 1956 1956 1956 1969 1969 1969 1969 1959 1959 1959 1959\n",
              " [6721] 1979 1979 1979 1979 1948 1948 1948 1948 1970 1970 1970 1970 1970 1970\n",
              " [6735] 1970 1970 1970 1970 1970 1970 1970 1970 1970 1970 1970 1970 1970 1970\n",
              " [6749] 1970 1970 1970 1970 1970 1970 1970 1970 1970 1970 1970 1970 1970 1970\n",
              " [6763] 1970 1970 1940 1940 1940 1940 1940 1940 1940 1940 1940 1940 1940 1940\n",
              " [6777] 1940 1940 1940 1940 1944 1944 1944 1944 1944 1944 1944 1944 1944 1944\n",
              " [6791] 1944 1944 1944 1944 1944 1944 1970 1970 1970 1970 1980 1980 1980 1980\n",
              " [6805] 1980 1980 1980 1980 1980 1980 1980 1980 1980 1980 1980 1980 1965 1965\n",
              " [6819] 1965 1965 1953 1953 1953 1953 1952 1952 1952 1952 1982 1982 1982 1982\n",
              " [6833] 1979 1979 1979 1979 1961 1961 1961 1961 1984 1984 1984 1984 1958 1958\n",
              " [6847] 1958 1958 1972 1972 1972 1972 1966 1966 1966 1966 1978 1978 1978 1978\n",
              " [6861] 1966 1966 1966 1966 1980 1980 1980 1980 1944 1944 1944 1944 1973 1973\n",
              " [6875] 1973 1973 1963 1963 1963 1963 1964 1964 1964 1964 1975 1975 1975 1975\n",
              " [6889] 1951 1951 1951 1951 1965 1965 1965 1965 1966 1966 1966 1966 1960 1960\n",
              " [6903] 1960 1960 1979 1979 1979 1979 1949 1949 1949 1949 1957 1957 1957 1957\n",
              " [6917] 1958 1958 1958 1958 1974 1974 1974 1974 1968 1968 1968 1968 1943 1943\n",
              " [6931] 1943 1943 1949 1949 1949 1949 1949 1949 1949 1949 1949 1949 1949 1949\n",
              " [6945] 1949 1949 1949 1949 1943 1943 1943 1943 1979 1979 1979 1979 1977 1977\n",
              " [6959] 1977 1977 1979 1979 1979 1979 1969 1969 1969 1969 1969 1969 1969 1969\n",
              " [6973] 1969 1969 1969 1969 1969 1969 1969 1969 1958 1958 1958 1958 1972 1972\n",
              " [6987] 1972 1972 1946 1946 1946 1946 1942 1942 1942 1942 1978 1978 1978 1978\n",
              " [7001] 1977 1977 1977 1977 1970 1970 1970 1970 1962 1962 1962 1962 1937 1937\n",
              " [7015] 1937 1937 1937 1937 1937 1937 1937 1937 1937 1937 1937 1937 1937 1937\n",
              " [7029] 1949 1949 1949 1949 1949 1949 1949 1949 1949 1949 1949 1949 1949 1949\n",
              " [7043] 1949 1949 1936 1936 1936 1936 1971 1971 1971 1971 1980 1980 1980 1980\n",
              " [7057] 1966 1966 1966 1966 1961 1961 1961 1961 1980 1980 1980 1980 1980 1980\n",
              " [7071] 1980 1980 1980 1980 1980 1980 1980 1980 1980 1980 1953 1953 1953 1953\n",
              " [7085] 1953 1953 1953 1953 1938 1938 1938 1938 1945 1945 1945 1945 1945 1945\n",
              " [7099] 1945 1945 1961 1961 1961 1961 1976 1976 1976 1976 1976 1976 1976 1976\n",
              " [7113] 1957 1957 1957 1957 1985 1985 1985 1985 1976 1976 1976 1976 1970 1970\n",
              " [7127] 1970 1970 1980 1980 1980 1980 1933 1933 1933 1933 1980 1980 1980 1980\n",
              " [7141] 1939 1939 1939 1939 1942 1942 1942 1942 1951 1951 1951 1951 1971 1971\n",
              " [7155] 1971 1971 1961 1961 1961 1961 1977 1977 1977 1977 1955 1955 1955 1955\n",
              " [7169] 1946 1946 1946 1946 1971 1971 1971 1971 1948 1948 1948 1948 1946 1946\n",
              " [7183] 1946 1946 1971 1971 1971 1971 1939 1939 1939 1939 1939 1939 1939 1939\n",
              " [7197] 1939 1939 1939 1939 1939 1939 1939 1939 1971 1971 1971 1971 1966 1966\n",
              " [7211] 1966 1966 1973 1973 1973 1973 1969 1969 1969 1969 1973 1973 1973 1973\n",
              " [7225] 1942 1942 1942 1942 1939 1939 1939 1939 1947 1947 1947 1947 1974 1974\n",
              " [7239] 1974 1974 1974 1974 1974 1974 1974 1974 1974 1974 1974 1974 1974 1974\n",
              " [7253] 1983 1983 1983 1983 1980 1980 1980 1980 1949 1949 1949 1949 1959 1959\n",
              " [7267] 1959 1959 1970 1970 1970 1970 1946 1946 1946 1946 1946 1946 1946 1946\n",
              " [7281] 1946 1946 1946 1946 1946 1946 1946 1946 1954 1954 1954 1954 1946 1946\n",
              " [7295] 1946 1946 1973 1973 1973 1973 1946 1946 1946 1946 1946 1946 1946 1946\n",
              " [7309] 1946 1946 1946 1946 1946 1946 1946 1946 1966 1966 1966 1966 1971 1971\n",
              " [7323] 1971 1971 1939 1939 1939 1939 1939 1939 1939 1939 1939 1939 1939 1939\n",
              " [7337] 1939 1939 1939 1939 1934 1934 1934 1934 1972 1972 1972 1972 1977 1977\n",
              " [7351] 1977 1977 1975 1975 1975 1975 1939 1939 1939 1939 1975 1975 1975 1975\n",
              " [7365] 1975 1975 1975 1975 1975 1975 1975 1975 1975 1975 1975 1975 1957 1957\n",
              " [7379] 1957 1957 1954 1954 1954 1954 1953 1953 1953 1953 1946 1946 1946 1946\n",
              " [7393] 1977 1977 1977 1977 1967 1967 1967 1967 1967 1967 1967 1967 1967 1967\n",
              " [7407] 1967 1967 1967 1967 1967 1967 1942 1942 1942 1942 1942 1942 1942 1942\n",
              " [7421] 1942 1942 1942 1942 1942 1942 1942 1942 1941 1941 1941 1941 1961 1961\n",
              " [7435] 1961 1961 1957 1957 1957 1957 1971 1971 1971 1971 1963 1963 1963 1963\n",
              " [7449] 1963 1963 1963 1963 1963 1963 1963 1963 1963 1963 1963 1963 1976 1976\n",
              " [7463] 1976 1976 1952 1952 1952 1952 1945 1945 1945 1945 1960 1960 1960 1960\n",
              " [7477] 1977 1977 1977 1977 1940 1940 1940 1940 1964 1964 1964 1964 1964 1964\n",
              " [7491] 1964 1964 1964 1964 1964 1964 1964 1964 1964 1964 1969 1969 1969 1969\n",
              " [7505] 1975 1975 1975 1975 1973 1973 1973 1973 1981 1981 1981 1981 1957 1957\n",
              " [7519] 1957 1957 1933 1933 1933 1933 1941 1941 1941 1941 1974 1974 1974 1974\n",
              " [7533] 1980 1980 1980 1980 1974 1974 1974 1974 1940 1940 1940 1940 1980 1980\n",
              " [7547] 1980 1980 1980 1980 1980 1980 1980 1980 1980 1980 1980 1980 1980 1980\n",
              " [7561] 1980 1980 1980 1980 1956 1956 1956 1956 1941 1941 1941 1941 1941 1941\n",
              " [7575] 1941 1941 1941 1941 1941 1941 1941 1941 1941 1941 1972 1972 1972 1972\n",
              " [7589] 1961 1961 1961 1961 1961 1961 1961 1961 1961 1961 1961 1961 1961 1961\n",
              " [7603] 1961 1961 1972 1972 1972 1972 1963 1963 1963 1963 1969 1969 1969 1969\n",
              " [7617] 1957 1957 1957 1957 1963 1963 1963 1963 1965 1965 1965 1965 1947 1947\n",
              " [7631] 1947 1947 1944 1944 1944 1944 1946 1946 1946 1946 1946 1946 1946 1946\n",
              " [7645] 1946 1946 1946 1946 1946 1946 1946 1946 1946 1946 1946 1946 1958 1958\n",
              " [7659] 1958 1958 1964 1964 1964 1964 1933 1933 1933 1933 1973 1973 1973 1973\n",
              " [7673] 1973 1973 1973 1973 1973 1973 1973 1973 1973 1973 1973 1973 1953 1953\n",
              " [7687] 1953 1953 1950 1950 1950 1950 1950 1950 1950 1950 1950 1950 1950 1950\n",
              " [7701] 1950 1950 1950 1950 1973 1973 1973 1973 1970 1970 1970 1970 1978 1978\n",
              " [7715] 1978 1978 1978 1978 1978 1978 1978 1978 1978 1978 1978 1978 1978 1978\n",
              " [7729] 1936 1936 1936 1936 1953 1953 1953 1953 1942 1942 1942 1942 1979 1979\n",
              " [7743] 1979 1979 1952 1952 1952 1952 1971 1971 1971 1971 1973 1973 1973 1973\n",
              " [7757] 1931 1931 1931 1931 1931 1931 1931 1931 1931 1931 1931 1931 1931 1931\n",
              " [7771] 1931 1931 1974 1974 1974 1974 1965 1965 1965 1965 1951 1951 1951 1951\n",
              " [7785] 1953 1953 1953 1953 1983 1983 1983 1983 1951 1951 1951 1951 1941 1941\n",
              " [7799] 1941 1941 1977 1977 1977 1977 1943 1943 1943 1943 1986 1986 1986 1986\n",
              " [7813] 1976 1976 1976 1976 1973 1973 1973 1973 1937 1937 1937 1937 1937 1937\n",
              " [7827] 1937 1937 1937 1937 1937 1937 1937 1937 1937 1937 1935 1935 1935 1935\n",
              " [7841] 1948 1948 1948 1948 1948 1948 1948 1948 1948 1948 1948 1948 1948 1948\n",
              " [7855] 1948 1948 1970 1970 1970 1970 1976 1976 1976 1976 1967 1967 1967 1967\n",
              " [7869] 1981 1981 1981 1981 1954 1954 1954 1954 1954 1954 1954 1954 1954 1954\n",
              " [7883] 1954 1954 1954 1954 1954 1954 1981 1981 1981 1981 1953 1953 1953 1953\n",
              " [7897] 1959 1959 1959 1959 1983 1983 1983 1983 1964 1964 1964 1964 1968 1968\n",
              " [7911] 1968 1968 1951 1951 1951 1951 1967 1967 1967 1967 1971 1971 1971 1971\n",
              " [7925] 1954 1954 1954 1954 1974 1974 1974 1974 1974 1974 1974 1974 1974 1974\n",
              " [7939] 1974 1974 1974 1974 1974 1974 1980 1980 1980 1980 1968 1968 1968 1968\n",
              " [7953] 1968 1968 1968 1968 1968 1968 1968 1968 1968 1968 1968 1968 1956 1956\n",
              " [7967] 1956 1956 1945 1945 1945 1945 1959 1959 1959 1959 1959 1959 1959 1959\n",
              " [7981] 1959 1959 1959 1959 1959 1959 1959 1959 1955 1955 1955 1955 1955 1955\n",
              " [7995] 1955 1955 1955 1955 1955 1955 1955 1955 1955 1955 1978 1978 1978 1978\n",
              " [8009] 1948 1948 1948 1948 1955 1955 1955 1955 1976 1976 1976 1976 1939 1939\n",
              " [8023] 1939 1939 1939 1939 1939 1939 1939 1939 1939 1939 1939 1939 1939 1939\n",
              " [8037] 1931 1931 1931 1931 1951 1951 1951 1951 1943 1943 1943 1943 1978 1978\n",
              " [8051] 1978 1978 1952 1952 1952 1952 1960 1960 1960 1960 1958 1958 1958 1958\n",
              " [8065] 1936 1936 1936 1936 1945 1945 1945 1945 1976 1976 1976 1976 1977 1977\n",
              " [8079] 1977 1977 1966 1966 1966 1966 1967 1967 1967 1967 1968 1968 1968 1968\n",
              " [8093] 1975 1975 1975 1975 1944 1944 1944 1944 1967 1967 1967 1967 1967 1967\n",
              " [8107] 1967 1967 1967 1967 1967 1967 1967 1967 1967 1967 1947 1947 1947 1947\n",
              " [8121] 1959 1959 1959 1959 1942 1942 1942 1942 1976 1976 1976 1976 1986 1986\n",
              " [8135] 1986 1986 1969 1969 1969 1969 1942 1942 1942 1942 1956 1956 1956 1956\n",
              " [8149] 1945 1945 1945 1945 1953 1953 1953 1953 1969 1969 1969 1969 1972 1972\n",
              " [8163] 1972 1972 1944 1944 1944 1944 1973 1973 1973 1973 1972 1972 1972 1972\n",
              " [8177] 1959 1959 1959 1959 1980 1980 1980 1980 1957 1957 1957 1957 1958 1958\n",
              " [8191] 1958 1958 1958 1958 1958 1958 1958 1958 1958 1958 1958 1958 1958 1958\n",
              " [8205] 1954 1954 1954 1954 1944 1944 1944 1944 1974 1974 1974 1974 1931 1931\n",
              " [8219] 1931 1931 1980 1980 1980 1980 1944 1944 1944 1944 1947 1947 1947 1947\n",
              " [8233] 1975 1975 1975 1975 1972 1972 1972 1972 1972 1972 1972 1972 1972 1972\n",
              " [8247] 1972 1972 1972 1972 1972 1972 1954 1954 1954 1954 1945 1945 1945 1945\n",
              " [8261] 1945 1945 1945 1945 1945 1945 1945 1945 1945 1945 1945 1945 1978 1978\n",
              " [8275] 1978 1978 1970 1970 1970 1970 1975 1975 1975 1975 1979 1979 1979 1979\n",
              " [8289] 1979 1979 1979 1979 1979 1979 1979 1979 1979 1979 1979 1979 1979 1979\n",
              " [8303] 1979 1979 1979 1979 1979 1979 1979 1979 1979 1979 1979 1979 1979 1979\n",
              " [8317] 1979 1979 1979 1979 1963 1963 1963 1963 1945 1945 1945 1945 1961 1961\n",
              " [8331] 1961 1961 1961 1961 1961 1961 1961 1961 1961 1961 1961 1961 1961 1961\n",
              " [8345] 1953 1953 1953 1953 1975 1975 1975 1975 1950 1950 1950 1950 1936 1936\n",
              " [8359] 1936 1936 1962 1962 1962 1962 1978 1978 1978 1978 1972 1972 1972 1972\n",
              " [8373] 1947 1947 1947 1947 1973 1973 1973 1973 1936 1936 1936 1936 1940 1940\n",
              " [8387] 1940 1940 1973 1973 1973 1973 1971 1971 1971 1971 1961 1961 1961 1961\n",
              " [8401] 1949 1949 1949 1949 1984 1984 1984 1984 1967 1967 1967 1967 1955 1955\n",
              " [8415] 1955 1955 1965 1965 1965 1965 1965 1965 1965 1965 1965 1965 1965 1965\n",
              " [8429] 1965 1965 1965 1965 1948 1948 1948 1948 1952 1952 1952 1952 1952 1952\n",
              " [8443] 1952 1952 1952 1952 1952 1952 1952 1952 1952 1952 1949 1949 1949 1949\n",
              " [8457] 1940 1940 1940 1940 1968 1968 1968 1968 1961 1961 1961 1961 1961 1961\n",
              " [8471] 1961 1961 1961 1961 1961 1961 1961 1961 1961 1961 1968 1968 1968 1968\n",
              " [8485] 1957 1957 1957 1957 1946 1946 1946 1946 1972 1972 1972 1972 1974 1974\n",
              " [8499] 1974 1974 1954 1954 1954 1954 1951 1951 1951 1951 1951 1951 1951 1951\n",
              " [8513] 1951 1951 1951 1951 1951 1951 1951 1951 1975 1975 1975 1975 1977 1977\n",
              " [8527] 1977 1977 1955 1955 1955 1955 1944 1944 1944 1944 1944 1944 1944 1944\n",
              " [8541] 1944 1944 1944 1944 1944 1944 1944 1944 1960 1960 1960 1960 1957 1957\n",
              " [8555] 1957 1957 1981 1981 1981 1981 1960 1960 1960 1960 1982 1982 1982 1982\n",
              " [8569] 1948 1948 1948 1948 1948 1948 1948 1948 1948 1948 1948 1948 1948 1948\n",
              " [8583] 1948 1948 1973 1973 1973 1973 1959 1959 1959 1959 1958 1958 1958 1958\n",
              " [8597] 1958 1958 1958 1958 1958 1958 1958 1958 1958 1958 1958 1958 1958 1958\n",
              " [8611] 1958 1958 1958 1958 1958 1958 1958 1958 1958 1958 1958 1958 1958 1958\n",
              " [8625] 1958 1958 1958 1958 1974 1974 1974 1974 1957 1957 1957 1957 1969 1969\n",
              " [8639] 1969 1969 1945 1945 1945 1945 1976 1976 1976 1976 1951 1951 1951 1951\n",
              " [8653] 1948 1948 1948 1948 1976 1976 1976 1976 1976 1976 1976 1976 1977 1977\n",
              " [8667] 1977 1977 1977 1977 1977 1977 1937 1937 1937 1937 1970 1970 1970 1970\n",
              " [8681] 1947 1947 1947 1947 1947 1947 1947 1947 1970 1970 1970 1970 1978 1978\n",
              " [8695] 1978 1978 1951 1951 1951 1951 1948 1948 1948 1948 1938 1938 1938 1938\n",
              " [8709] 1951 1951 1951 1951 1951 1951 1951 1951 1951 1951 1951 1951 1951 1951\n",
              " [8723] 1951 1951 1957 1957 1957 1957 1948 1948 1948 1948 1949 1949 1949 1949\n",
              " [8737] 1969 1969 1969 1969 1968 1968 1968 1968 1968 1968 1968 1968 1968 1968\n",
              " [8751] 1968 1968 1968 1968 1968 1968 1949 1949 1949 1949 1956 1956 1956 1956\n",
              " [8765] 1956 1956 1956 1956 1956 1956 1956 1956 1956 1956 1956 1956 1970 1970\n",
              " [8779] 1970 1970 1970 1970 1970 1970 1970 1970 1970 1970 1970 1970 1970 1970\n",
              " [8793] 1955 1955 1955 1955 1947 1947 1947 1947 1980 1980 1980 1980 1942 1942\n",
              " [8807] 1942 1942 1972 1972 1972 1972 1970 1970 1970 1970 1947 1947 1947 1947\n",
              " [8821] 1960 1960 1960 1960 1960 1960 1960 1960 1960 1960 1960 1960 1960 1960\n",
              " [8835] 1960 1960 1966 1966 1966 1966 1942 1942 1942 1942 1935 1935 1935 1935\n",
              " [8849] 1958 1958 1958 1958 1937 1937 1937 1937 1937 1937 1937 1937 1937 1937\n",
              " [8863] 1937 1937 1937 1937 1937 1937 1947 1947 1947 1947 1968 1968 1968 1968\n",
              " [8877] 1956 1956 1956 1956 1956 1956 1956 1956 1956 1956 1956 1956 1956 1956\n",
              " [8891] 1956 1956 1940 1940 1940 1940 1978 1978 1978 1978 1934 1934 1934 1934\n",
              " [8905] 1959 1959 1959 1959 1940 1940 1940 1940 1963 1963 1963 1963 1963 1963\n",
              " [8919] 1963 1963 1955 1955 1955 1955 1955 1955 1955 1955 1955 1955 1955 1955\n",
              " [8933] 1955 1955 1955 1955 1941 1941 1941 1941 1963 1963 1963 1963 1981 1981\n",
              " [8947] 1981 1981 1943 1943 1943 1943 1943 1943 1943 1943 1943 1943 1943 1943\n",
              " [8961] 1943 1943 1943 1943 1940 1940 1940 1940 1970 1970 1970 1970 1975 1975\n",
              " [8975] 1975 1975 1980 1980 1980 1980 1977 1977 1977 1977 1948 1948 1948 1948\n",
              " [8989] 1971 1971 1971 1971 1958 1958 1958 1958 1984 1984 1984 1984 1984 1984\n",
              " [9003] 1984 1984 1984 1984 1984 1984 1984 1984 1984 1984 1951 1951 1951 1951\n",
              " [9017] 1975 1975 1975 1975 1937 1937 1937 1937 1963 1963 1963 1963 1963 1963\n",
              " [9031] 1963 1963 1963 1963 1963 1963 1963 1963 1963 1963 1981 1981 1981 1981\n",
              " [9045] 1933 1933 1933 1933 1971 1971 1971 1971 1971 1971 1971 1971 1971 1971\n",
              " [9059] 1971 1971 1971 1971 1971 1971 1941 1941 1941 1941 1940 1940 1940 1940\n",
              " [9073] 1947 1947 1947 1947 1976 1976 1976 1976 1978 1978 1978 1978 1953 1953\n",
              " [9087] 1953 1953 1948 1948 1948 1948 1934 1934 1934 1934 1948 1948 1948 1948\n",
              " [9101] 1948 1948 1948 1948 1948 1948 1948 1948 1948 1948 1948 1948 1955 1955\n",
              " [9115] 1955 1955 1941 1941 1941 1941 1969 1969 1969 1969 1938 1938 1938 1938\n",
              " [9129] 1971 1971 1971 1971 1949 1949 1949 1949 1946 1946 1946 1946 1946 1946\n",
              " [9143] 1946 1946 1946 1946 1946 1946 1946 1946 1946 1946 1977 1977 1977 1977\n",
              " [9157] 1944 1944 1944 1944 1938 1938 1938 1938 1962 1962 1962 1962 1962 1962\n",
              " [9171] 1962 1962 1962 1962 1962 1962 1962 1962 1962 1962 1953 1953 1953 1953\n",
              " [9185] 1953 1953 1953 1953 1953 1953 1953 1953 1953 1953 1953 1953 1934 1934\n",
              " [9199] 1934 1934 1943 1943 1943 1943 1978 1978 1978 1978 1962 1962 1962 1962\n",
              " [9213] 1976 1976 1976 1976 1972 1972 1972 1972 1963 1963 1963 1963 1965 1965\n",
              " [9227] 1965 1965 1969 1969 1969 1969 1982 1982 1982 1982 1969 1969 1969 1969\n",
              " [9241] 1962 1962 1962 1962 1972 1972 1972 1972 1973 1973 1973 1973 1973 1973\n",
              " [9255] 1973 1973 1973 1973 1973 1973 1973 1973 1973 1973 1950 1950 1950 1950\n",
              " [9269] 1947 1947 1947 1947 1947 1947 1947 1947 1947 1947 1947 1947 1947 1947\n",
              " [9283] 1947 1947 1974 1974 1974 1974 1944 1944 1944 1944 1964 1964 1964 1964\n",
              " [9297] 1958 1958 1958 1958 1971 1971 1971 1971 1937 1937 1937 1937 1933 1933\n",
              " [9311] 1933 1933 1961 1961 1961 1961 1982 1982 1982 1982 1950 1950 1950 1950\n",
              " [9325] 1972 1972 1972 1972 1972 1972 1972 1972 1955 1955 1955 1955 1978 1978\n",
              " [9339] 1978 1978 1973 1973 1973 1973 1959 1959 1959 1959 1956 1956 1956 1956\n",
              " [9353] 1975 1975 1975 1975 1982 1982 1982 1982 1938 1938 1938 1938 1971 1971\n",
              " [9367] 1971 1971 1973 1973 1973 1973 1960 1960 1960 1960 1955 1955 1955 1955\n",
              " [9381] 1950 1950 1950 1950 1953 1953 1953 1953 1983 1983 1983 1983 1965 1965\n",
              " [9395] 1965 1965 1966 1966 1966 1966 1956 1956 1956 1956 1948 1948 1948 1948\n",
              " [9409] 1941 1941 1941 1941 1941 1941 1941 1941 1941 1941 1941 1941 1941 1941\n",
              " [9423] 1941 1941 1949 1949 1949 1949 1962 1962 1962 1962 1962 1962 1962 1962\n",
              " [9437] 1962 1962 1962 1962 1962 1962 1962 1962 1965 1965 1965 1965 1958 1958\n",
              " [9451] 1958 1958 1953 1953 1953 1953 1979 1979 1979 1979 1955 1955 1955 1955\n",
              " [9465] 1935 1935 1935 1935 1979 1979 1979 1979 1967 1967 1967 1967 1981 1981\n",
              " [9479] 1981 1981 1952 1952 1952 1952 1948 1948 1948 1948 1939 1939 1939 1939\n",
              " [9493] 1939 1939 1939 1939 1939 1939 1939 1939 1939 1939 1939 1939 1949 1949\n",
              " [9507] 1949 1949 1938 1938 1938 1938 1982 1982 1982 1982 1975 1975 1975 1975\n",
              " [9521] 1975 1975 1975 1975 1975 1975 1975 1975 1975 1975 1975 1975 1937 1937\n",
              " [9535] 1937 1937 1970 1970 1970 1970 1964 1964 1964 1964 1949 1949 1949 1949\n",
              " [9549] 1942 1942 1942 1942 1962 1962 1962 1962 1979 1979 1979 1979 1976 1976\n",
              " [9563] 1976 1976 1942 1942 1942 1942 1970 1970 1970 1970 1974 1974 1974 1974\n",
              " [9577] 1957 1957 1957 1957 1935 1935 1935 1935 1962 1962 1962 1962 1975 1975\n",
              " [9591] 1975 1975 1937 1937 1937 1937 1945 1945 1945 1945 1982 1982 1982 1982\n",
              " [9605] 1980 1980 1980 1980 1948 1948 1948 1948 1933 1933 1933 1933 1967 1967\n",
              " [9619] 1967 1967 1939 1939 1939 1939 1939 1939 1939 1939 1939 1939 1939 1939\n",
              " [9633] 1939 1939 1939 1939 1957 1957 1957 1957 1957 1957 1957 1957 1957 1957\n",
              " [9647] 1957 1957 1957 1957 1957 1957 1953 1953 1953 1953 1936 1936 1936 1936\n",
              " [9661] 1953 1953 1953 1953 1953 1953 1953 1953 1953 1953 1953 1953 1953 1953\n",
              " [9675] 1953 1953 1959 1959 1959 1959 1975 1975 1975 1975 1980 1980 1980 1980\n",
              " [9689] 1940 1940 1940 1940 1952 1952 1952 1952 1934 1934 1934 1934 1961 1961\n",
              " [9703] 1961 1961 1974 1974 1974 1974 1939 1939 1939 1939 1976 1976 1976 1976\n",
              " [9717] 1970 1970 1970 1970 1964 1964 1964 1964 1964 1964 1964 1964 1964 1964\n",
              " [9731] 1964 1964 1964 1964 1964 1964 1984 1984 1984 1984 1984 1984 1984 1984\n",
              " [9745] 1984 1984 1984 1984 1984 1984 1984 1984 1951 1951 1951 1951 1946 1946\n",
              " [9759] 1946 1946 1951 1951 1951 1951 1964 1964 1964 1964 1954 1954 1954 1954\n",
              " [9773] 1935 1935 1935 1935 1944 1944 1944 1944 1953 1953 1953 1953 1953 1953\n",
              " [9787] 1953 1953 1953 1953 1953 1953 1953 1953 1953 1953 1955 1955 1955 1955\n",
              " [9801] 1969 1969 1969 1969 1984 1984 1984 1984 1964 1964 1964 1964 1981 1981\n",
              " [9815] 1981 1981 1941 1941 1941 1941 1944 1944 1944 1944 1978 1978 1978 1978\n",
              " [9829] 1934 1934 1934 1934 1982 1982 1982 1982 1982 1982 1982 1982 1982 1982\n",
              " [9843] 1982 1982 1982 1982 1982 1982 1950 1950 1950 1950 1959 1959 1959 1959\n",
              " [9857] 1975 1975 1975 1975 1952 1952 1952 1952 1940 1940 1940 1940 1974 1974\n",
              " [9871] 1974 1974 1968 1968 1968 1968 1960 1960 1960 1960 1955 1955 1955 1955\n",
              " [9885] 1951 1951 1951 1951 1951 1951 1951 1951 1951 1951 1951 1951 1951 1951\n",
              " [9899] 1951 1951 1960 1960 1960 1960 1960 1960 1960 1960 1960 1960 1960 1960\n",
              " [9913] 1960 1960 1960 1960 1972 1972 1972 1972 1978 1978 1978 1978 1979 1979\n",
              " [9927] 1979 1979 1974 1974 1974 1974 1965 1965 1965 1965 1946 1946 1946 1946\n",
              " [9941] 1983 1983 1983 1983 1983 1983 1983 1983 1983 1983 1983 1983 1983 1983\n",
              " [9955] 1983 1983 1961 1961 1961 1961 1954 1954 1954 1954 1947 1947 1947 1947\n",
              " [9969] 1974 1974 1974 1974 1974 1974 1974 1974 1974 1974 1974 1974 1974 1974\n",
              " [9983] 1974 1974 1965 1965 1965 1965 1975 1975 1975 1975 1944 1944 1944 1944\n",
              " [9997] 1972 1972 1972 1972 1980 1980 1980 1980 1979 1979 1979 1979 1955 1955\n",
              "[10011] 1955 1955 1953 1953 1953 1953 1949 1949 1949 1949 1949 1949 1949 1949\n",
              "[10025] 1949 1949 1949 1949 1949 1949 1949 1949 1955 1955 1955 1955 1984 1984\n",
              "[10039] 1984 1984 1936 1936 1936 1936 1973 1973 1973 1973 1966 1966 1966 1966\n",
              "[10053] 1945 1945 1945 1945 1945 1945 1945 1945 1945 1945 1945 1945 1945 1945\n",
              "[10067] 1945 1945 1937 1937 1937 1937 1941 1941 1941 1941 1972 1972 1972 1972\n",
              "[10081] 1937 1937 1937 1937 1974 1974 1974 1974 1974 1974 1974 1974 1974 1974\n",
              "[10095] 1974 1974 1974 1974 1974 1974 1960 1960 1960 1960 1950 1950 1950 1950\n",
              "[10109] 1970 1970 1970 1970 1976 1976 1976 1976 1982 1982 1982 1982 1977 1977\n",
              "[10123] 1977 1977 1951 1951 1951 1951 1959 1959 1959 1959 1958 1958 1958 1958\n",
              "[10137] 1958 1958 1958 1958 1973 1973 1973 1973 1969 1969 1969 1969 1955 1955\n",
              "[10151] 1955 1955 1967 1967 1967 1967 1971 1971 1971 1971 1947 1947 1947 1947\n",
              "[10165] 1989 1989 1989 1989 1971 1971 1971 1971 1957 1957 1957 1957 1944 1944\n",
              "[10179] 1944 1944 1944 1944 1944 1944 1981 1981 1981 1981 1981 1981 1981 1981\n",
              "[10193] 1981 1981 1981 1981 1981 1981 1981 1981 1981 1981 1981 1981 1981 1981\n",
              "[10207] 1981 1981 1981 1981 1981 1981 1981 1981 1981 1981 1981 1981 1981 1981\n",
              "[10221] 1969 1969 1969 1969 1956 1956 1956 1956 1952 1952 1952 1952 1947 1947\n",
              "[10235] 1947 1947 1961 1961 1961 1961 1981 1981 1981 1981 1951 1951 1951 1951\n",
              "[10249] 1937 1937 1937 1937 1937 1937 1937 1937 1937 1937 1937 1937 1937 1937\n",
              "[10263] 1937 1937 1959 1959 1959 1959 1982 1982 1982 1982 1946 1946 1946 1946\n",
              "[10277] 1950 1950 1950 1950 1966 1966 1966 1966 1946 1946 1946 1946 1975 1975\n",
              "[10291] 1975 1975 1967 1967 1967 1967 1931 1931 1931 1931 1978 1978 1978 1978\n",
              "[10305] 1978 1978 1978 1978 1978 1978 1978 1978 1978 1978 1978 1978 1973 1973\n",
              "[10319] 1973 1973 1966 1966 1966 1966 1955 1955 1955 1955 1942 1942 1942 1942\n",
              "[10333] 1942 1942 1942 1942 1971 1971 1971 1971 1946 1946 1946 1946 1946 1946\n",
              "[10347] 1946 1946 1946 1946 1946 1946 1946 1946 1946 1946 1934 1934 1934 1934\n",
              "[10361] 1969 1969 1969 1969 1935 1935 1935 1935 1980 1980 1980 1980 1970 1970\n",
              "[10375] 1970 1970 1958 1958 1958 1958 1979 1979 1979 1979 1976 1976 1976 1976\n",
              "[10389] 1976 1976 1976 1976 1976 1976 1976 1976 1976 1976 1976 1976 1969 1969\n",
              "[10403] 1969 1969 1975 1975 1975 1975 1947 1947 1947 1947 1936 1936 1936 1936\n",
              "[10417] 1971 1971 1971 1971 1963 1963 1963 1963 1961 1961 1961 1961 1940 1940\n",
              "[10431] 1940 1940 1973 1973 1973 1973 1952 1952 1952 1952 1935 1935 1935 1935\n",
              "[10445] 1935 1935 1935 1935 1935 1935 1935 1935 1935 1935 1935 1935 1957 1957\n",
              "[10459] 1957 1957 1973 1973 1973 1973 1963 1963 1963 1963 1963 1963 1963 1963\n",
              "[10473] 1963 1963 1963 1963 1963 1963 1963 1963 1982 1982 1982 1982 1941 1941\n",
              "[10487] 1941 1941 1963 1963 1963 1963 1936 1936 1936 1936 1968 1968 1968 1968\n",
              "[10501] 1968 1968 1968 1968 1968 1968 1968 1968 1968 1968 1968 1968 1939 1939\n",
              "[10515] 1939 1939 1958 1958 1958 1958 1956 1956 1956 1956 1978 1978 1978 1978\n",
              "[10529] 1978 1978 1978 1978 1949 1949 1949 1949 1971 1971 1971 1971 1976 1976\n",
              "[10543] 1976 1976 1972 1972 1972 1972 1952 1952 1952 1952 1952 1952 1952 1952\n",
              "[10557] 1952 1952 1952 1952 1952 1952 1952 1952 1935 1935 1935 1935 1935 1935\n",
              "[10571] 1935 1935 1968 1968 1968 1968 1968 1968 1968 1968 1958 1958 1958 1958\n",
              "[10585] 1966 1966 1966 1966 1986 1986 1986 1986 1967 1967 1967 1967 1961 1961\n",
              "[10599] 1961 1961 1973 1973 1973 1973 1955 1955 1955 1955 1968 1968 1968 1968\n",
              "[10613] 1978 1978 1978 1978 1962 1962 1962 1962 1954 1954 1954 1954 1966 1966\n",
              "[10627] 1966 1966 1977 1977 1977 1977 1935 1935 1935 1935 1939 1939 1939 1939\n",
              "[10641] 1939 1939 1939 1939 1939 1939 1939 1939 1939 1939 1939 1939 1944 1944\n",
              "[10655] 1944 1944 1944 1944 1944 1944 1944 1944 1944 1944 1944 1944 1944 1944\n",
              "[10669] 1974 1974 1974 1974 1982 1982 1982 1982 1982 1982 1982 1982 1982 1982\n",
              "[10683] 1982 1982 1982 1982 1982 1982 1941 1941 1941 1941 1970 1970 1970 1970\n",
              "[10697] 1979 1979 1979 1979 1936 1936 1936 1936 1971 1971 1971 1971 1975 1975\n",
              "[10711] 1975 1975 1975 1975 1975 1975 1975 1975 1975 1975 1975 1975 1975 1975\n",
              "[10725] 1940 1940 1940 1940 1977 1977 1977 1977 1951 1951 1951 1951 1973 1973\n",
              "[10739] 1973 1973 1954 1954 1954 1954 1939 1939 1939 1939 1950 1950 1950 1950\n",
              "[10753] 1984 1984 1984 1984 1984 1984 1984 1984 1984 1984 1984 1984 1984 1984\n",
              "[10767] 1984 1984 1969 1969 1969 1969 1969 1969 1969 1969 1969 1969 1969 1969\n",
              "[10781] 1969 1969 1969 1969 1976 1976 1976 1976 1943 1943 1943 1943 1965 1965\n",
              "[10795] 1965 1965 1941 1941 1941 1941 1943 1943 1943 1943 1943 1943 1943 1943\n",
              "[10809] 1943 1943 1943 1943 1943 1943 1943 1943 1947 1947 1947 1947 1949 1949\n",
              "[10823] 1949 1949 1983 1983 1983 1983 1976 1976 1976 1976 1947 1947 1947 1947\n",
              "[10837] 1947 1947 1947 1947 1947 1947 1947 1947 1947 1947 1947 1947 1946 1946\n",
              "[10851] 1946 1946 1970 1970 1970 1970 1974 1974 1974 1974 1974 1974 1974 1974\n",
              "[10865] 1974 1974 1974 1974 1974 1974 1974 1974 1969 1969 1969 1969 1963 1963\n",
              "[10879] 1963 1963 1957 1957 1957 1957 1939 1939 1939 1939 1944 1944 1944 1944\n",
              "[10893] 1938 1938 1938 1938 1979 1979 1979 1979 1981 1981 1981 1981 1967 1967\n",
              "[10907] 1967 1967 1967 1967 1967 1967 1967 1967 1967 1967 1967 1967 1967 1967\n",
              "[10921] 1970 1970 1970 1970 1954 1954 1954 1954 1983 1983 1983 1983 1957 1957\n",
              "[10935] 1957 1957 1971 1971 1971 1971 1971 1971 1971 1971 1971 1971 1971 1971\n",
              "[10949] 1971 1971 1971 1971 1980 1980 1980 1980 1953 1953 1953 1953 1978 1978\n",
              "[10963] 1978 1978 1976 1976 1976 1976 1982 1982 1982 1982 1984 1984 1984 1984\n",
              "[10977] 1981 1981 1981 1981 1971 1971 1971 1971 1952 1952 1952 1952 1965 1965\n",
              "[10991] 1965 1965 1969 1969 1969 1969 1943 1943 1943 1943 1943 1943 1943 1943\n",
              "[11005] 1943 1943 1943 1943 1943 1943 1943 1943 1968 1968 1968 1968 1941 1941\n",
              "[11019] 1941 1941 1946 1946 1946 1946 1946 1946 1946 1946 1946 1946 1946 1946\n",
              "[11033] 1946 1946 1946 1946 1951 1951 1951 1951 1967 1967 1967 1967 1951 1951\n",
              "[11047] 1951 1951 1967 1967 1967 1967 1965 1965 1965 1965 1970 1970 1970 1970\n",
              "[11061] 1961 1961 1961 1961 1948 1948 1948 1948 1979 1979 1979 1979 1939 1939\n",
              "[11075] 1939 1939 1989 1989 1989 1989 1935 1935 1935 1935 1950 1950 1950 1950\n",
              "[11089] 1954 1954 1954 1954 1962 1962 1962 1962 1972 1972 1972 1972 1973 1973\n",
              "[11103] 1973 1973 1973 1973 1973 1973 1973 1973 1973 1973 1973 1973 1973 1973\n",
              "[11117] 1968 1968 1968 1968 1952 1952 1952 1952 1941 1941 1941 1941 1941 1941\n",
              "[11131] 1941 1941 1941 1941 1941 1941 1941 1941 1941 1941 1972 1972 1972 1972\n",
              "[11145] 1941 1941 1941 1941 1951 1951 1951 1951 1960 1960 1960 1960 1979 1979\n",
              "[11159] 1979 1979 1980 1980 1980 1980 1980 1980 1980 1980 1980 1980 1980 1980\n",
              "[11173] 1980 1980 1980 1980 1943 1943 1943 1943 1967 1967 1967 1967 1973 1973\n",
              "[11187] 1973 1973 1965 1965 1965 1965 1979 1979 1979 1979 1982 1982 1982 1982\n",
              "[11201] 1950 1950 1950 1950 1953 1953 1953 1953 1962 1962 1962 1962 1952 1952\n",
              "[11215] 1952 1952 1950 1950 1950 1950 1952 1952 1952 1952 1958 1958 1958 1958\n",
              "[11229] 1964 1964 1964 1964 1959 1959 1959 1959 1963 1963 1963 1963 1977 1977\n",
              "[11243] 1977 1977 1977 1977 1977 1977 1977 1977 1977 1977 1977 1977 1977 1977\n",
              "[11257] 1949 1949 1949 1949 1985 1985 1985 1985 1985 1985 1985 1985 1985 1985\n",
              "[11271] 1985 1985 1985 1985 1985 1985 1970 1970 1970 1970 1979 1979 1979 1979\n",
              "[11285] 1979 1979 1979 1979 1979 1979 1979 1979 1979 1979 1979 1979 1981 1981\n",
              "[11299] 1981 1981 1960 1960 1960 1960 1960 1960 1960 1960 1960 1960 1960 1960\n",
              "[11313] 1960 1960 1960 1960 1937 1937 1937 1937 1950 1950 1950 1950 1974 1974\n",
              "[11327] 1974 1974 1977 1977 1977 1977 1959 1959 1959 1959 1973 1973 1973 1973\n",
              "[11341] 1973 1973 1973 1973 1973 1973 1973 1973 1973 1973 1973 1973 1981 1981\n",
              "[11355] 1981 1981 1982 1982 1982 1982 1944 1944 1944 1944 1933 1933 1933 1933\n",
              "[11369] 1966 1966 1966 1966 1973 1973 1973 1973 1953 1953 1953 1953 1943 1943\n",
              "[11383] 1943 1943 1942 1942 1942 1942 1960 1960 1960 1960 1960 1960 1960 1960\n",
              "[11397] 1960 1960 1960 1960 1960 1960 1960 1960 1960 1960 1960 1960 1960 1960\n",
              "[11411] 1960 1960 1960 1960 1960 1960 1960 1960 1960 1960 1960 1960 1960 1960\n",
              "[11425] 1948 1948 1948 1948 1977 1977 1977 1977 1966 1966 1966 1966 1935 1935\n",
              "[11439] 1935 1935 1935 1935 1935 1935 1935 1935 1935 1935 1935 1935 1935 1935\n",
              "[11453] 1951 1951 1951 1951 1949 1949 1949 1949 1949 1949 1949 1949 1949 1949\n",
              "[11467] 1949 1949 1949 1949 1949 1949 1970 1970 1970 1970 1959 1959 1959 1959\n",
              "[11481] 1974 1974 1974 1974 1972 1972 1972 1972 1934 1934 1934 1934 1967 1967\n",
              "[11495] 1967 1967 1963 1963 1963 1963 1976 1976 1976 1976 1940 1940 1940 1940\n",
              "[11509] 1962 1962 1962 1962 1947 1947 1947 1947 1979 1979 1979 1979 1963 1963\n",
              "[11523] 1963 1963 1943 1943 1943 1943 1937 1937 1937 1937 1965 1965 1965 1965\n",
              "[11537] 1967 1967 1967 1967 1936 1936 1936 1936 1962 1962 1962 1962 1941 1941\n",
              "[11551] 1941 1941 1983 1983 1983 1983 1981 1981 1981 1981 1972 1972 1972 1972\n",
              "[11565] 1939 1939 1939 1939 1939 1939 1939 1939 1939 1939 1939 1939 1939 1939\n",
              "[11579] 1939 1939 1950 1950 1950 1950 1969 1969 1969 1969 1962 1962 1962 1962\n",
              "[11593] 1954 1954 1954 1954 1955 1955 1955 1955 1982 1982 1982 1982 1958 1958\n",
              "[11607] 1958 1958 1958 1958 1958 1958 1958 1958 1958 1958 1958 1958 1958 1958\n",
              "[11621] 1945 1945 1945 1945 1951 1951 1951 1951 1951 1951 1951 1951 1951 1951\n",
              "[11635] 1951 1951 1951 1951 1951 1951 1951 1951 1951 1951 1951 1951 1951 1951\n",
              "[11649] 1951 1951 1951 1951 1951 1951 1951 1951 1951 1951 1951 1951 1973 1973\n",
              "[11663] 1973 1973 1944 1944 1944 1944 1979 1979 1979 1979 1945 1945 1945 1945\n",
              "[11677] 1949 1949 1949 1949 1977 1977 1977 1977 1981 1981 1981 1981 1937 1937\n",
              "[11691] 1937 1937 1949 1949 1949 1949 1959 1959 1959 1959 1959 1959 1959 1959\n",
              "[11705] 1959 1959 1959 1959 1959 1959 1959 1959 1983 1983 1983 1983 1942 1942\n",
              "[11719] 1942 1942 1978 1978 1978 1978 1946 1946 1946 1946 1970 1970 1970 1970\n",
              "[11733] 1936 1936 1936 1936 1975 1975 1975 1975 1940 1940 1940 1940 1968 1968\n",
              "[11747] 1968 1968 1941 1941 1941 1941 1978 1978 1978 1978 1973 1973 1973 1973\n",
              "[11761] 1971 1971 1971 1971 1954 1954 1954 1954 1949 1949 1949 1949 1972 1972\n",
              "[11775] 1972 1972 1974 1974 1974 1974 1962 1962 1962 1962 1953 1953 1953 1953\n",
              "[11789] 1945 1945 1945 1945 1954 1954 1954 1954 1981 1981 1981 1981 1966 1966\n",
              "[11803] 1966 1966 1977 1977 1977 1977 1970 1970 1970 1970 1954 1954 1954 1954\n",
              "[11817] 1966 1966 1966 1966 1949 1949 1949 1949 1967 1967 1967 1967 1940 1940\n",
              "[11831] 1940 1940 1977 1977 1977 1977 1962 1962 1962 1962 1942 1942 1942 1942\n",
              "[11845] 1953 1953 1953 1953 1953 1953 1953 1953 1953 1953 1953 1953 1953 1953\n",
              "[11859] 1953 1953 1971 1971 1971 1971 1952 1952 1952 1952 1952 1952 1952 1952\n",
              "[11873] 1952 1952 1952 1952 1952 1952 1952 1952 1977 1977 1977 1977 1977 1977\n",
              "[11887] 1977 1977 1977 1977 1977 1977 1977 1977 1977 1977 1937 1937 1937 1937\n",
              "[11901] 1949 1949 1949 1949 1953 1953 1953 1953 1954 1954 1954 1954 1978 1978\n",
              "[11915] 1978 1978 1960 1960 1960 1960 1954 1954 1954 1954 1973 1973 1973 1973\n",
              "[11929] 1976 1976 1976 1976 1950 1950 1950 1950 1950 1950 1950 1950 1950 1950\n",
              "[11943] 1950 1950 1950 1950 1950 1950 1944 1944 1944 1944 1980 1980 1980 1980\n",
              "[11957] 1972 1972 1972 1972 1971 1971 1971 1971 1963 1963 1963 1963 1970 1970\n",
              "[11971] 1970 1970 1977 1977 1977 1977 1977 1977 1977 1977 1977 1977 1977 1977\n",
              "[11985] 1977 1977 1977 1977 1967 1967 1967 1967 1944 1944 1944 1944 1971 1971\n",
              "[11999] 1971 1971 1971 1971 1971 1971 1971 1971 1971 1971 1971 1971 1971 1971\n",
              "[12013] 1943 1943 1943 1943 1981 1981 1981 1981 1979 1979 1979 1979 1962 1962\n",
              "[12027] 1962 1962 1957 1957 1957 1957 1972 1972 1972 1972 1950 1950 1950 1950\n",
              "[12041] 1958 1958 1958 1958 1935 1935 1935 1935 1977 1977 1977 1977 1968 1968\n",
              "[12055] 1968 1968 1954 1954 1954 1954 1983 1983 1983 1983 1963 1963 1963 1963\n",
              "[12069] 1963 1963 1963 1963 1963 1963 1963 1963 1963 1963 1963 1963 1972 1972\n",
              "[12083] 1972 1972 1973 1973 1973 1973 1965 1965 1965 1965 1959 1959 1959 1959\n",
              "[12097] 1973 1973 1973 1973 1973 1973 1973 1973 1973 1973 1973 1973 1973 1973\n",
              "[12111] 1973 1973 1938 1938 1938 1938 1942 1942 1942 1942 1941 1941 1941 1941\n",
              "[12125] 1950 1950 1950 1950 1978 1978 1978 1978 1972 1972 1972 1972 1945 1945\n",
              "[12139] 1945 1945 1945 1945 1945 1945 1933 1933 1933 1933 1953 1953 1953 1953\n",
              "[12153] 1972 1972 1972 1972 1979 1979 1979 1979 1983 1983 1983 1983 1961 1961\n",
              "[12167] 1961 1961 1961 1961 1961 1961 1961 1961 1961 1961 1961 1961 1961 1961\n",
              "[12181] 1944 1944 1944 1944 1978 1978 1978 1978 1978 1978 1978 1978 1960 1960\n",
              "[12195] 1960 1960 1973 1973 1973 1973 1936 1936 1936 1936 1977 1977 1977 1977\n",
              "[12209] 1956 1956 1956 1956 1974 1974 1974 1974 1958 1958 1958 1958 1968 1968\n",
              "[12223] 1968 1968 1939 1939 1939 1939 1938 1938 1938 1938 1959 1959 1959 1959\n",
              "[12237] 1942 1942 1942 1942 1975 1975 1975 1975 1979 1979 1979 1979 1977 1977\n",
              "[12251] 1977 1977 1976 1976 1976 1976 1932 1932 1932 1932 1965 1965 1965 1965\n",
              "[12265] 1974 1974 1974 1974 1977 1977 1977 1977 1946 1946 1946 1946 1935 1935\n",
              "[12279] 1935 1935 1942 1942 1942 1942 1942 1942 1942 1942 1942 1942 1942 1942\n",
              "[12293] 1942 1942 1942 1942 1966 1966 1966 1966 1948 1948 1948 1948 1948 1948\n",
              "[12307] 1948 1948 1948 1948 1948 1948 1948 1948 1948 1948 1954 1954 1954 1954\n",
              "[12321] 1971 1971 1971 1971 1948 1948 1948 1948 1987 1987 1987 1987 1973 1973\n",
              "[12335] 1973 1973 1944 1944 1944 1944 1968 1968 1968 1968 1968 1968 1968 1968\n",
              "[12349] 1968 1968 1968 1968 1968 1968 1968 1968 1936 1936 1936 1936 1967 1967\n",
              "[12363] 1967 1967 1942 1942 1942 1942 1977 1977 1977 1977 1977 1977 1977 1977\n",
              "[12377] 1977 1977 1977 1977 1977 1977 1977 1977 1975 1975 1975 1975 1975 1975\n",
              "[12391] 1975 1975 1975 1975 1975 1975 1975 1975 1975 1975 1969 1969 1969 1969\n",
              "[12405] 1978 1978 1978 1978 1973 1973 1973 1973 1977 1977 1977 1977 1977 1977\n",
              "[12419] 1977 1977 1977 1977 1977 1977 1977 1977 1977 1977 1935 1935 1935 1935\n",
              "[12433] 1935 1935 1935 1935 1935 1935 1935 1935 1935 1935 1935 1935 1974 1974\n",
              "[12447] 1974 1974 1974 1974 1974 1974 1975 1975 1975 1975 1968 1968 1968 1968\n",
              "[12461] 1952 1952 1952 1952 1952 1952 1952 1952 1986 1986 1986 1986 1986 1986\n",
              "[12475] 1986 1986 1986 1986 1986 1986 1986 1986 1986 1986 1973 1973 1973 1973\n",
              "[12489] 1973 1973 1973 1973 1973 1973 1973 1973 1973 1973 1973 1973 1978 1978\n",
              "[12503] 1978 1978 1977 1977 1977 1977 1934 1934 1934 1934 1938 1938 1938 1938\n",
              "[12517] 1938 1938 1938 1938 1938 1938 1938 1938 1938 1938 1938 1938 1964 1964\n",
              "[12531] 1964 1964 1946 1946 1946 1946 1941 1941 1941 1941 1950 1950 1950 1950\n",
              "[12545] 1934 1934 1934 1934 1976 1976 1976 1976 1971 1971 1971 1971 1972 1972\n",
              "[12559] 1972 1972 1972 1972 1972 1972 1972 1972 1972 1972 1972 1972 1972 1972\n",
              "[12573] 1949 1949 1949 1949 1973 1973 1973 1973 1964 1964 1964 1964 1969 1969\n",
              "[12587] 1969 1969 1967 1967 1967 1967 1964 1964 1964 1964 1953 1953 1953 1953\n",
              "[12601] 1980 1980 1980 1980 1939 1939 1939 1939 1979 1979 1979 1979 1973 1973\n",
              "[12615] 1973 1973 1964 1964 1964 1964 1959 1959 1959 1959 1965 1965 1965 1965\n",
              "[12629] 1965 1965 1965 1965 1965 1965 1965 1965 1965 1965 1965 1965 1961 1961\n",
              "[12643] 1961 1961 1961 1961 1961 1961 1961 1961 1961 1961 1961 1961 1961 1961\n",
              "[12657] 1946 1946 1946 1946 1946 1946 1946 1946 1946 1946 1946 1946 1946 1946\n",
              "[12671] 1946 1946 1948 1948 1948 1948 1952 1952 1952 1952 1952 1952 1952 1952\n",
              "[12685] 1952 1952 1952 1952 1952 1952 1952 1952 1975 1975 1975 1975 1978 1978\n",
              "[12699] 1978 1978 1975 1975 1975 1975 1953 1953 1953 1953 1964 1964 1964 1964\n",
              "[12713] 1965 1965 1965 1965 1934 1934 1934 1934 1975 1975 1975 1975 1941 1941\n",
              "[12727] 1941 1941 1982 1982 1982 1982 1938 1938 1938 1938 1968 1968 1968 1968\n",
              "[12741] 1937 1937 1937 1937 1974 1974 1974 1974 1974 1974 1974 1974 1974 1974\n",
              "[12755] 1974 1974 1974 1974 1974 1974 1974 1974 1974 1974 1965 1965 1965 1965\n",
              "[12769] 1945 1945 1945 1945 1948 1948 1948 1948 1943 1943 1943 1943 1982 1982\n",
              "[12783] 1982 1982 1941 1941 1941 1941 1961 1961 1961 1961 1938 1938 1938 1938\n",
              "[12797] 1942 1942 1942 1942 1978 1978 1978 1978 1980 1980 1980 1980 1953 1953\n",
              "[12811] 1953 1953 1960 1960 1960 1960 1969 1969 1969 1969 1951 1951 1951 1951\n",
              "[12825] 1951 1951 1951 1951 1963 1963 1963 1963 1936 1936 1936 1936 1951 1951\n",
              "[12839] 1951 1951 1967 1967 1967 1967 1955 1955 1955 1955 1972 1972 1972 1972\n",
              "[12853] 1960 1960 1960 1960 1973 1973 1973 1973 1961 1961 1961 1961 1977 1977\n",
              "[12867] 1977 1977 1969 1969 1969 1969 1969 1969 1969 1969 1969 1969 1969 1969\n",
              "[12881] 1969 1969 1969 1969 1965 1965 1965 1965 1958 1958 1958 1958 1958 1958\n",
              "[12895] 1958 1958 1947 1947 1947 1947 1973 1973 1973 1973 1963 1963 1963 1963\n",
              "[12909] 1972 1972 1972 1972 1943 1943 1943 1943 1943 1943 1943 1943 1943 1943\n",
              "[12923] 1943 1943 1943 1943 1943 1943 1953 1953 1953 1953 1953 1953 1953 1953\n",
              "[12937] 1953 1953 1953 1953 1953 1953 1953 1953 1933 1933 1933 1933 1966 1966\n",
              "[12951] 1966 1966 1966 1966 1966 1966 1966 1966 1966 1966 1966 1966 1966 1966\n",
              "[12965] 1971 1971 1971 1971 1976 1976 1976 1976 1961 1961 1961 1961 1978 1978\n",
              "[12979] 1978 1978 1968 1968 1968 1968 1966 1966 1966 1966 1952 1952 1952 1952\n",
              "[12993] 1954 1954 1954 1954 1954 1954 1954 1954 1954 1954 1954 1954 1954 1954\n",
              "[13007] 1954 1954 1954 1954 1954 1954 1979 1979 1979 1979 1956 1956 1956 1956\n",
              "[13021] 1980 1980 1980 1980 1944 1944 1944 1944 1938 1938 1938 1938 1954 1954\n",
              "[13035] 1954 1954 1940 1940 1940 1940 1978 1978 1978 1978 1944 1944 1944 1944\n",
              "[13049] 1955 1955 1955 1955 1945 1945 1945 1945 1944 1944 1944 1944 1933 1933\n",
              "[13063] 1933 1933 1983 1983 1983 1983 1973 1973 1973 1973 1975 1975 1975 1975\n",
              "[13077] 1947 1947 1947 1947 1971 1971 1971 1971 1971 1971 1971 1971 1971 1971\n",
              "[13091] 1971 1971 1971 1971 1971 1971 1955 1955 1955 1955 1973 1973 1973 1973\n",
              "[13105] 1982 1982 1982 1982 1974 1974 1974 1974 1967 1967 1967 1967 1967 1967\n",
              "[13119] 1967 1967 1967 1967 1967 1967 1967 1967 1967 1967 1954 1954 1954 1954\n",
              "[13133] 1967 1967 1967 1967 1943 1943 1943 1943 1974 1974 1974 1974 1974 1974\n",
              "[13147] 1974 1974 1974 1974 1974 1974 1974 1974 1974 1974 1944 1944 1944 1944\n",
              "[13161] 1963 1963 1963 1963 1962 1962 1962 1962 1930 1930 1930 1930 1930 1930\n",
              "[13175] 1930 1930 1930 1930 1930 1930 1930 1930 1930 1930 1970 1970 1970 1970\n",
              "[13189] 1962 1962 1962 1962 1945 1945 1945 1945 1982 1982 1982 1982 1945 1945\n",
              "[13203] 1945 1945 1945 1945 1945 1945 1945 1945 1945 1945 1945 1945 1945 1945\n",
              "[13217] 1945 1945 1945 1945 1982 1982 1982 1982 1982 1982 1982 1982 1982 1982\n",
              "[13231] 1982 1982 1982 1982 1982 1982 1952 1952 1952 1952 1959 1959 1959 1959\n",
              "[13245] 1978 1978 1978 1978 1968 1968 1968 1968 1968 1968 1968 1968 1968 1968\n",
              "[13259] 1968 1968 1968 1968 1968 1968 1971 1971 1971 1971 1969 1969 1969 1969\n",
              "[13273] 1969 1969 1969 1969 1969 1969 1969 1969 1969 1969 1969 1969 1960 1960\n",
              "[13287] 1960 1960 1956 1956 1956 1956 1936 1936 1936 1936 1949 1949 1949 1949\n",
              "[13301] 1980 1980 1980 1980 1945 1945 1945 1945 1975 1975 1975 1975 1953 1953\n",
              "[13315] 1953 1953 1969 1969 1969 1969 1969 1969 1969 1969 1969 1969 1969 1969\n",
              "[13329] 1969 1969 1969 1969 1974 1974 1974 1974 1974 1974 1974 1974 1974 1974\n",
              "[13343] 1974 1974 1974 1974 1974 1974 1953 1953 1953 1953 1964 1964 1964 1964\n",
              "[13357] 1964 1964 1964 1964 1964 1964 1964 1964 1964 1964 1964 1964 1960 1960\n",
              "[13371] 1960 1960 1979 1979 1979 1979 1973 1973 1973 1973 1982 1982 1982 1982\n",
              "[13385] 1982 1982 1982 1982 1982 1982 1982 1982 1982 1982 1982 1982 1983 1983\n",
              "[13399] 1983 1983 1950 1950 1950 1950 1950 1950 1950 1950 1950 1950 1950 1950\n",
              "[13413] 1950 1950 1950 1950 1968 1968 1968 1968 1968 1968 1968 1968 1968 1968\n",
              "[13427] 1968 1968 1968 1968 1968 1968 1943 1943 1943 1943 1986 1986 1986 1986\n",
              "[13441] 1945 1945 1945 1945 1935 1935 1935 1935 1933 1933 1933 1933 1953 1953\n",
              "[13455] 1953 1953 1974 1974 1974 1974 1939 1939 1939 1939 1963 1963 1963 1963\n",
              "[13469] 1962 1962 1962 1962 1973 1973 1973 1973 1977 1977 1977 1977 1952 1952\n",
              "[13483] 1952 1952 1982 1982 1982 1982 1972 1972 1972 1972 1963 1963 1963 1963\n",
              "[13497] 1975 1975 1975 1975 1947 1947 1947 1947 1957 1957 1957 1957 1978 1978\n",
              "[13511] 1978 1978 1977 1977 1977 1977 1946 1946 1946 1946 1966 1966 1966 1966\n",
              "[13525] 1961 1961 1961 1961 1941 1941 1941 1941 1960 1960 1960 1960 1976 1976\n",
              "[13539] 1976 1976 1936 1936 1936 1936 1954 1954 1954 1954 1952 1952 1952 1952\n",
              "[13553] 1966 1966 1966 1966 1962 1962 1962 1962 1975 1975 1975 1975 1944 1944\n",
              "[13567] 1944 1944 1944 1944 1944 1944 1944 1944 1944 1944 1944 1944 1944 1944\n",
              "[13581] 1944 1944 1944 1944 1944 1944 1944 1944 1944 1944 1944 1944 1944 1944\n",
              "[13595] 1944 1944 1944 1944 1944 1944 1944 1944 1944 1944 1944 1944 1944 1944\n",
              "[13609] 1944 1944 1944 1944 1944 1944 1944 1944 1975 1975 1975 1975 1960 1960\n",
              "[13623] 1960 1960 1966 1966 1966 1966 1974 1974 1974 1974 1938 1938 1938 1938\n",
              "[13637] 1938 1938 1938 1938 1938 1938 1938 1938 1938 1938 1938 1938 1938 1938\n",
              "[13651] 1938 1938 1938 1938 1938 1938 1938 1938 1938 1938 1938 1938 1938 1938\n",
              "[13665] 1938 1938 1938 1938 1949 1949 1949 1949 1944 1944 1944 1944 1957 1957\n",
              "[13679] 1957 1957 1932 1932 1932 1932 1932 1932 1932 1932 1932 1932 1932 1932\n",
              "[13693] 1932 1932 1932 1932 1936 1936 1936 1936 1964 1964 1964 1964 1945 1945\n",
              "[13707] 1945 1945 1945 1945 1945 1945 1945 1945 1945 1945 1945 1945 1945 1945\n",
              "[13721] 1945 1945 1945 1945 1945 1945 1945 1945 1945 1945 1945 1945 1945 1945\n",
              "[13735] 1945 1945 1945 1945 1945 1945 1942 1942 1942 1942 1978 1978 1978 1978\n",
              "[13749] 1969 1969 1969 1969 1975 1975 1975 1975 1975 1975 1975 1975 1975 1975\n",
              "[13763] 1975 1975 1975 1975 1975 1975 1970 1970 1970 1970 1974 1974 1974 1974\n",
              "[13777] 1975 1975 1975 1975 1979 1979 1979 1979 1958 1958 1958 1958 1942 1942\n",
              "[13791] 1942 1942 1973 1973 1973 1973 1979 1979 1979 1979 1953 1953 1953 1953\n",
              "[13805] 1948 1948 1948 1948 1948 1948 1948 1948 1948 1948 1948 1948 1948 1948\n",
              "[13819] 1948 1948 1943 1943 1943 1943 1943 1943 1943 1943 1943 1943 1943 1943\n",
              "[13833] 1943 1943 1943 1943 1943 1943 1943 1943 1943 1943 1943 1943 1943 1943\n",
              "[13847] 1943 1943 1943 1943 1943 1943 1943 1943 1943 1943 1949 1949 1949 1949\n",
              "[13861] 1953 1953 1953 1953 1961 1961 1961 1961 1941 1941 1941 1941 1966 1966\n",
              "[13875] 1966 1966 1959 1959 1959 1959 1943 1943 1943 1943 1977 1977 1977 1977\n",
              "[13889] 1956 1956 1956 1956 1975 1975 1975 1975 1957 1957 1957 1957 1976 1976\n",
              "[13903] 1976 1976 1955 1955 1955 1955 1982 1982 1982 1982 1979 1979 1979 1979\n",
              "[13917] 1969 1969 1969 1969 1969 1969 1969 1969 1969 1969 1969 1969 1969 1969\n",
              "[13931] 1969 1969 1973 1973 1973 1973 1977 1977 1977 1977 1962 1962 1962 1962\n",
              "[13945] 1981 1981 1981 1981 1971 1971 1971 1971 1971 1971 1971 1971 1971 1971\n",
              "[13959] 1971 1971 1971 1971 1971 1971 1982 1982 1982 1982 1938 1938 1938 1938\n",
              "[13973] 1958 1958 1958 1958 1945 1945 1945 1945 1945 1945 1945 1945 1945 1945\n",
              "[13987] 1945 1945 1945 1945 1945 1945 1978 1978 1978 1978 1972 1972 1972 1972\n",
              "[14001] 1964 1964 1964 1964 1977 1977 1977 1977 1943 1943 1943 1943 1983 1983\n",
              "[14015] 1983 1983 1946 1946 1946 1946 1970 1970 1970 1970 1975 1975 1975 1975\n",
              "[14029] 1975 1975 1975 1975 1975 1975 1975 1975 1975 1975 1975 1975 1976 1976\n",
              "[14043] 1976 1976 1953 1953 1953 1953 1973 1973 1973 1973 1960 1960 1960 1960\n",
              "[14057] 1942 1942 1942 1942 1969 1969 1969 1969 1969 1969 1969 1969 1969 1969\n",
              "[14071] 1969 1969 1969 1969 1969 1969 1942 1942 1942 1942 1934 1934 1934 1934\n",
              "[14085] 1965 1965 1965 1965 1934 1934 1934 1934 1947 1947 1947 1947 1964 1964\n",
              "[14099] 1964 1964 1937 1937 1937 1937 1981 1981 1981 1981 1940 1940 1940 1940\n",
              "[14113] 1969 1969 1969 1969 1973 1973 1973 1973 1969 1969 1969 1969 1967 1967\n",
              "[14127] 1967 1967 1971 1971 1971 1971 1972 1972 1972 1972 1955 1955 1955 1955\n",
              "[14141] 1957 1957 1957 1957 1957 1957 1957 1957 1957 1957 1957 1957 1957 1957\n",
              "[14155] 1957 1957 1977 1977 1977 1977 1933 1933 1933 1933 1953 1953 1953 1953\n",
              "[14169] 1982 1982 1982 1982 1971 1971 1971 1971 1953 1953 1953 1953 1974 1974\n",
              "[14183] 1974 1974 1972 1972 1972 1972 1959 1959 1959 1959 1974 1974 1974 1974\n",
              "[14197] 1939 1939 1939 1939 1967 1967 1967 1967 1949 1949 1949 1949 1937 1937\n",
              "[14211] 1937 1937 1975 1975 1975 1975 1975 1975 1975 1975 1975 1975 1975 1975\n",
              "[14225] 1975 1975 1975 1975 1974 1974 1974 1974 1956 1956 1956 1956 1951 1951\n",
              "[14239] 1951 1951 1939 1939 1939 1939 1946 1946 1946 1946 1946 1946 1946 1946\n",
              "[14253] 1946 1946 1946 1946 1946 1946 1946 1946 1952 1952 1952 1952 1970 1970\n",
              "[14267] 1970 1970 1970 1970 1970 1970 1961 1961 1961 1961 1947 1947 1947 1947\n",
              "[14281] 1942 1942 1942 1942 1964 1964 1964 1964 1955 1955 1955 1955 1960 1960\n",
              "[14295] 1960 1960 1961 1961 1961 1961 1961 1961 1961 1961 1961 1961 1961 1961\n",
              "[14309] 1961 1961 1961 1961 1943 1943 1943 1943 1943 1943 1943 1943 1943 1943\n",
              "[14323] 1943 1943 1943 1943 1943 1943 1974 1974 1974 1974 1964 1964 1964 1964\n",
              "[14337] 1965 1965 1965 1965 1975 1975 1975 1975 1979 1979 1979 1979 1966 1966\n",
              "[14351] 1966 1966 1977 1977 1977 1977 1977 1977 1977 1977 1977 1977 1977 1977\n",
              "[14365] 1977 1977 1977 1977 1952 1952 1952 1952 1972 1972 1972 1972 1975 1975\n",
              "[14379] 1975 1975 1956 1956 1956 1956 1981 1981 1981 1981 1974 1974 1974 1974\n",
              "[14393] 1979 1979 1979 1979 1971 1971 1971 1971 1983 1983 1983 1983 1983 1983\n",
              "[14407] 1983 1983 1983 1983 1983 1983 1983 1983 1983 1983 1977 1977 1977 1977\n",
              "[14421] 1973 1973 1973 1973 1971 1971 1971 1971 1930 1930 1930 1930 1969 1969\n",
              "[14435] 1969 1969 1981 1981 1981 1981 1981 1981 1981 1981 1981 1981 1981 1981\n",
              "[14449] 1981 1981 1981 1981 1943 1943 1943 1943 1968 1968 1968 1968 1973 1973\n",
              "[14463] 1973 1973 1943 1943 1943 1943 1935 1935 1935 1935 1953 1953 1953 1953\n",
              "[14477] 1974 1974 1974 1974 1971 1971 1971 1971 1971 1971 1971 1971 1971 1971\n",
              "[14491] 1971 1971 1971 1971 1971 1971 1942 1942 1942 1942 1964 1964 1964 1964\n",
              "[14505] 1976 1976 1976 1976 1971 1971 1971 1971 1947 1947 1947 1947 1970 1970\n",
              "[14519] 1970 1970 1938 1938 1938 1938 1976 1976 1976 1976 1969 1969 1969 1969\n",
              "[14533] 1960 1960 1960 1960 1975 1975 1975 1975 1971 1971 1971 1971 1971 1971\n",
              "[14547] 1971 1971 1971 1971 1971 1971 1971 1971 1971 1971 1950 1950 1950 1950\n",
              "[14561] 1982 1982 1982 1982 1943 1943 1943 1943 1947 1947 1947 1947 1938 1938\n",
              "[14575] 1938 1938 1963 1963 1963 1963 1962 1962 1962 1962 1962 1962 1962 1962\n",
              "[14589] 1962 1962 1962 1962 1962 1962 1962 1962 1977 1977 1977 1977 1963 1963\n",
              "[14603] 1963 1963 1931 1931 1931 1931 1963 1963 1963 1963 1943 1943 1943 1943\n",
              "[14617] 1965 1965 1965 1965 1960 1960 1960 1960 1973 1973 1973 1973 1969 1969\n",
              "[14631] 1969 1969 1959 1959 1959 1959 1946 1946 1946 1946 1968 1968 1968 1968\n",
              "[14645] 1971 1971 1971 1971 1969 1969 1969 1969 1946 1946 1946 1946 1959 1959\n",
              "[14659] 1959 1959 1974 1974 1974 1974 1955 1955 1955 1955 1936 1936 1936 1936\n",
              "[14673] 1973 1973 1973 1973 1940 1940 1940 1940 1963 1963 1963 1963 1976 1976\n",
              "[14687] 1976 1976 1967 1967 1967 1967 1944 1944 1944 1944 1972 1972 1972 1972\n",
              "[14701] 1932 1932 1932 1932 1932 1932 1932 1932 1932 1932 1932 1932 1932 1932\n",
              "[14715] 1932 1932 1947 1947 1947 1947 1952 1952 1952 1952 1930 1930 1930 1930\n",
              "[14729] 1956 1956 1956 1956 1976 1976 1976 1976 1962 1962 1962 1962 1965 1965\n",
              "[14743] 1965 1965 1960 1960 1960 1960 1967 1967 1967 1967 1966 1966 1966 1966\n",
              "[14757] 1946 1946 1946 1946 1978 1978 1978 1978 1980 1980 1980 1980 1977 1977\n",
              "[14771] 1977 1977 1945 1945 1945 1945 1970 1970 1970 1970 1957 1957 1957 1957\n",
              "[14785] 1947 1947 1947 1947 1947 1947 1947 1947 1947 1947 1947 1947 1947 1947\n",
              "[14799] 1947 1947 1971 1971 1971 1971 1977 1977 1977 1977 1972 1972 1972 1972\n",
              "[14813] 1934 1934 1934 1934 1939 1939 1939 1939 1939 1939 1939 1939 1939 1939\n",
              "[14827] 1939 1939 1939 1939 1939 1939 1980 1980 1980 1980 1965 1965 1965 1965\n",
              "[14841] 1966 1966 1966 1966 1966 1966 1966 1966 1966 1966 1966 1966 1966 1966\n",
              "[14855] 1966 1966 1952 1952 1952 1952 1940 1940 1940 1940 1943 1943 1943 1943\n",
              "[14869] 1934 1934 1934 1934 1934 1934 1934 1934 1934 1934 1934 1934 1934 1934\n",
              "[14883] 1934 1934 1940 1940 1940 1940 1934 1934 1934 1934 1950 1950 1950 1950\n",
              "[14897] 1950 1950 1950 1950 1950 1950 1950 1950 1950 1950 1950 1950 1938 1938\n",
              "[14911] 1938 1938 1974 1974 1974 1974 1961 1961 1961 1961 1980 1980 1980 1980\n",
              "[14925] 1980 1980 1980 1980 1980 1980 1980 1980 1980 1980 1980 1980 1967 1967\n",
              "[14939] 1967 1967 1948 1948 1948 1948 1979 1979 1979 1979 1948 1948 1948 1948\n",
              "[14953] 1956 1956 1956 1956 1961 1961 1961 1961 1984 1984 1984 1984 1979 1979\n",
              "[14967] 1979 1979 1934 1934 1934 1934 1952 1952 1952 1952 1953 1953 1953 1953\n",
              "[14981] 1953 1953 1953 1953 1953 1953 1953 1953 1953 1953 1953 1953 1940 1940\n",
              "[14995] 1940 1940 1980 1980 1980 1980 1978 1978 1978 1978 1950 1950 1950 1950\n",
              "[15009] 1950 1950 1950 1950 1950 1950 1950 1950 1950 1950 1950 1950 1950 1950\n",
              "[15023] 1950 1950 1950 1950 1950 1950 1950 1950 1950 1950 1950 1950 1950 1950\n",
              "[15037] 1950 1950 1950 1950 1952 1952 1952 1952 1970 1970 1970 1970 1969 1969\n",
              "[15051] 1969 1969 1938 1938 1938 1938 1952 1952 1952 1952 1979 1979 1979 1979\n",
              "[15065] 1950 1950 1950 1950 1975 1975 1975 1975 1963 1963 1963 1963 1937 1937\n",
              "[15079] 1937 1937 1972 1972 1972 1972 1951 1951 1951 1951 1964 1964 1964 1964\n",
              "[15093] 1969 1969 1969 1969 1979 1979 1979 1979 1952 1952 1952 1952 1933 1933\n",
              "[15107] 1933 1933 1933 1933 1933 1933 1933 1933 1933 1933 1933 1933 1933 1933\n",
              "[15121] 1961 1961 1961 1961 1947 1947 1947 1947 1970 1970 1970 1970 1968 1968\n",
              "[15135] 1968 1968 1950 1950 1950 1950 1948 1948 1948 1948 1949 1949 1949 1949\n",
              "[15149] 1975 1975 1975 1975 1939 1939 1939 1939 1939 1939 1939 1939 1939 1939\n",
              "[15163] 1939 1939 1939 1939 1939 1939 1949 1949 1949 1949 1957 1957 1957 1957\n",
              "[15177] 1973 1973 1973 1973 1965 1965 1965 1965 1965 1965 1965 1965 1965 1965\n",
              "[15191] 1965 1965 1965 1965 1965 1965 1972 1972 1972 1972 1939 1939 1939 1939\n",
              "[15205] 1944 1944 1944 1944 1980 1980 1980 1980 1966 1966 1966 1966 1968 1968\n",
              "[15219] 1968 1968 1936 1936 1936 1936 1943 1943 1943 1943 1976 1976 1976 1976\n",
              "[15233] 1948 1948 1948 1948 1939 1939 1939 1939 1977 1977 1977 1977 1946 1946\n",
              "[15247] 1946 1946 1979 1979 1979 1979 1965 1965 1965 1965 1965 1965 1965 1965\n",
              "[15261] 1965 1965 1965 1965 1965 1965 1965 1965 1970 1970 1970 1970 1974 1974\n",
              "[15275] 1974 1974 1934 1934 1934 1934 1972 1972 1972 1972 1947 1947 1947 1947\n",
              "[15289] 1935 1935 1935 1935 1982 1982 1982 1982 1972 1972 1972 1972 1972 1972\n",
              "[15303] 1972 1972 1972 1972 1972 1972 1972 1972 1972 1972 1970 1970 1970 1970\n",
              "[15317] 1933 1933 1933 1933 1972 1972 1972 1972 1967 1967 1967 1967 1974 1974\n",
              "[15331] 1974 1974 1938 1938 1938 1938 1938 1938 1938 1938 1938 1938 1938 1938\n",
              "[15345] 1938 1938 1938 1938 1969 1969 1969 1969 1969 1969 1969 1969 1969 1969\n",
              "[15359] 1969 1969 1969 1969 1969 1969 1936 1936 1936 1936 1967 1967 1967 1967\n",
              "[15373] 1949 1949 1949 1949 1932 1932 1932 1932 1949 1949 1949 1949 1964 1964\n",
              "[15387] 1964 1964 1958 1958 1958 1958 1958 1958 1958 1958 1958 1958 1958 1958\n",
              "[15401] 1958 1958 1958 1958 1973 1973 1973 1973 1963 1963 1963 1963 1945 1945\n",
              "[15415] 1945 1945 1960 1960 1960 1960 1960 1960 1960 1960 1960 1960 1960 1960\n",
              "[15429] 1960 1960 1960 1960 1954 1954 1954 1954 1934 1934 1934 1934 1975 1975\n",
              "[15443] 1975 1975 1977 1977 1977 1977 1935 1935 1935 1935 1937 1937 1937 1937\n",
              "[15457] 1938 1938 1938 1938 1953 1953 1953 1953 1978 1978 1978 1978 1983 1983\n",
              "[15471] 1983 1983 1954 1954 1954 1954 1980 1980 1980 1980 1964 1964 1964 1964\n",
              "[15485] 1964 1964 1964 1964 1964 1964 1964 1964 1964 1964 1964 1964 1964 1964\n",
              "[15499] 1964 1964 1964 1964 1964 1964 1964 1964 1964 1964 1964 1964 1964 1964\n",
              "[15513] 1964 1964 1964 1964 1982 1982 1982 1982 1948 1948 1948 1948 1974 1974\n",
              "[15527] 1974 1974 1976 1976 1976 1976 1955 1955 1955 1955 1933 1933 1933 1933\n",
              "[15541] 1954 1954 1954 1954 1961 1961 1961 1961 1952 1952 1952 1952 1952 1952\n",
              "[15555] 1952 1952 1952 1952 1952 1952 1952 1952 1952 1952 1981 1981 1981 1981\n",
              "[15569] 1962 1962 1962 1962 1967 1967 1967 1967 1974 1974 1974 1974 1956 1956\n",
              "[15583] 1956 1956 1956 1956 1956 1956 1970 1970 1970 1970 1969 1969 1969 1969\n",
              "[15597] 1969 1969 1969 1969 1969 1969 1969 1969 1969 1969 1969 1969 1979 1979\n",
              "[15611] 1979 1979 1937 1937 1937 1937 1978 1978 1978 1978 1950 1950 1950 1950\n",
              "[15625] 1945 1945 1945 1945 1969 1969 1969 1969 1980 1980 1980 1980 1975 1975\n",
              "[15639] 1975 1975 1961 1961 1961 1961 1946 1946 1946 1946 1982 1982 1982 1982\n",
              "[15653] 1972 1972 1972 1972 1981 1981 1981 1981 1951 1951 1951 1951 1981 1981\n",
              "[15667] 1981 1981 1948 1948 1948 1948 1974 1974 1974 1974 1977 1977 1977 1977\n",
              "[15681] 1954 1954 1954 1954 1951 1951 1951 1951 1943 1943 1943 1943 1946 1946\n",
              "[15695] 1946 1946 1953 1953 1953 1953 1934 1934 1934 1934 1968 1968 1968 1968\n",
              "[15709] 1951 1951 1951 1951 1942 1942 1942 1942 1942 1942 1942 1942 1942 1942\n",
              "[15723] 1942 1942 1942 1942 1942 1942 1981 1981 1981 1981 1938 1938 1938 1938\n",
              "[15737] 1982 1982 1982 1982 1941 1941 1941 1941 1956 1956 1956 1956 1969 1969\n",
              "[15751] 1969 1969 1962 1962 1962 1962 1955 1955 1955 1955 1952 1952 1952 1952\n",
              "[15765] 1952 1952 1952 1952 1952 1952 1952 1952 1952 1952 1952 1952 1974 1974\n",
              "[15779] 1974 1974 1936 1936 1936 1936 1936 1936 1936 1936 1936 1936 1936 1936\n",
              "[15793] 1936 1936 1936 1936 1951 1951 1951 1951 1984 1984 1984 1984 1968 1968\n",
              "[15807] 1968 1968 1970 1970 1970 1970 1973 1973 1973 1973 1935 1935 1935 1935\n",
              "[15821] 1935 1935 1935 1935 1935 1935 1935 1935 1935 1935 1935 1935 1953 1953\n",
              "[15835] 1953 1953 1934 1934 1934 1934 1945 1945 1945 1945 1949 1949 1949 1949\n",
              "[15849] 1941 1941 1941 1941 1940 1940 1940 1940 1940 1940 1940 1940 1940 1940\n",
              "[15863] 1940 1940 1940 1940 1940 1940 1940 1940 1940 1940 1940 1940 1940 1940\n",
              "[15877] 1940 1940 1940 1940 1940 1940 1940 1940 1940 1940 1940 1940 1976 1976\n",
              "[15891] 1976 1976 1942 1942 1942 1942 1942 1942 1942 1942 1942 1942 1942 1942\n",
              "[15905] 1942 1942 1942 1942 1980 1980 1980 1980 1975 1975 1975 1975 1975 1975\n",
              "[15919] 1975 1975 1975 1975 1975 1975 1975 1975 1975 1975 1939 1939 1939 1939\n",
              "[15933] 1938 1938 1938 1938 1963 1963 1963 1963 1949 1949 1949 1949 1981 1981\n",
              "[15947] 1981 1981 1990 1990 1990 1990 1954 1954 1954 1954 1956 1956 1956 1956\n",
              "[15961] 1984 1984 1984 1984 1979 1979 1979 1979 1978 1978 1978 1978 1961 1961\n",
              "[15975] 1961 1961 1931 1931 1931 1931 1947 1947 1947 1947 1953 1953 1953 1953\n",
              "[15989] 1985 1985 1985 1985 1932 1932 1932 1932 1963 1963 1963 1963 1963 1963\n",
              "[16003] 1963 1963 1963 1963 1963 1963 1963 1963 1963 1963 1964 1964 1964 1964\n",
              "[16017] 1963 1963 1963 1963 1976 1976 1976 1976 1962 1962 1962 1962 1941 1941\n",
              "[16031] 1941 1941 1941 1941 1941 1941 1941 1941 1941 1941 1941 1941 1941 1941\n",
              "[16045] 1950 1950 1950 1950 1972 1972 1972 1972 1959 1959 1959 1959 1959 1959\n",
              "[16059] 1959 1959 1959 1959 1959 1959 1959 1959 1959 1959 1965 1965 1965 1965\n",
              "[16073] 1965 1965 1965 1965 1965 1965 1965 1965 1965 1965 1965 1965 1933 1933\n",
              "[16087] 1933 1933 1939 1939 1939 1939 1950 1950 1950 1950 1949 1949 1949 1949\n",
              "[16101] 1964 1964 1964 1964 1947 1947 1947 1947 1968 1968 1968 1968 1974 1974\n",
              "[16115] 1974 1974 1939 1939 1939 1939 1983 1983 1983 1983 1959 1959 1959 1959\n",
              "[16129] 1935 1935 1935 1935 1959 1959 1959 1959 1959 1959 1959 1959 1959 1959\n",
              "[16143] 1959 1959 1959 1959 1959 1959 1934 1934 1934 1934 1939 1939 1939 1939\n",
              "[16157] 1983 1983 1983 1983 1963 1963 1963 1963 1937 1937 1937 1937 1972 1972\n",
              "[16171] 1972 1972 1956 1956 1956 1956 1975 1975 1975 1975 1953 1953 1953 1953\n",
              "[16185] 1975 1975 1975 1975 1960 1960 1960 1960 1937 1937 1937 1937 1965 1965\n",
              "[16199] 1965 1965 1935 1935 1935 1935 1971 1971 1971 1971 1971 1971 1971 1971\n",
              "[16213] 1971 1971 1971 1971 1971 1971 1971 1971 1965 1965 1965 1965 1944 1944\n",
              "[16227] 1944 1944 1975 1975 1975 1975 1952 1952 1952 1952 1949 1949 1949 1949\n",
              "[16241] 1971 1971 1971 1971 1958 1958 1958 1958 1934 1934 1934 1934 1978 1978\n",
              "[16255] 1978 1978 1959 1959 1959 1959 1952 1952 1952 1952 1973 1973 1973 1973\n",
              "[16269] 1972 1972 1972 1972 1942 1942 1942 1942 1942 1942 1942 1942 1942 1942\n",
              "[16283] 1942 1942 1942 1942 1942 1942 1942 1942 1942 1942 1971 1971 1971 1971\n",
              "[16297] 1961 1961 1961 1961 1952 1952 1952 1952 1933 1933 1933 1933 1933 1933\n",
              "[16311] 1933 1933 1974 1974 1974 1974 1948 1948 1948 1948 1937 1937 1937 1937\n",
              "[16325] 1961 1961 1961 1961 1980 1980 1980 1980 1949 1949 1949 1949 1982 1982\n",
              "[16339] 1982 1982 1967 1967 1967 1967 1981 1981 1981 1981 1981 1981 1981 1981\n",
              "[16353] 1981 1981 1981 1981 1981 1981 1981 1981 1981 1981 1981 1981 1981 1981\n",
              "[16367] 1981 1981 1981 1981 1981 1981 1981 1981 1981 1981 1981 1981 1981 1981\n",
              "[16381] 1936 1936 1936 1936 1967 1967 1967 1967 1971 1971 1971 1971 1943 1943\n",
              "[16395] 1943 1943 1974 1974 1974 1974 1954 1954 1954 1954 1974 1974 1974 1974\n",
              "[16409] 1974 1974 1974 1974 1974 1974 1974 1974 1974 1974 1974 1974 1946 1946\n",
              "[16423] 1946 1946 1943 1943 1943 1943 1969 1969 1969 1969 1966 1966 1966 1966\n",
              "[16437] 1977 1977 1977 1977 1952 1952 1952 1952 1952 1952 1952 1952 1952 1952\n",
              "[16451] 1952 1952 1952 1952 1952 1952 1952 1952 1952 1952 1974 1974 1974 1974\n",
              "[16465] 1970 1970 1970 1970 1933 1933 1933 1933 1977 1977 1977 1977 1960 1960\n",
              "[16479] 1960 1960 1953 1953 1953 1953 1983 1983 1983 1983 1968 1968 1968 1968\n",
              "[16493] 1968 1968 1968 1968 1968 1968 1968 1968 1968 1968 1968 1968 1945 1945\n",
              "[16507] 1945 1945 1968 1968 1968 1968 1976 1976 1976 1976 1960 1960 1960 1960\n",
              "[16521] 1971 1971 1971 1971 1968 1968 1968 1968 1974 1974 1974 1974 1952 1952\n",
              "[16535] 1952 1952 1952 1952 1952 1952 1952 1952 1952 1952 1952 1952 1952 1952\n",
              "[16549] 1974 1974 1974 1974 1971 1971 1971 1971 1958 1958 1958 1958 1975 1975\n",
              "[16563] 1975 1975 1966 1966 1966 1966 1963 1963 1963 1963 1979 1979 1979 1979\n",
              "[16577] 1979 1979 1979 1979 1979 1979 1979 1979 1979 1979 1979 1979 1945 1945\n",
              "[16591] 1945 1945 1941 1941 1941 1941 1944 1944 1944 1944 1956 1956 1956 1956\n",
              "[16605] 1968 1968 1968 1968 1961 1961 1961 1961 1981 1981 1981 1981 1981 1981\n",
              "[16619] 1981 1981 1981 1981 1981 1981 1981 1981 1981 1981 1981 1981 1981 1981\n",
              "[16633] 1976 1976 1976 1976 1936 1936 1936 1936 1959 1959 1959 1959 1975 1975\n",
              "[16647] 1975 1975 1975 1975 1975 1975 1975 1975 1975 1975 1975 1975 1975 1975\n",
              "[16661] 1950 1950 1950 1950 1967 1967 1967 1967 1970 1970 1970 1970 1975 1975\n",
              "[16675] 1975 1975 1975 1975 1975 1975 1975 1975 1975 1975 1975 1975 1975 1975\n",
              "[16689] 1983 1983 1983 1983 1973 1973 1973 1973 1956 1956 1956 1956 1941 1941\n",
              "[16703] 1941 1941 1974 1974 1974 1974 1973 1973 1973 1973 1973 1973 1973 1973\n",
              "[16717] 1973 1973 1973 1973 1973 1973 1973 1973 1973 1973 1973 1973 1967 1967\n",
              "[16731] 1967 1967 1967 1967 1967 1967 1967 1967 1967 1967 1967 1967 1967 1967\n",
              "[16745] 1948 1948 1948 1948 1931 1931 1931 1931 1979 1979 1979 1979 1931 1931\n",
              "[16759] 1931 1931 1981 1981 1981 1981 1971 1971 1971 1971 1950 1950 1950 1950\n",
              "[16773] 1967 1967 1967 1967 1965 1965 1965 1965 1979 1979 1979 1979 1954 1954\n",
              "[16787] 1954 1954 1976 1976 1976 1976 1973 1973 1973 1973 1969 1969 1969 1969\n",
              "[16801] 1969 1969 1969 1969 1969 1969 1969 1969 1969 1969 1969 1969 1959 1959\n",
              "[16815] 1959 1959 1973 1973 1973 1973 1962 1962 1962 1962 1974 1974 1974 1974\n",
              "[16829] 1969 1969 1969 1969 1975 1975 1975 1975 1941 1941 1941 1941 1960 1960\n",
              "[16843] 1960 1960 1943 1943 1943 1943 1950 1950 1950 1950 1982 1982 1982 1982\n",
              "[16857] 1979 1979 1979 1979 1979 1979 1979 1979 1979 1979 1979 1979 1979 1979\n",
              "[16871] 1979 1979 1979 1979 1979 1979 1979 1979 1979 1979 1979 1979 1979 1979\n",
              "[16885] 1979 1979 1979 1979 1979 1979 1979 1979 1979 1979 1979 1979 1976 1976\n",
              "[16899] 1976 1976 1945 1945 1945 1945 1956 1956 1956 1956 1961 1961 1961 1961\n",
              "[16913] 1967 1967 1967 1967 1974 1974 1974 1974 1974 1974 1974 1974 1974 1974\n",
              "[16927] 1974 1974 1974 1974 1974 1974 1977 1977 1977 1977 1952 1952 1952 1952\n",
              "[16941] 1962 1962 1962 1962 1962 1962 1962 1962 1962 1962 1962 1962 1962 1962\n",
              "[16955] 1962 1962 1976 1976 1976 1976 1963 1963 1963 1963 1938 1938 1938 1938\n",
              "[16969] 1950 1950 1950 1950 1956 1956 1956 1956"
            ]
          },
          "metadata": {}
        }
      ]
    },
    {
      "cell_type": "code",
      "source": [
        "# Calculate age using date of birth and date of admission\n",
        "# Load the lubridate package\n",
        "\n",
        "df$year_birth=year(df$dob)\n",
        "df$year_adm= year(df$date_of_admission.y)\n",
        "df$age <- as.numeric(df$year_adm-df$year_birth)"
      ],
      "metadata": {
        "id": "gjQGMUUYnsi-"
      },
      "execution_count": 114,
      "outputs": []
    },
    {
      "cell_type": "code",
      "source": [
        "# Group by patient_id and calculate sum(amount) and retain other fields\n",
        "result <- df %>%\n",
        "  group_by(patient_id) %>%\n",
        "  summarise(total_amount = sum(amount))\n",
        "\n",
        "# Print the result\n",
        "print(result)"
      ],
      "metadata": {
        "id": "WH2BRyjXB6nI",
        "colab": {
          "base_uri": "https://localhost:8080/"
        },
        "outputId": "c869b30b-d23d-4afb-c53b-df02c05149fd"
      },
      "execution_count": 115,
      "outputs": [
        {
          "output_type": "stream",
          "name": "stdout",
          "text": [
            "\u001b[90m# A tibble: 3,000 × 2\u001b[39m\n",
            "   patient_id                       total_amount\n",
            "   \u001b[3m\u001b[90m<chr>\u001b[39m\u001b[23m                                   \u001b[3m\u001b[90m<dbl>\u001b[39m\u001b[23m\n",
            "\u001b[90m 1\u001b[39m 00225710a878eff524a1d13be817e8e2        \u001b[4m5\u001b[24m191.\n",
            "\u001b[90m 2\u001b[39m 0029d90eb654699c18001c17efb0f129       \u001b[4m2\u001b[24m\u001b[4m2\u001b[24m601.\n",
            "\u001b[90m 3\u001b[39m 0040333abd68527ecb53e1db9073f52e       \u001b[4m1\u001b[24m\u001b[4m7\u001b[24m447.\n",
            "\u001b[90m 4\u001b[39m 00473b58e3dc8ae37b3cb34069705083       \u001b[4m1\u001b[24m\u001b[4m5\u001b[24m286.\n",
            "\u001b[90m 5\u001b[39m 0078662d1d983dde68ea057c42d5b5cf       \u001b[4m7\u001b[24m\u001b[4m3\u001b[24m478.\n",
            "\u001b[90m 6\u001b[39m 0088bbd94c90bbc9158e13465441ebb6       \u001b[4m2\u001b[24m\u001b[4m6\u001b[24m052.\n",
            "\u001b[90m 7\u001b[39m 0092d20dd0719e88ecfdd02d5e7ca7b7       \u001b[4m2\u001b[24m\u001b[4m1\u001b[24m499.\n",
            "\u001b[90m 8\u001b[39m 01081b8bcb0f9e27b888d23bb35a50dd       \u001b[4m2\u001b[24m\u001b[4m7\u001b[24m512.\n",
            "\u001b[90m 9\u001b[39m 010cf28233f50d3857b499a9c208c610       \u001b[4m2\u001b[24m\u001b[4m5\u001b[24m612.\n",
            "\u001b[90m10\u001b[39m 0116c5d9b6c2c2e8758c75e6da86014b       \u001b[4m1\u001b[24m\u001b[4m5\u001b[24m791.\n",
            "\u001b[90m# ℹ 2,990 more rows\u001b[39m\n"
          ]
        }
      ]
    },
    {
      "cell_type": "code",
      "source": [
        "# Merge the data frames based on patient_id\n",
        "merged_df <- result %>%\n",
        "  inner_join(df, by = \"patient_id\")"
      ],
      "metadata": {
        "id": "8Sa9MOU9B6tO"
      },
      "execution_count": 116,
      "outputs": []
    },
    {
      "cell_type": "code",
      "source": [
        "head(merged_df,2)"
      ],
      "metadata": {
        "id": "2fyZF8p_B6xC",
        "colab": {
          "base_uri": "https://localhost:8080/",
          "height": 215
        },
        "outputId": "3907aec1-a63d-4f35-d340-46241772901a"
      },
      "execution_count": 117,
      "outputs": [
        {
          "output_type": "display_data",
          "data": {
            "text/html": [
              "<table class=\"dataframe\">\n",
              "<caption>A tibble: 2 × 39</caption>\n",
              "<thead>\n",
              "\t<tr><th scope=col>patient_id</th><th scope=col>total_amount</th><th scope=col>bill_id</th><th scope=col>date_of_admission.x</th><th scope=col>amount</th><th scope=col>gender</th><th scope=col>race</th><th scope=col>resident_status</th><th scope=col>date_of_birth</th><th scope=col>date_of_admission.y</th><th scope=col>⋯</th><th scope=col>lab_result_1</th><th scope=col>lab_result_2</th><th scope=col>lab_result_3</th><th scope=col>weight</th><th scope=col>height</th><th scope=col>days_in_hospital</th><th scope=col>dob</th><th scope=col>year_birth</th><th scope=col>year_adm</th><th scope=col>age</th></tr>\n",
              "\t<tr><th scope=col>&lt;chr&gt;</th><th scope=col>&lt;dbl&gt;</th><th scope=col>&lt;dbl&gt;</th><th scope=col>&lt;date&gt;</th><th scope=col>&lt;dbl&gt;</th><th scope=col>&lt;chr&gt;</th><th scope=col>&lt;chr&gt;</th><th scope=col>&lt;chr&gt;</th><th scope=col>&lt;date&gt;</th><th scope=col>&lt;date&gt;</th><th scope=col>⋯</th><th scope=col>&lt;dbl&gt;</th><th scope=col>&lt;dbl&gt;</th><th scope=col>&lt;dbl&gt;</th><th scope=col>&lt;dbl&gt;</th><th scope=col>&lt;dbl&gt;</th><th scope=col>&lt;dbl&gt;</th><th scope=col>&lt;date&gt;</th><th scope=col>&lt;dbl&gt;</th><th scope=col>&lt;dbl&gt;</th><th scope=col>&lt;dbl&gt;</th></tr>\n",
              "</thead>\n",
              "<tbody>\n",
              "\t<tr><td>00225710a878eff524a1d13be817e8e2</td><td>5190.567</td><td>5175703971</td><td>2014-04-10</td><td> 79.49671</td><td>f</td><td>Chinese</td><td>Singaporean</td><td>1983-01-16</td><td>2014-04-10</td><td>⋯</td><td>13.4</td><td>27.9</td><td>96</td><td>66.9</td><td>155</td><td>12</td><td>1983-01-16</td><td>1983</td><td>2014</td><td>31</td></tr>\n",
              "\t<tr><td>00225710a878eff524a1d13be817e8e2</td><td>5190.567</td><td>4692776325</td><td>2014-04-10</td><td>325.31935</td><td>f</td><td>Chinese</td><td>Singaporean</td><td>1983-01-16</td><td>2014-04-10</td><td>⋯</td><td>13.4</td><td>27.9</td><td>96</td><td>66.9</td><td>155</td><td>12</td><td>1983-01-16</td><td>1983</td><td>2014</td><td>31</td></tr>\n",
              "</tbody>\n",
              "</table>\n"
            ],
            "text/markdown": "\nA tibble: 2 × 39\n\n| patient_id &lt;chr&gt; | total_amount &lt;dbl&gt; | bill_id &lt;dbl&gt; | date_of_admission.x &lt;date&gt; | amount &lt;dbl&gt; | gender &lt;chr&gt; | race &lt;chr&gt; | resident_status &lt;chr&gt; | date_of_birth &lt;date&gt; | date_of_admission.y &lt;date&gt; | ⋯ ⋯ | lab_result_1 &lt;dbl&gt; | lab_result_2 &lt;dbl&gt; | lab_result_3 &lt;dbl&gt; | weight &lt;dbl&gt; | height &lt;dbl&gt; | days_in_hospital &lt;dbl&gt; | dob &lt;date&gt; | year_birth &lt;dbl&gt; | year_adm &lt;dbl&gt; | age &lt;dbl&gt; |\n|---|---|---|---|---|---|---|---|---|---|---|---|---|---|---|---|---|---|---|---|---|\n| 00225710a878eff524a1d13be817e8e2 | 5190.567 | 5175703971 | 2014-04-10 |  79.49671 | f | Chinese | Singaporean | 1983-01-16 | 2014-04-10 | ⋯ | 13.4 | 27.9 | 96 | 66.9 | 155 | 12 | 1983-01-16 | 1983 | 2014 | 31 |\n| 00225710a878eff524a1d13be817e8e2 | 5190.567 | 4692776325 | 2014-04-10 | 325.31935 | f | Chinese | Singaporean | 1983-01-16 | 2014-04-10 | ⋯ | 13.4 | 27.9 | 96 | 66.9 | 155 | 12 | 1983-01-16 | 1983 | 2014 | 31 |\n\n",
            "text/latex": "A tibble: 2 × 39\n\\begin{tabular}{lllllllllllllllllllll}\n patient\\_id & total\\_amount & bill\\_id & date\\_of\\_admission.x & amount & gender & race & resident\\_status & date\\_of\\_birth & date\\_of\\_admission.y & ⋯ & lab\\_result\\_1 & lab\\_result\\_2 & lab\\_result\\_3 & weight & height & days\\_in\\_hospital & dob & year\\_birth & year\\_adm & age\\\\\n <chr> & <dbl> & <dbl> & <date> & <dbl> & <chr> & <chr> & <chr> & <date> & <date> & ⋯ & <dbl> & <dbl> & <dbl> & <dbl> & <dbl> & <dbl> & <date> & <dbl> & <dbl> & <dbl>\\\\\n\\hline\n\t 00225710a878eff524a1d13be817e8e2 & 5190.567 & 5175703971 & 2014-04-10 &  79.49671 & f & Chinese & Singaporean & 1983-01-16 & 2014-04-10 & ⋯ & 13.4 & 27.9 & 96 & 66.9 & 155 & 12 & 1983-01-16 & 1983 & 2014 & 31\\\\\n\t 00225710a878eff524a1d13be817e8e2 & 5190.567 & 4692776325 & 2014-04-10 & 325.31935 & f & Chinese & Singaporean & 1983-01-16 & 2014-04-10 & ⋯ & 13.4 & 27.9 & 96 & 66.9 & 155 & 12 & 1983-01-16 & 1983 & 2014 & 31\\\\\n\\end{tabular}\n",
            "text/plain": [
              "  patient_id                       total_amount bill_id    date_of_admission.x\n",
              "1 00225710a878eff524a1d13be817e8e2 5190.567     5175703971 2014-04-10         \n",
              "2 00225710a878eff524a1d13be817e8e2 5190.567     4692776325 2014-04-10         \n",
              "  amount    gender race    resident_status date_of_birth date_of_admission.y ⋯\n",
              "1  79.49671 f      Chinese Singaporean     1983-01-16    2014-04-10          ⋯\n",
              "2 325.31935 f      Chinese Singaporean     1983-01-16    2014-04-10          ⋯\n",
              "  lab_result_1 lab_result_2 lab_result_3 weight height days_in_hospital\n",
              "1 13.4         27.9         96           66.9   155    12              \n",
              "2 13.4         27.9         96           66.9   155    12              \n",
              "  dob        year_birth year_adm age\n",
              "1 1983-01-16 1983       2014     31 \n",
              "2 1983-01-16 1983       2014     31 "
            ]
          },
          "metadata": {}
        }
      ]
    },
    {
      "cell_type": "code",
      "source": [
        "# Calculate sum of amounts grouped by year\n",
        "sum_by_month <- df %>%\n",
        "  group_by(year = lubridate::month(date_of_admission.y)) %>%\n",
        "  summarise(total_amount_monthly = sum(amount))\n",
        "print(sum_by_month)"
      ],
      "metadata": {
        "id": "DagB7Dhhdytn",
        "colab": {
          "base_uri": "https://localhost:8080/"
        },
        "outputId": "2904fda3-378c-47e8-dc17-6895b5a7c783"
      },
      "execution_count": 118,
      "outputs": [
        {
          "output_type": "stream",
          "name": "stdout",
          "text": [
            "\u001b[90m# A tibble: 12 × 2\u001b[39m\n",
            "    year total_amount_monthly\n",
            "   \u001b[3m\u001b[90m<dbl>\u001b[39m\u001b[23m                \u001b[3m\u001b[90m<dbl>\u001b[39m\u001b[23m\n",
            "\u001b[90m 1\u001b[39m     1             7\u001b[4m6\u001b[24m\u001b[4m2\u001b[24m\u001b[4m9\u001b[24m061.\n",
            "\u001b[90m 2\u001b[39m     2             7\u001b[4m7\u001b[24m\u001b[4m9\u001b[24m\u001b[4m8\u001b[24m959.\n",
            "\u001b[90m 3\u001b[39m     3             7\u001b[4m4\u001b[24m\u001b[4m5\u001b[24m\u001b[4m0\u001b[24m859.\n",
            "\u001b[90m 4\u001b[39m     4             8\u001b[4m0\u001b[24m\u001b[4m6\u001b[24m\u001b[4m5\u001b[24m097.\n",
            "\u001b[90m 5\u001b[39m     5             7\u001b[4m3\u001b[24m\u001b[4m8\u001b[24m\u001b[4m6\u001b[24m448.\n",
            "\u001b[90m 6\u001b[39m     6             8\u001b[4m4\u001b[24m\u001b[4m2\u001b[24m\u001b[4m8\u001b[24m462.\n",
            "\u001b[90m 7\u001b[39m     7             7\u001b[4m6\u001b[24m\u001b[4m0\u001b[24m\u001b[4m0\u001b[24m638.\n",
            "\u001b[90m 8\u001b[39m     8             7\u001b[4m6\u001b[24m\u001b[4m5\u001b[24m\u001b[4m4\u001b[24m239.\n",
            "\u001b[90m 9\u001b[39m     9             7\u001b[4m4\u001b[24m\u001b[4m6\u001b[24m\u001b[4m1\u001b[24m254.\n",
            "\u001b[90m10\u001b[39m    10             8\u001b[4m2\u001b[24m\u001b[4m5\u001b[24m\u001b[4m5\u001b[24m554.\n",
            "\u001b[90m11\u001b[39m    11             8\u001b[4m0\u001b[24m\u001b[4m2\u001b[24m\u001b[4m3\u001b[24m468.\n",
            "\u001b[90m12\u001b[39m    12             6\u001b[4m8\u001b[24m\u001b[4m9\u001b[24m\u001b[4m4\u001b[24m413.\n"
          ]
        }
      ]
    },
    {
      "cell_type": "code",
      "source": [
        "# Calculate sum of amounts grouped by year\n",
        "# Convert date_of_discharge to year\n",
        "df$year <- format(df$date_of_admission.y, \"%Y\")\n",
        "\n",
        "# Calculate yearly sales\n",
        "yearly_sales <- aggregate(amount ~ year, data = df, FUN = sum)\n",
        "\n",
        "# Print the result\n",
        "print(yearly_sales)"
      ],
      "metadata": {
        "id": "I6nzwz1-k6OI",
        "colab": {
          "base_uri": "https://localhost:8080/"
        },
        "outputId": "2b17fd48-0c2b-40f9-b82f-ed3e67c33e96"
      },
      "execution_count": 119,
      "outputs": [
        {
          "output_type": "stream",
          "name": "stdout",
          "text": [
            "  year   amount\n",
            "1 2011 18676182\n",
            "2 2012 17891199\n",
            "3 2013 17922496\n",
            "4 2014 19605227\n",
            "5 2015 18553346\n"
          ]
        }
      ]
    },
    {
      "cell_type": "markdown",
      "source": [
        "#OUTLIER"
      ],
      "metadata": {
        "id": "JoHSz4K3nNfM"
      }
    },
    {
      "cell_type": "code",
      "source": [
        "filtered_data <- merged_df %>%\n",
        "  filter(amount > 100000)\n",
        "filtered_data"
      ],
      "metadata": {
        "id": "HDr0h1MBm5f0",
        "colab": {
          "base_uri": "https://localhost:8080/",
          "height": 257
        },
        "outputId": "6228bae4-c3b0-4567-81c7-0af453e97a11"
      },
      "execution_count": 120,
      "outputs": [
        {
          "output_type": "stream",
          "name": "stderr",
          "text": [
            "Warning message in cbind(parts$left, chars$ellip_h, parts$right, deparse.level = 0L):\n",
            "“number of rows of result is not a multiple of vector length (arg 2)”\n",
            "Warning message in cbind(parts$left, chars$ellip_h, parts$right, deparse.level = 0L):\n",
            "“number of rows of result is not a multiple of vector length (arg 2)”\n",
            "Warning message in cbind(parts$left, chars$ellip_h, parts$right, deparse.level = 0L):\n",
            "“number of rows of result is not a multiple of vector length (arg 2)”\n",
            "Warning message in cbind(parts$left, chars$ellip_h, parts$right, deparse.level = 0L):\n",
            "“number of rows of result is not a multiple of vector length (arg 2)”\n"
          ]
        },
        {
          "output_type": "display_data",
          "data": {
            "text/html": [
              "<table class=\"dataframe\">\n",
              "<caption>A tibble: 0 × 39</caption>\n",
              "<thead>\n",
              "\t<tr><th scope=col>patient_id</th><th scope=col>total_amount</th><th scope=col>bill_id</th><th scope=col>date_of_admission.x</th><th scope=col>amount</th><th scope=col>gender</th><th scope=col>race</th><th scope=col>resident_status</th><th scope=col>date_of_birth</th><th scope=col>date_of_admission.y</th><th scope=col>⋯</th><th scope=col>lab_result_1</th><th scope=col>lab_result_2</th><th scope=col>lab_result_3</th><th scope=col>weight</th><th scope=col>height</th><th scope=col>days_in_hospital</th><th scope=col>dob</th><th scope=col>year_birth</th><th scope=col>year_adm</th><th scope=col>age</th></tr>\n",
              "\t<tr><th scope=col>&lt;chr&gt;</th><th scope=col>&lt;dbl&gt;</th><th scope=col>&lt;dbl&gt;</th><th scope=col>&lt;date&gt;</th><th scope=col>&lt;dbl&gt;</th><th scope=col>&lt;chr&gt;</th><th scope=col>&lt;chr&gt;</th><th scope=col>&lt;chr&gt;</th><th scope=col>&lt;date&gt;</th><th scope=col>&lt;date&gt;</th><th scope=col>⋯</th><th scope=col>&lt;dbl&gt;</th><th scope=col>&lt;dbl&gt;</th><th scope=col>&lt;dbl&gt;</th><th scope=col>&lt;dbl&gt;</th><th scope=col>&lt;dbl&gt;</th><th scope=col>&lt;dbl&gt;</th><th scope=col>&lt;date&gt;</th><th scope=col>&lt;dbl&gt;</th><th scope=col>&lt;dbl&gt;</th><th scope=col>&lt;dbl&gt;</th></tr>\n",
              "</thead>\n",
              "<tbody>\n",
              "</tbody>\n",
              "</table>\n"
            ],
            "text/markdown": "\nA tibble: 0 × 39\n\n| patient_id &lt;chr&gt; | total_amount &lt;dbl&gt; | bill_id &lt;dbl&gt; | date_of_admission.x &lt;date&gt; | amount &lt;dbl&gt; | gender &lt;chr&gt; | race &lt;chr&gt; | resident_status &lt;chr&gt; | date_of_birth &lt;date&gt; | date_of_admission.y &lt;date&gt; | ⋯ ⋯ | lab_result_1 &lt;dbl&gt; | lab_result_2 &lt;dbl&gt; | lab_result_3 &lt;dbl&gt; | weight &lt;dbl&gt; | height &lt;dbl&gt; | days_in_hospital &lt;dbl&gt; | dob &lt;date&gt; | year_birth &lt;dbl&gt; | year_adm &lt;dbl&gt; | age &lt;dbl&gt; |\n|---|---|---|---|---|---|---|---|---|---|---|---|---|---|---|---|---|---|---|---|---|\n\n",
            "text/latex": "A tibble: 0 × 39\n\\begin{tabular}{lllllllllllllllllllll}\n patient\\_id & total\\_amount & bill\\_id & date\\_of\\_admission.x & amount & gender & race & resident\\_status & date\\_of\\_birth & date\\_of\\_admission.y & ⋯ & lab\\_result\\_1 & lab\\_result\\_2 & lab\\_result\\_3 & weight & height & days\\_in\\_hospital & dob & year\\_birth & year\\_adm & age\\\\\n <chr> & <dbl> & <dbl> & <date> & <dbl> & <chr> & <chr> & <chr> & <date> & <date> & ⋯ & <dbl> & <dbl> & <dbl> & <dbl> & <dbl> & <dbl> & <date> & <dbl> & <dbl> & <dbl>\\\\\n\\hline\n\\end{tabular}\n",
            "text/plain": [
              "     patient_id total_amount bill_id date_of_admission.x amount gender race\n",
              "     resident_status date_of_birth date_of_admission.y ⋯ lab_result_1\n",
              "     lab_result_2 lab_result_3 weight height days_in_hospital dob year_birth\n",
              "     year_adm age"
            ]
          },
          "metadata": {}
        }
      ]
    },
    {
      "cell_type": "code",
      "source": [
        "# Change the amount for patient iD which is outlier above, assumption made as per patients with same medical history\n",
        "merged_df <- merged_df %>%\n",
        "  mutate(amount = ifelse(patient_id == '86e3adc71c41b050f83fbe3d34d949e7', 10075, amount))\n",
        "\n",
        "# View the modified dataframe\n",
        "summary(merged_df)\n",
        "\n"
      ],
      "metadata": {
        "id": "4YxZEc9OuFL9",
        "colab": {
          "base_uri": "https://localhost:8080/",
          "height": 1000
        },
        "outputId": "7f40d1d2-c1a4-4f53-ef08-72b016549089"
      },
      "execution_count": 121,
      "outputs": [
        {
          "output_type": "display_data",
          "data": {
            "text/plain": [
              "  patient_id         total_amount       bill_id          date_of_admission.x \n",
              " Length:16976       Min.   :  2946   Min.   :5.584e+05   Min.   :2011-01-01  \n",
              " Class :character   1st Qu.: 18062   1st Qu.:2.491e+09   1st Qu.:2012-03-26  \n",
              " Mode  :character   Median : 28792   Median :5.000e+09   Median :2013-07-08  \n",
              "                    Mean   : 51460   Mean   :4.999e+09   Mean   :2013-07-02  \n",
              "                    3rd Qu.: 74347   3rd Qu.:7.499e+09   3rd Qu.:2014-09-24  \n",
              "                    Max.   :335283   Max.   :1.000e+10   Max.   :2015-12-28  \n",
              "                                                                             \n",
              "     amount           gender              race           resident_status   \n",
              " Min.   :   79.5   Length:16976       Length:16976       Length:16976      \n",
              " 1st Qu.:  952.3   Class :character   Class :character   Class :character  \n",
              " Median : 1516.1   Mode  :character   Mode  :character   Mode  :character  \n",
              " Mean   : 5458.8                                                           \n",
              " 3rd Qu.: 7318.2                                                           \n",
              " Max.   :81849.8                                                           \n",
              "                                                                           \n",
              " date_of_birth        date_of_admission.y  date_of_discharge   \n",
              " Min.   :1930-01-20   Min.   :2011-01-01   Min.   :2011-01-11  \n",
              " 1st Qu.:1948-04-06   1st Qu.:2012-03-26   1st Qu.:2012-04-07  \n",
              " Median :1962-08-12   Median :2013-07-08   Median :2013-07-20  \n",
              " Mean   :1960-11-22   Mean   :2013-07-02   Mean   :2013-07-13  \n",
              " 3rd Qu.:1973-10-22   3rd Qu.:2014-09-24   3rd Qu.:2014-10-04  \n",
              " Max.   :1990-12-15   Max.   :2015-12-28   Max.   :2016-01-11  \n",
              "                                                               \n",
              " medical_history_1 medical_history_2 medical_history_3 medical_history_4\n",
              " Min.   :0.0000    Min.   :0.0000    Min.   :0.0000    Min.   :0.00000  \n",
              " 1st Qu.:0.0000    1st Qu.:0.0000    1st Qu.:0.0000    1st Qu.:0.00000  \n",
              " Median :0.0000    Median :0.0000    Median :0.0000    Median :0.00000  \n",
              " Mean   :0.1704    Mean   :0.3113    Mean   :0.1357    Mean   :0.05113  \n",
              " 3rd Qu.:0.0000    3rd Qu.:1.0000    3rd Qu.:0.0000    3rd Qu.:0.00000  \n",
              " Max.   :1.0000    Max.   :1.0000    Max.   :1.0000    Max.   :1.00000  \n",
              "                   NA's   :1156                                         \n",
              " medical_history_5 medical_history_6 medical_history_7 preop_medication_1\n",
              " Min.   :0.0000    Min.   :0.0000    Min.   :0.0000    Min.   :0.0000    \n",
              " 1st Qu.:0.0000    1st Qu.:0.0000    1st Qu.:0.0000    1st Qu.:0.0000    \n",
              " Median :0.0000    Median :0.0000    Median :0.0000    Median :1.0000    \n",
              " Mean   :0.0655    Mean   :0.2585    Mean   :0.2516    Mean   :0.5071    \n",
              " 3rd Qu.:0.0000    3rd Qu.:1.0000    3rd Qu.:1.0000    3rd Qu.:1.0000    \n",
              " Max.   :1.0000    Max.   :1.0000    Max.   :1.0000    Max.   :1.0000    \n",
              " NA's   :1528                                                            \n",
              " preop_medication_2 preop_medication_3 preop_medication_4 preop_medication_5\n",
              " Min.   :0.0000     Min.   :0.0000     Min.   :0.0000     Min.   :0.0000    \n",
              " 1st Qu.:0.0000     1st Qu.:1.0000     1st Qu.:0.0000     1st Qu.:1.0000    \n",
              " Median :1.0000     Median :1.0000     Median :1.0000     Median :1.0000    \n",
              " Mean   :0.5945     Mean   :0.8195     Mean   :0.5264     Mean   :0.8174    \n",
              " 3rd Qu.:1.0000     3rd Qu.:1.0000     3rd Qu.:1.0000     3rd Qu.:1.0000    \n",
              " Max.   :1.0000     Max.   :1.0000     Max.   :1.0000     Max.   :1.0000    \n",
              "                                                                            \n",
              " preop_medication_6   symptom_1       symptom_2        symptom_3     \n",
              " Min.   :0.0000     Min.   :0.000   Min.   :0.0000   Min.   :0.0000  \n",
              " 1st Qu.:0.0000     1st Qu.:0.000   1st Qu.:0.0000   1st Qu.:0.0000  \n",
              " Median :1.0000     Median :1.000   Median :1.0000   Median :1.0000  \n",
              " Mean   :0.7495     Mean   :0.618   Mean   :0.6645   Mean   :0.5419  \n",
              " 3rd Qu.:1.0000     3rd Qu.:1.000   3rd Qu.:1.0000   3rd Qu.:1.0000  \n",
              " Max.   :1.0000     Max.   :1.000   Max.   :1.0000   Max.   :1.0000  \n",
              "                                                                     \n",
              "   symptom_4        symptom_5       lab_result_1    lab_result_2  \n",
              " Min.   :0.0000   Min.   :0.0000   Min.   : 9.10   Min.   :19.70  \n",
              " 1st Qu.:0.0000   1st Qu.:0.0000   1st Qu.:13.20   1st Qu.:25.70  \n",
              " Median :1.0000   Median :1.0000   Median :14.50   Median :27.40  \n",
              " Mean   :0.7314   Mean   :0.5262   Mean   :14.47   Mean   :27.42  \n",
              " 3rd Qu.:1.0000   3rd Qu.:1.0000   3rd Qu.:15.80   3rd Qu.:29.20  \n",
              " Max.   :1.0000   Max.   :1.0000   Max.   :20.30   Max.   :35.10  \n",
              "                                                                  \n",
              "  lab_result_3        weight           height    days_in_hospital\n",
              " Min.   : 52.00   Min.   : 48.00   Min.   :151   Min.   : 1.00   \n",
              " 1st Qu.: 88.00   1st Qu.: 71.20   1st Qu.:160   1st Qu.: 9.00   \n",
              " Median :100.00   Median : 78.80   Median :165   Median :11.00   \n",
              " Mean   : 99.46   Mean   : 78.67   Mean   :165   Mean   :11.03   \n",
              " 3rd Qu.:110.00   3rd Qu.: 86.20   3rd Qu.:170   3rd Qu.:13.00   \n",
              " Max.   :150.00   Max.   :121.00   Max.   :186   Max.   :20.00   \n",
              "                                                                 \n",
              "      dob               year_birth      year_adm         age       \n",
              " Min.   :1930-01-20   Min.   :1930   Min.   :2011   Min.   :22.00  \n",
              " 1st Qu.:1948-04-06   1st Qu.:1948   1st Qu.:2012   1st Qu.:40.00  \n",
              " Median :1962-08-12   Median :1962   Median :2013   Median :51.00  \n",
              " Mean   :1960-11-22   Mean   :1960   Mean   :2013   Mean   :52.61  \n",
              " 3rd Qu.:1973-10-22   3rd Qu.:1973   3rd Qu.:2014   3rd Qu.:65.00  \n",
              " Max.   :1990-12-15   Max.   :1990   Max.   :2015   Max.   :85.00  \n",
              "                                                                   "
            ]
          },
          "metadata": {}
        }
      ]
    },
    {
      "cell_type": "code",
      "source": [
        "summary(merged_df$amount)"
      ],
      "metadata": {
        "colab": {
          "base_uri": "https://localhost:8080/",
          "height": 52
        },
        "id": "3hcw4NYwal2o",
        "outputId": "c1e96bd4-1b52-4995-a013-87cdc4984bff"
      },
      "execution_count": 122,
      "outputs": [
        {
          "output_type": "display_data",
          "data": {
            "text/plain": [
              "   Min. 1st Qu.  Median    Mean 3rd Qu.    Max. \n",
              "   79.5   952.3  1516.1  5458.8  7318.2 81849.8 "
            ]
          },
          "metadata": {}
        }
      ]
    },
    {
      "cell_type": "markdown",
      "source": [
        "#one hot encoding Race and Resident Status\n"
      ],
      "metadata": {
        "id": "6IOyq7G5tNwJ"
      }
    },
    {
      "cell_type": "code",
      "source": [
        "# Make the \"race\" column lowercase\n",
        "merged_df$race <- tolower(merged_df$race)\n",
        "\n",
        "# Specify the categories for one-hot encoding\n",
        "categories <- c(\"chinese\", \"indian\", \"malay\", \"others\")\n",
        "\n",
        "# Create one-hot encoding\n",
        "one_hot_encoded <- model.matrix(~ race - 1, data = merged_df[, \"race\", drop = FALSE])\n",
        "\n",
        "# Give meaningful column names\n",
        "colnames(one_hot_encoded) <- categories\n",
        "\n",
        "# Add one-hot encoded columns to the original dataframe\n",
        "merged_df <- cbind(merged_df, one_hot_encoded)\n",
        "\n",
        "# Print the updated dataframe\n",
        "colnames(merged_df)"
      ],
      "metadata": {
        "colab": {
          "base_uri": "https://localhost:8080/",
          "height": 86
        },
        "id": "CvRvXUkJs_bA",
        "outputId": "5b024ce5-7d49-46c5-9dce-3aec5cc99a3a"
      },
      "execution_count": 123,
      "outputs": [
        {
          "output_type": "display_data",
          "data": {
            "text/html": [
              "<style>\n",
              ".list-inline {list-style: none; margin:0; padding: 0}\n",
              ".list-inline>li {display: inline-block}\n",
              ".list-inline>li:not(:last-child)::after {content: \"\\00b7\"; padding: 0 .5ex}\n",
              "</style>\n",
              "<ol class=list-inline><li>'patient_id'</li><li>'total_amount'</li><li>'bill_id'</li><li>'date_of_admission.x'</li><li>'amount'</li><li>'gender'</li><li>'race'</li><li>'resident_status'</li><li>'date_of_birth'</li><li>'date_of_admission.y'</li><li>'date_of_discharge'</li><li>'medical_history_1'</li><li>'medical_history_2'</li><li>'medical_history_3'</li><li>'medical_history_4'</li><li>'medical_history_5'</li><li>'medical_history_6'</li><li>'medical_history_7'</li><li>'preop_medication_1'</li><li>'preop_medication_2'</li><li>'preop_medication_3'</li><li>'preop_medication_4'</li><li>'preop_medication_5'</li><li>'preop_medication_6'</li><li>'symptom_1'</li><li>'symptom_2'</li><li>'symptom_3'</li><li>'symptom_4'</li><li>'symptom_5'</li><li>'lab_result_1'</li><li>'lab_result_2'</li><li>'lab_result_3'</li><li>'weight'</li><li>'height'</li><li>'days_in_hospital'</li><li>'dob'</li><li>'year_birth'</li><li>'year_adm'</li><li>'age'</li><li>'chinese'</li><li>'indian'</li><li>'malay'</li><li>'others'</li></ol>\n"
            ],
            "text/markdown": "1. 'patient_id'\n2. 'total_amount'\n3. 'bill_id'\n4. 'date_of_admission.x'\n5. 'amount'\n6. 'gender'\n7. 'race'\n8. 'resident_status'\n9. 'date_of_birth'\n10. 'date_of_admission.y'\n11. 'date_of_discharge'\n12. 'medical_history_1'\n13. 'medical_history_2'\n14. 'medical_history_3'\n15. 'medical_history_4'\n16. 'medical_history_5'\n17. 'medical_history_6'\n18. 'medical_history_7'\n19. 'preop_medication_1'\n20. 'preop_medication_2'\n21. 'preop_medication_3'\n22. 'preop_medication_4'\n23. 'preop_medication_5'\n24. 'preop_medication_6'\n25. 'symptom_1'\n26. 'symptom_2'\n27. 'symptom_3'\n28. 'symptom_4'\n29. 'symptom_5'\n30. 'lab_result_1'\n31. 'lab_result_2'\n32. 'lab_result_3'\n33. 'weight'\n34. 'height'\n35. 'days_in_hospital'\n36. 'dob'\n37. 'year_birth'\n38. 'year_adm'\n39. 'age'\n40. 'chinese'\n41. 'indian'\n42. 'malay'\n43. 'others'\n\n\n",
            "text/latex": "\\begin{enumerate*}\n\\item 'patient\\_id'\n\\item 'total\\_amount'\n\\item 'bill\\_id'\n\\item 'date\\_of\\_admission.x'\n\\item 'amount'\n\\item 'gender'\n\\item 'race'\n\\item 'resident\\_status'\n\\item 'date\\_of\\_birth'\n\\item 'date\\_of\\_admission.y'\n\\item 'date\\_of\\_discharge'\n\\item 'medical\\_history\\_1'\n\\item 'medical\\_history\\_2'\n\\item 'medical\\_history\\_3'\n\\item 'medical\\_history\\_4'\n\\item 'medical\\_history\\_5'\n\\item 'medical\\_history\\_6'\n\\item 'medical\\_history\\_7'\n\\item 'preop\\_medication\\_1'\n\\item 'preop\\_medication\\_2'\n\\item 'preop\\_medication\\_3'\n\\item 'preop\\_medication\\_4'\n\\item 'preop\\_medication\\_5'\n\\item 'preop\\_medication\\_6'\n\\item 'symptom\\_1'\n\\item 'symptom\\_2'\n\\item 'symptom\\_3'\n\\item 'symptom\\_4'\n\\item 'symptom\\_5'\n\\item 'lab\\_result\\_1'\n\\item 'lab\\_result\\_2'\n\\item 'lab\\_result\\_3'\n\\item 'weight'\n\\item 'height'\n\\item 'days\\_in\\_hospital'\n\\item 'dob'\n\\item 'year\\_birth'\n\\item 'year\\_adm'\n\\item 'age'\n\\item 'chinese'\n\\item 'indian'\n\\item 'malay'\n\\item 'others'\n\\end{enumerate*}\n",
            "text/plain": [
              " [1] \"patient_id\"          \"total_amount\"        \"bill_id\"            \n",
              " [4] \"date_of_admission.x\" \"amount\"              \"gender\"             \n",
              " [7] \"race\"                \"resident_status\"     \"date_of_birth\"      \n",
              "[10] \"date_of_admission.y\" \"date_of_discharge\"   \"medical_history_1\"  \n",
              "[13] \"medical_history_2\"   \"medical_history_3\"   \"medical_history_4\"  \n",
              "[16] \"medical_history_5\"   \"medical_history_6\"   \"medical_history_7\"  \n",
              "[19] \"preop_medication_1\"  \"preop_medication_2\"  \"preop_medication_3\" \n",
              "[22] \"preop_medication_4\"  \"preop_medication_5\"  \"preop_medication_6\" \n",
              "[25] \"symptom_1\"           \"symptom_2\"           \"symptom_3\"          \n",
              "[28] \"symptom_4\"           \"symptom_5\"           \"lab_result_1\"       \n",
              "[31] \"lab_result_2\"        \"lab_result_3\"        \"weight\"             \n",
              "[34] \"height\"              \"days_in_hospital\"    \"dob\"                \n",
              "[37] \"year_birth\"          \"year_adm\"            \"age\"                \n",
              "[40] \"chinese\"             \"indian\"              \"malay\"              \n",
              "[43] \"others\"             "
            ]
          },
          "metadata": {}
        }
      ]
    },
    {
      "cell_type": "code",
      "source": [
        "resident_status_counts <- merged_df %>%\n",
        "  count(resident_status)\n",
        "\n",
        "print(resident_status_counts)\n"
      ],
      "metadata": {
        "colab": {
          "base_uri": "https://localhost:8080/"
        },
        "id": "cK9y2Hi3tMbW",
        "outputId": "46db2af0-03a4-4ca9-d28f-0c968226e2f6"
      },
      "execution_count": 124,
      "outputs": [
        {
          "output_type": "stream",
          "name": "stdout",
          "text": [
            "  resident_status     n\n",
            "1       Foreigner   788\n",
            "2              PR  2460\n",
            "3     Singaporean 13728\n"
          ]
        }
      ]
    },
    {
      "cell_type": "code",
      "source": [
        "merged_df$resident_status <- tolower(merged_df$resident_status)\n",
        "#merged_df$resident_status <- gsub(\"others\", \"foreigner\", merged_df$resident_status)\n",
        "\n",
        "# Specify the categories for one-hot encoding\n",
        "categories <- c(\"foreigner\", \"pr\", \"singaporean\")\n",
        "\n",
        "# Create one-hot encoding\n",
        "one_hot_encoded <- model.matrix(~ resident_status - 1, data = merged_df[, \"resident_status\", drop = FALSE])\n",
        "\n",
        "# Give meaningful column names\n",
        "colnames(one_hot_encoded) <- categories\n",
        "\n",
        "# Add one-hot encoded columns to the original dataframe\n",
        "merged_df <- cbind(merged_df, one_hot_encoded)\n",
        "\n",
        "# Remove the original \"resident_status\" column if needed\n",
        "merged_df <- merged_df[, !names(merged_df) %in% c(\"resident_status\")]\n",
        "\n"
      ],
      "metadata": {
        "id": "CN34f0rctMp4"
      },
      "execution_count": 125,
      "outputs": []
    },
    {
      "cell_type": "code",
      "source": [
        "colnames(merged_df)"
      ],
      "metadata": {
        "colab": {
          "base_uri": "https://localhost:8080/",
          "height": 86
        },
        "id": "kKz6eVRGr58b",
        "outputId": "90a6ab86-6d25-4d94-bb31-df4d2a253314"
      },
      "execution_count": 126,
      "outputs": [
        {
          "output_type": "display_data",
          "data": {
            "text/html": [
              "<style>\n",
              ".list-inline {list-style: none; margin:0; padding: 0}\n",
              ".list-inline>li {display: inline-block}\n",
              ".list-inline>li:not(:last-child)::after {content: \"\\00b7\"; padding: 0 .5ex}\n",
              "</style>\n",
              "<ol class=list-inline><li>'patient_id'</li><li>'total_amount'</li><li>'bill_id'</li><li>'date_of_admission.x'</li><li>'amount'</li><li>'gender'</li><li>'race'</li><li>'date_of_birth'</li><li>'date_of_admission.y'</li><li>'date_of_discharge'</li><li>'medical_history_1'</li><li>'medical_history_2'</li><li>'medical_history_3'</li><li>'medical_history_4'</li><li>'medical_history_5'</li><li>'medical_history_6'</li><li>'medical_history_7'</li><li>'preop_medication_1'</li><li>'preop_medication_2'</li><li>'preop_medication_3'</li><li>'preop_medication_4'</li><li>'preop_medication_5'</li><li>'preop_medication_6'</li><li>'symptom_1'</li><li>'symptom_2'</li><li>'symptom_3'</li><li>'symptom_4'</li><li>'symptom_5'</li><li>'lab_result_1'</li><li>'lab_result_2'</li><li>'lab_result_3'</li><li>'weight'</li><li>'height'</li><li>'days_in_hospital'</li><li>'dob'</li><li>'year_birth'</li><li>'year_adm'</li><li>'age'</li><li>'chinese'</li><li>'indian'</li><li>'malay'</li><li>'others'</li><li>'foreigner'</li><li>'pr'</li><li>'singaporean'</li></ol>\n"
            ],
            "text/markdown": "1. 'patient_id'\n2. 'total_amount'\n3. 'bill_id'\n4. 'date_of_admission.x'\n5. 'amount'\n6. 'gender'\n7. 'race'\n8. 'date_of_birth'\n9. 'date_of_admission.y'\n10. 'date_of_discharge'\n11. 'medical_history_1'\n12. 'medical_history_2'\n13. 'medical_history_3'\n14. 'medical_history_4'\n15. 'medical_history_5'\n16. 'medical_history_6'\n17. 'medical_history_7'\n18. 'preop_medication_1'\n19. 'preop_medication_2'\n20. 'preop_medication_3'\n21. 'preop_medication_4'\n22. 'preop_medication_5'\n23. 'preop_medication_6'\n24. 'symptom_1'\n25. 'symptom_2'\n26. 'symptom_3'\n27. 'symptom_4'\n28. 'symptom_5'\n29. 'lab_result_1'\n30. 'lab_result_2'\n31. 'lab_result_3'\n32. 'weight'\n33. 'height'\n34. 'days_in_hospital'\n35. 'dob'\n36. 'year_birth'\n37. 'year_adm'\n38. 'age'\n39. 'chinese'\n40. 'indian'\n41. 'malay'\n42. 'others'\n43. 'foreigner'\n44. 'pr'\n45. 'singaporean'\n\n\n",
            "text/latex": "\\begin{enumerate*}\n\\item 'patient\\_id'\n\\item 'total\\_amount'\n\\item 'bill\\_id'\n\\item 'date\\_of\\_admission.x'\n\\item 'amount'\n\\item 'gender'\n\\item 'race'\n\\item 'date\\_of\\_birth'\n\\item 'date\\_of\\_admission.y'\n\\item 'date\\_of\\_discharge'\n\\item 'medical\\_history\\_1'\n\\item 'medical\\_history\\_2'\n\\item 'medical\\_history\\_3'\n\\item 'medical\\_history\\_4'\n\\item 'medical\\_history\\_5'\n\\item 'medical\\_history\\_6'\n\\item 'medical\\_history\\_7'\n\\item 'preop\\_medication\\_1'\n\\item 'preop\\_medication\\_2'\n\\item 'preop\\_medication\\_3'\n\\item 'preop\\_medication\\_4'\n\\item 'preop\\_medication\\_5'\n\\item 'preop\\_medication\\_6'\n\\item 'symptom\\_1'\n\\item 'symptom\\_2'\n\\item 'symptom\\_3'\n\\item 'symptom\\_4'\n\\item 'symptom\\_5'\n\\item 'lab\\_result\\_1'\n\\item 'lab\\_result\\_2'\n\\item 'lab\\_result\\_3'\n\\item 'weight'\n\\item 'height'\n\\item 'days\\_in\\_hospital'\n\\item 'dob'\n\\item 'year\\_birth'\n\\item 'year\\_adm'\n\\item 'age'\n\\item 'chinese'\n\\item 'indian'\n\\item 'malay'\n\\item 'others'\n\\item 'foreigner'\n\\item 'pr'\n\\item 'singaporean'\n\\end{enumerate*}\n",
            "text/plain": [
              " [1] \"patient_id\"          \"total_amount\"        \"bill_id\"            \n",
              " [4] \"date_of_admission.x\" \"amount\"              \"gender\"             \n",
              " [7] \"race\"                \"date_of_birth\"       \"date_of_admission.y\"\n",
              "[10] \"date_of_discharge\"   \"medical_history_1\"   \"medical_history_2\"  \n",
              "[13] \"medical_history_3\"   \"medical_history_4\"   \"medical_history_5\"  \n",
              "[16] \"medical_history_6\"   \"medical_history_7\"   \"preop_medication_1\" \n",
              "[19] \"preop_medication_2\"  \"preop_medication_3\"  \"preop_medication_4\" \n",
              "[22] \"preop_medication_5\"  \"preop_medication_6\"  \"symptom_1\"          \n",
              "[25] \"symptom_2\"           \"symptom_3\"           \"symptom_4\"          \n",
              "[28] \"symptom_5\"           \"lab_result_1\"        \"lab_result_2\"       \n",
              "[31] \"lab_result_3\"        \"weight\"              \"height\"             \n",
              "[34] \"days_in_hospital\"    \"dob\"                 \"year_birth\"         \n",
              "[37] \"year_adm\"            \"age\"                 \"chinese\"            \n",
              "[40] \"indian\"              \"malay\"               \"others\"             \n",
              "[43] \"foreigner\"           \"pr\"                  \"singaporean\"        "
            ]
          },
          "metadata": {}
        }
      ]
    },
    {
      "cell_type": "code",
      "source": [
        "# Specify the categories for \"gender\" one-hot encoding\n",
        "gender_categories <- c(\"m\", \"f\")\n",
        "\n",
        "# Create one-hot encoding for \"gender\"\n",
        "gender_encoded <- model.matrix(~ gender - 1, data = merged_df[, \"gender\", drop = FALSE])\n",
        "colnames(gender_encoded) <- gender_categories\n",
        "\n",
        "# Add the one-hot encoded \"gender\" columns to the original dataframe\n",
        "merged_df <- cbind(merged_df, gender_encoded)\n",
        "\n",
        "# Remove the original \"gender\" column if needed\n",
        "# merged_df <- merged_df[, !names(merged_df) %in% \"gender\"]\n",
        "\n",
        "# Print the updated dataframe\n",
        "print(colnames(merged_df))\n"
      ],
      "metadata": {
        "colab": {
          "base_uri": "https://localhost:8080/"
        },
        "id": "fbFdIaUIw3IZ",
        "outputId": "c43d7b62-1a2a-49cc-d0fa-eec5a07aa97c"
      },
      "execution_count": 128,
      "outputs": [
        {
          "output_type": "stream",
          "name": "stdout",
          "text": [
            " [1] \"patient_id\"          \"total_amount\"        \"bill_id\"            \n",
            " [4] \"date_of_admission.x\" \"amount\"              \"gender\"             \n",
            " [7] \"race\"                \"date_of_birth\"       \"date_of_admission.y\"\n",
            "[10] \"date_of_discharge\"   \"medical_history_1\"   \"medical_history_2\"  \n",
            "[13] \"medical_history_3\"   \"medical_history_4\"   \"medical_history_5\"  \n",
            "[16] \"medical_history_6\"   \"medical_history_7\"   \"preop_medication_1\" \n",
            "[19] \"preop_medication_2\"  \"preop_medication_3\"  \"preop_medication_4\" \n",
            "[22] \"preop_medication_5\"  \"preop_medication_6\"  \"symptom_1\"          \n",
            "[25] \"symptom_2\"           \"symptom_3\"           \"symptom_4\"          \n",
            "[28] \"symptom_5\"           \"lab_result_1\"        \"lab_result_2\"       \n",
            "[31] \"lab_result_3\"        \"weight\"              \"height\"             \n",
            "[34] \"days_in_hospital\"    \"dob\"                 \"year_birth\"         \n",
            "[37] \"year_adm\"            \"age\"                 \"chinese\"            \n",
            "[40] \"indian\"              \"malay\"               \"others\"             \n",
            "[43] \"foreigner\"           \"pr\"                  \"singaporean\"        \n",
            "[46] \"m\"                   \"f\"                  \n"
          ]
        }
      ]
    },
    {
      "cell_type": "code",
      "source": [],
      "metadata": {
        "id": "kvz1j-opxg27"
      },
      "execution_count": null,
      "outputs": []
    },
    {
      "cell_type": "code",
      "source": [
        "gender_count <- merged_df %>%\n",
        "  count(f)\n",
        "\n",
        "print(gender_count)\n"
      ],
      "metadata": {
        "colab": {
          "base_uri": "https://localhost:8080/"
        },
        "outputId": "fbc82000-f307-408f-b201-bfc0ec3f5578",
        "id": "kytZbPOkxhVV"
      },
      "execution_count": 134,
      "outputs": [
        {
          "output_type": "stream",
          "name": "stdout",
          "text": [
            "  f    n\n",
            "1 0 8560\n",
            "2 1 8416\n"
          ]
        }
      ]
    },
    {
      "cell_type": "markdown",
      "source": [
        "Univariate Analysis"
      ],
      "metadata": {
        "id": "9lPGMgeLaxnY"
      }
    },
    {
      "cell_type": "markdown",
      "source": [],
      "metadata": {
        "id": "EJgofb8yugNe"
      }
    },
    {
      "cell_type": "code",
      "source": [
        "ggplot(merged_df, aes(x = amount)) +\n",
        "  geom_histogram(binwidth = 1000, fill = \"blue\", color = \"black\") +\n",
        "  labs(title = \"Distribution of Total Cost of Treatment\")"
      ],
      "metadata": {
        "colab": {
          "base_uri": "https://localhost:8080/",
          "height": 437
        },
        "id": "r38OEq3Ual8A",
        "outputId": "f1fc1ecd-0585-48bf-a6ce-09831026c7f1"
      },
      "execution_count": 135,
      "outputs": [
        {
          "output_type": "display_data",
          "data": {
            "text/plain": [
              "plot without title"
            ],
            "image/png": "[encoded data removed]"
          },
          "metadata": {
            "image/png": {
              "width": 420,
              "height": 420
            }
          }
        }
      ]
    },
    {
      "cell_type": "markdown",
      "source": [
        "BiVariate Analysis"
      ],
      "metadata": {
        "id": "6LmkV603bC4m"
      }
    },
    {
      "cell_type": "markdown",
      "source": [
        "#Correlation Analysis"
      ],
      "metadata": {
        "id": "bHfiGhfLbRc3"
      }
    },
    {
      "cell_type": "code",
      "source": [
        "correlation_matrix <- cor(merged_df[, c(\"age\", \"days_in_hospital\", \"amount\",\"gender\")])\n",
        "\n",
        "# Plot a correlation heatmap\n",
        "library(reshape2)\n",
        "melted_correlation <- melt(correlation_matrix)\n",
        "ggplot(data = melted_correlation, aes(Var1, Var2, fill = value)) +\n",
        "  geom_tile() +\n",
        "  scale_fill_gradient(low = \"blue\", high = \"red\") +\n",
        "  labs(title = \"Correlation Heatmap\")"
      ],
      "metadata": {
        "colab": {
          "base_uri": "https://localhost:8080/",
          "height": 437
        },
        "id": "IkIjUK--bNOQ",
        "outputId": "bbce9dab-9741-4cda-b87b-59ff0a581fdd"
      },
      "execution_count": 137,
      "outputs": [
        {
          "output_type": "display_data",
          "data": {
            "text/plain": [
              "plot without title"
            ],
            "image/png": "[encoded data removed]"
          },
          "metadata": {
            "image/png": {
              "width": 420,
              "height": 420
            }
          }
        }
      ]
    },
    {
      "cell_type": "markdown",
      "source": [
        "#outlier Analysis"
      ],
      "metadata": {
        "id": "PUF4R30feOm8"
      }
    },
    {
      "cell_type": "code",
      "source": [
        "ggplot(merged_df, aes(y = amount)) +\n",
        "  geom_boxplot(fill = \"blue\") +\n",
        "  labs(title = \"Box Plot of Total Cost of Treatment\")"
      ],
      "metadata": {
        "colab": {
          "base_uri": "https://localhost:8080/",
          "height": 437
        },
        "id": "cEeiPeAreJVg",
        "outputId": "f5aa0291-dc43-4656-ef56-7aab541c5c1c"
      },
      "execution_count": 138,
      "outputs": [
        {
          "output_type": "display_data",
          "data": {
            "text/plain": [
              "plot without title"
            ],
            "image/png": "[encoded data removed]"
          },
          "metadata": {
            "image/png": {
              "width": 420,
              "height": 420
            }
          }
        }
      ]
    },
    {
      "cell_type": "markdown",
      "source": [
        "#Multivariate Analysis"
      ],
      "metadata": {
        "id": "UUQTTpo1eVh-"
      }
    },
    {
      "cell_type": "code",
      "source": [
        "ggplot(merged_df, aes(x = age, y = amount, color = gender)) +\n",
        "  geom_point() +\n",
        "  labs(title = \"Total Cost of Treatment vs. Age at Admission (Colored by Gender)\")"
      ],
      "metadata": {
        "colab": {
          "base_uri": "https://localhost:8080/",
          "height": 437
        },
        "id": "OkTURmMteUtC",
        "outputId": "5db155c9-d1f3-4e6d-cde2-17f0fca84424"
      },
      "execution_count": 139,
      "outputs": [
        {
          "output_type": "display_data",
          "data": {
            "text/plain": [
              "plot without title"
            ],
            "image/png": "[encoded data removed]"
          },
          "metadata": {
            "image/png": {
              "width": 420,
              "height": 420
            }
          }
        }
      ]
    },
    {
      "cell_type": "markdown",
      "source": [
        "#EDA with Medical history and symptoms Vs Amount"
      ],
      "metadata": {
        "id": "32eztb7LezgF"
      }
    },
    {
      "cell_type": "markdown",
      "source": [],
      "metadata": {
        "id": "syhGY46ReVD8"
      }
    },
    {
      "cell_type": "code",
      "source": [
        "summary(merged_df)"
      ],
      "metadata": {
        "colab": {
          "base_uri": "https://localhost:8080/",
          "height": 1000
        },
        "id": "B0b4zvYke7zI",
        "outputId": "d7075629-3280-4f23-8721-afa7e6a0c9ae"
      },
      "execution_count": 140,
      "outputs": [
        {
          "output_type": "display_data",
          "data": {
            "text/plain": [
              "  patient_id         total_amount       bill_id          date_of_admission.x \n",
              " Length:16976       Min.   :  2946   Min.   :5.584e+05   Min.   :2011-01-01  \n",
              " Class :character   1st Qu.: 18062   1st Qu.:2.491e+09   1st Qu.:2012-03-26  \n",
              " Mode  :character   Median : 28792   Median :5.000e+09   Median :2013-07-08  \n",
              "                    Mean   : 51460   Mean   :4.999e+09   Mean   :2013-07-02  \n",
              "                    3rd Qu.: 74347   3rd Qu.:7.499e+09   3rd Qu.:2014-09-24  \n",
              "                    Max.   :335283   Max.   :1.000e+10   Max.   :2015-12-28  \n",
              "                                                                             \n",
              "     amount            gender          race           date_of_birth       \n",
              " Min.   :   79.5   Min.   : NA     Length:16976       Min.   :1930-01-20  \n",
              " 1st Qu.:  952.3   1st Qu.: NA     Class :character   1st Qu.:1948-04-06  \n",
              " Median : 1516.1   Median : NA     Mode  :character   Median :1962-08-12  \n",
              " Mean   : 5458.8   Mean   :NaN                        Mean   :1960-11-22  \n",
              " 3rd Qu.: 7318.2   3rd Qu.: NA                        3rd Qu.:1973-10-22  \n",
              " Max.   :81849.8   Max.   : NA                        Max.   :1990-12-15  \n",
              "                   NA's   :16976                                          \n",
              " date_of_admission.y  date_of_discharge    medical_history_1 medical_history_2\n",
              " Min.   :2011-01-01   Min.   :2011-01-11   Min.   :0.0000    Min.   :0.0000   \n",
              " 1st Qu.:2012-03-26   1st Qu.:2012-04-07   1st Qu.:0.0000    1st Qu.:0.0000   \n",
              " Median :2013-07-08   Median :2013-07-20   Median :0.0000    Median :0.0000   \n",
              " Mean   :2013-07-02   Mean   :2013-07-13   Mean   :0.1704    Mean   :0.3113   \n",
              " 3rd Qu.:2014-09-24   3rd Qu.:2014-10-04   3rd Qu.:0.0000    3rd Qu.:1.0000   \n",
              " Max.   :2015-12-28   Max.   :2016-01-11   Max.   :1.0000    Max.   :1.0000   \n",
              "                                                             NA's   :1156     \n",
              " medical_history_3 medical_history_4 medical_history_5 medical_history_6\n",
              " Min.   :0.0000    Min.   :0.00000   Min.   :0.0000    Min.   :0.0000   \n",
              " 1st Qu.:0.0000    1st Qu.:0.00000   1st Qu.:0.0000    1st Qu.:0.0000   \n",
              " Median :0.0000    Median :0.00000   Median :0.0000    Median :0.0000   \n",
              " Mean   :0.1357    Mean   :0.05113   Mean   :0.0655    Mean   :0.2585   \n",
              " 3rd Qu.:0.0000    3rd Qu.:0.00000   3rd Qu.:0.0000    3rd Qu.:1.0000   \n",
              " Max.   :1.0000    Max.   :1.00000   Max.   :1.0000    Max.   :1.0000   \n",
              "                                     NA's   :1528                       \n",
              " medical_history_7 preop_medication_1 preop_medication_2 preop_medication_3\n",
              " Min.   :0.0000    Min.   :0.0000     Min.   :0.0000     Min.   :0.0000    \n",
              " 1st Qu.:0.0000    1st Qu.:0.0000     1st Qu.:0.0000     1st Qu.:1.0000    \n",
              " Median :0.0000    Median :1.0000     Median :1.0000     Median :1.0000    \n",
              " Mean   :0.2516    Mean   :0.5071     Mean   :0.5945     Mean   :0.8195    \n",
              " 3rd Qu.:1.0000    3rd Qu.:1.0000     3rd Qu.:1.0000     3rd Qu.:1.0000    \n",
              " Max.   :1.0000    Max.   :1.0000     Max.   :1.0000     Max.   :1.0000    \n",
              "                                                                           \n",
              " preop_medication_4 preop_medication_5 preop_medication_6   symptom_1    \n",
              " Min.   :0.0000     Min.   :0.0000     Min.   :0.0000     Min.   :0.000  \n",
              " 1st Qu.:0.0000     1st Qu.:1.0000     1st Qu.:0.0000     1st Qu.:0.000  \n",
              " Median :1.0000     Median :1.0000     Median :1.0000     Median :1.000  \n",
              " Mean   :0.5264     Mean   :0.8174     Mean   :0.7495     Mean   :0.618  \n",
              " 3rd Qu.:1.0000     3rd Qu.:1.0000     3rd Qu.:1.0000     3rd Qu.:1.000  \n",
              " Max.   :1.0000     Max.   :1.0000     Max.   :1.0000     Max.   :1.000  \n",
              "                                                                         \n",
              "   symptom_2        symptom_3        symptom_4        symptom_5     \n",
              " Min.   :0.0000   Min.   :0.0000   Min.   :0.0000   Min.   :0.0000  \n",
              " 1st Qu.:0.0000   1st Qu.:0.0000   1st Qu.:0.0000   1st Qu.:0.0000  \n",
              " Median :1.0000   Median :1.0000   Median :1.0000   Median :1.0000  \n",
              " Mean   :0.6645   Mean   :0.5419   Mean   :0.7314   Mean   :0.5262  \n",
              " 3rd Qu.:1.0000   3rd Qu.:1.0000   3rd Qu.:1.0000   3rd Qu.:1.0000  \n",
              " Max.   :1.0000   Max.   :1.0000   Max.   :1.0000   Max.   :1.0000  \n",
              "                                                                    \n",
              "  lab_result_1    lab_result_2    lab_result_3        weight      \n",
              " Min.   : 9.10   Min.   :19.70   Min.   : 52.00   Min.   : 48.00  \n",
              " 1st Qu.:13.20   1st Qu.:25.70   1st Qu.: 88.00   1st Qu.: 71.20  \n",
              " Median :14.50   Median :27.40   Median :100.00   Median : 78.80  \n",
              " Mean   :14.47   Mean   :27.42   Mean   : 99.46   Mean   : 78.67  \n",
              " 3rd Qu.:15.80   3rd Qu.:29.20   3rd Qu.:110.00   3rd Qu.: 86.20  \n",
              " Max.   :20.30   Max.   :35.10   Max.   :150.00   Max.   :121.00  \n",
              "                                                                  \n",
              "     height    days_in_hospital      dob               year_birth  \n",
              " Min.   :151   Min.   : 1.00    Min.   :1930-01-20   Min.   :1930  \n",
              " 1st Qu.:160   1st Qu.: 9.00    1st Qu.:1948-04-06   1st Qu.:1948  \n",
              " Median :165   Median :11.00    Median :1962-08-12   Median :1962  \n",
              " Mean   :165   Mean   :11.03    Mean   :1960-11-22   Mean   :1960  \n",
              " 3rd Qu.:170   3rd Qu.:13.00    3rd Qu.:1973-10-22   3rd Qu.:1973  \n",
              " Max.   :186   Max.   :20.00    Max.   :1990-12-15   Max.   :1990  \n",
              "                                                                   \n",
              "    year_adm         age           chinese           indian      \n",
              " Min.   :2011   Min.   :22.00   Min.   :0.0000   Min.   :0.0000  \n",
              " 1st Qu.:2012   1st Qu.:40.00   1st Qu.:0.0000   1st Qu.:0.0000  \n",
              " Median :2013   Median :51.00   Median :1.0000   Median :0.0000  \n",
              " Mean   :2013   Mean   :52.61   Mean   :0.6357   Mean   :0.1056  \n",
              " 3rd Qu.:2014   3rd Qu.:65.00   3rd Qu.:1.0000   3rd Qu.:0.0000  \n",
              " Max.   :2015   Max.   :85.00   Max.   :1.0000   Max.   :1.0000  \n",
              "                                                                 \n",
              "     malay            others          foreigner             pr        \n",
              " Min.   :0.0000   Min.   :0.00000   Min.   :0.00000   Min.   :0.0000  \n",
              " 1st Qu.:0.0000   1st Qu.:0.00000   1st Qu.:0.00000   1st Qu.:0.0000  \n",
              " Median :0.0000   Median :0.00000   Median :0.00000   Median :0.0000  \n",
              " Mean   :0.2052   Mean   :0.05349   Mean   :0.04642   Mean   :0.1449  \n",
              " 3rd Qu.:0.0000   3rd Qu.:0.00000   3rd Qu.:0.00000   3rd Qu.:0.0000  \n",
              " Max.   :1.0000   Max.   :1.00000   Max.   :1.00000   Max.   :1.0000  \n",
              "                                                                      \n",
              "  singaporean           m                f         \n",
              " Min.   :0.0000   Min.   :0.0000   Min.   :0.0000  \n",
              " 1st Qu.:1.0000   1st Qu.:0.0000   1st Qu.:0.0000  \n",
              " Median :1.0000   Median :1.0000   Median :0.0000  \n",
              " Mean   :0.8087   Mean   :0.5042   Mean   :0.4958  \n",
              " 3rd Qu.:1.0000   3rd Qu.:1.0000   3rd Qu.:1.0000  \n",
              " Max.   :1.0000   Max.   :1.0000   Max.   :1.0000  \n",
              "                                                   "
            ]
          },
          "metadata": {}
        }
      ]
    },
    {
      "cell_type": "code",
      "source": [
        "\n",
        "# Box plot for medical history vs. total cost of treatment\n",
        "ggplot(merged_df, aes(x = factor(medical_history_1), y = amount, group = medical_history_1)) +\n",
        "  geom_boxplot(fill = \"blue\") +\n",
        "  labs(title = \"Total Cost of Treatment vs. Medical History\")\n",
        "\n",
        "# Box plot for symptoms vs. total cost of treatment\n",
        "ggplot(merged_df, aes(x = factor(symptom_1), y = amount, group = symptom_1)) +\n",
        "  geom_boxplot(fill = \"blue\") +\n",
        "  labs(title = \"Total Cost of Treatment vs. Symptoms\")"
      ],
      "metadata": {
        "colab": {
          "base_uri": "https://localhost:8080/",
          "height": 857
        },
        "id": "bySBfOwde4Qc",
        "outputId": "4c754be1-0a34-4cd9-9bcf-7ca211c4ecf5"
      },
      "execution_count": 141,
      "outputs": [
        {
          "output_type": "display_data",
          "data": {
            "text/plain": [
              "plot without title"
            ],
            "image/png": "[encoded data removed]"
          },
          "metadata": {
            "image/png": {
              "width": 420,
              "height": 420
            }
          }
        },
        {
          "output_type": "display_data",
          "data": {
            "text/plain": [
              "plot without title"
            ],
            "image/png": "[encoded data removed]"
          },
          "metadata": {
            "image/png": {
              "width": 420,
              "height": 420
            }
          }
        }
      ]
    },
    {
      "cell_type": "code",
      "source": [
        "library(tidyverse)\n",
        "merged_df %>%\n",
        "  ggplot(aes(x = date_of_discharge, y = amount)) +\n",
        "  geom_line() +\n",
        "  labs(title = \"Sales Over Time\")\n"
      ],
      "metadata": {
        "id": "VA5fvw6slkC0",
        "colab": {
          "base_uri": "https://localhost:8080/",
          "height": 437
        },
        "outputId": "032bea29-9c3f-41a3-e478-0b68d9fd8add"
      },
      "execution_count": 142,
      "outputs": [
        {
          "output_type": "display_data",
          "data": {
            "text/plain": [
              "plot without title"
            ],
            "image/png": "[encoded data removed]"
          },
          "metadata": {
            "image/png": {
              "width": 420,
              "height": 420
            }
          }
        }
      ]
    },
    {
      "cell_type": "code",
      "source": [
        "# Extract column names containing \"medical_history\"\n",
        "medical_history_columns <- colnames(merged_df)[grepl(\"medical_history\", colnames(merged_df))]\n",
        "\n",
        "# Convert the extracted column names to a list\n",
        "medical_history_column_list <- as.list(medical_history_columns)\n"
      ],
      "metadata": {
        "id": "NLB-bHf_fk28"
      },
      "execution_count": 143,
      "outputs": []
    },
    {
      "cell_type": "code",
      "source": [
        "colnames(merged_df)"
      ],
      "metadata": {
        "colab": {
          "base_uri": "https://localhost:8080/",
          "height": 86
        },
        "id": "pAtzxyP1flEM",
        "outputId": "1e949ef2-cbb0-402f-ad99-bae63a58b258"
      },
      "execution_count": 144,
      "outputs": [
        {
          "output_type": "display_data",
          "data": {
            "text/html": [
              "<style>\n",
              ".list-inline {list-style: none; margin:0; padding: 0}\n",
              ".list-inline>li {display: inline-block}\n",
              ".list-inline>li:not(:last-child)::after {content: \"\\00b7\"; padding: 0 .5ex}\n",
              "</style>\n",
              "<ol class=list-inline><li>'patient_id'</li><li>'total_amount'</li><li>'bill_id'</li><li>'date_of_admission.x'</li><li>'amount'</li><li>'gender'</li><li>'race'</li><li>'date_of_birth'</li><li>'date_of_admission.y'</li><li>'date_of_discharge'</li><li>'medical_history_1'</li><li>'medical_history_2'</li><li>'medical_history_3'</li><li>'medical_history_4'</li><li>'medical_history_5'</li><li>'medical_history_6'</li><li>'medical_history_7'</li><li>'preop_medication_1'</li><li>'preop_medication_2'</li><li>'preop_medication_3'</li><li>'preop_medication_4'</li><li>'preop_medication_5'</li><li>'preop_medication_6'</li><li>'symptom_1'</li><li>'symptom_2'</li><li>'symptom_3'</li><li>'symptom_4'</li><li>'symptom_5'</li><li>'lab_result_1'</li><li>'lab_result_2'</li><li>'lab_result_3'</li><li>'weight'</li><li>'height'</li><li>'days_in_hospital'</li><li>'dob'</li><li>'year_birth'</li><li>'year_adm'</li><li>'age'</li><li>'chinese'</li><li>'indian'</li><li>'malay'</li><li>'others'</li><li>'foreigner'</li><li>'pr'</li><li>'singaporean'</li><li>'m'</li><li>'f'</li></ol>\n"
            ],
            "text/markdown": "1. 'patient_id'\n2. 'total_amount'\n3. 'bill_id'\n4. 'date_of_admission.x'\n5. 'amount'\n6. 'gender'\n7. 'race'\n8. 'date_of_birth'\n9. 'date_of_admission.y'\n10. 'date_of_discharge'\n11. 'medical_history_1'\n12. 'medical_history_2'\n13. 'medical_history_3'\n14. 'medical_history_4'\n15. 'medical_history_5'\n16. 'medical_history_6'\n17. 'medical_history_7'\n18. 'preop_medication_1'\n19. 'preop_medication_2'\n20. 'preop_medication_3'\n21. 'preop_medication_4'\n22. 'preop_medication_5'\n23. 'preop_medication_6'\n24. 'symptom_1'\n25. 'symptom_2'\n26. 'symptom_3'\n27. 'symptom_4'\n28. 'symptom_5'\n29. 'lab_result_1'\n30. 'lab_result_2'\n31. 'lab_result_3'\n32. 'weight'\n33. 'height'\n34. 'days_in_hospital'\n35. 'dob'\n36. 'year_birth'\n37. 'year_adm'\n38. 'age'\n39. 'chinese'\n40. 'indian'\n41. 'malay'\n42. 'others'\n43. 'foreigner'\n44. 'pr'\n45. 'singaporean'\n46. 'm'\n47. 'f'\n\n\n",
            "text/latex": "\\begin{enumerate*}\n\\item 'patient\\_id'\n\\item 'total\\_amount'\n\\item 'bill\\_id'\n\\item 'date\\_of\\_admission.x'\n\\item 'amount'\n\\item 'gender'\n\\item 'race'\n\\item 'date\\_of\\_birth'\n\\item 'date\\_of\\_admission.y'\n\\item 'date\\_of\\_discharge'\n\\item 'medical\\_history\\_1'\n\\item 'medical\\_history\\_2'\n\\item 'medical\\_history\\_3'\n\\item 'medical\\_history\\_4'\n\\item 'medical\\_history\\_5'\n\\item 'medical\\_history\\_6'\n\\item 'medical\\_history\\_7'\n\\item 'preop\\_medication\\_1'\n\\item 'preop\\_medication\\_2'\n\\item 'preop\\_medication\\_3'\n\\item 'preop\\_medication\\_4'\n\\item 'preop\\_medication\\_5'\n\\item 'preop\\_medication\\_6'\n\\item 'symptom\\_1'\n\\item 'symptom\\_2'\n\\item 'symptom\\_3'\n\\item 'symptom\\_4'\n\\item 'symptom\\_5'\n\\item 'lab\\_result\\_1'\n\\item 'lab\\_result\\_2'\n\\item 'lab\\_result\\_3'\n\\item 'weight'\n\\item 'height'\n\\item 'days\\_in\\_hospital'\n\\item 'dob'\n\\item 'year\\_birth'\n\\item 'year\\_adm'\n\\item 'age'\n\\item 'chinese'\n\\item 'indian'\n\\item 'malay'\n\\item 'others'\n\\item 'foreigner'\n\\item 'pr'\n\\item 'singaporean'\n\\item 'm'\n\\item 'f'\n\\end{enumerate*}\n",
            "text/plain": [
              " [1] \"patient_id\"          \"total_amount\"        \"bill_id\"            \n",
              " [4] \"date_of_admission.x\" \"amount\"              \"gender\"             \n",
              " [7] \"race\"                \"date_of_birth\"       \"date_of_admission.y\"\n",
              "[10] \"date_of_discharge\"   \"medical_history_1\"   \"medical_history_2\"  \n",
              "[13] \"medical_history_3\"   \"medical_history_4\"   \"medical_history_5\"  \n",
              "[16] \"medical_history_6\"   \"medical_history_7\"   \"preop_medication_1\" \n",
              "[19] \"preop_medication_2\"  \"preop_medication_3\"  \"preop_medication_4\" \n",
              "[22] \"preop_medication_5\"  \"preop_medication_6\"  \"symptom_1\"          \n",
              "[25] \"symptom_2\"           \"symptom_3\"           \"symptom_4\"          \n",
              "[28] \"symptom_5\"           \"lab_result_1\"        \"lab_result_2\"       \n",
              "[31] \"lab_result_3\"        \"weight\"              \"height\"             \n",
              "[34] \"days_in_hospital\"    \"dob\"                 \"year_birth\"         \n",
              "[37] \"year_adm\"            \"age\"                 \"chinese\"            \n",
              "[40] \"indian\"              \"malay\"               \"others\"             \n",
              "[43] \"foreigner\"           \"pr\"                  \"singaporean\"        \n",
              "[46] \"m\"                   \"f\"                  "
            ]
          },
          "metadata": {}
        }
      ]
    },
    {
      "cell_type": "code",
      "source": [
        "summary(merged_df)"
      ],
      "metadata": {
        "colab": {
          "base_uri": "https://localhost:8080/",
          "height": 1000
        },
        "id": "kDDQdulVflGh",
        "outputId": "a1fa1af2-1f53-493d-c80f-8362c88e6e6b"
      },
      "execution_count": 145,
      "outputs": [
        {
          "output_type": "display_data",
          "data": {
            "text/plain": [
              "  patient_id         total_amount       bill_id          date_of_admission.x \n",
              " Length:16976       Min.   :  2946   Min.   :5.584e+05   Min.   :2011-01-01  \n",
              " Class :character   1st Qu.: 18062   1st Qu.:2.491e+09   1st Qu.:2012-03-26  \n",
              " Mode  :character   Median : 28792   Median :5.000e+09   Median :2013-07-08  \n",
              "                    Mean   : 51460   Mean   :4.999e+09   Mean   :2013-07-02  \n",
              "                    3rd Qu.: 74347   3rd Qu.:7.499e+09   3rd Qu.:2014-09-24  \n",
              "                    Max.   :335283   Max.   :1.000e+10   Max.   :2015-12-28  \n",
              "                                                                             \n",
              "     amount            gender          race           date_of_birth       \n",
              " Min.   :   79.5   Min.   : NA     Length:16976       Min.   :1930-01-20  \n",
              " 1st Qu.:  952.3   1st Qu.: NA     Class :character   1st Qu.:1948-04-06  \n",
              " Median : 1516.1   Median : NA     Mode  :character   Median :1962-08-12  \n",
              " Mean   : 5458.8   Mean   :NaN                        Mean   :1960-11-22  \n",
              " 3rd Qu.: 7318.2   3rd Qu.: NA                        3rd Qu.:1973-10-22  \n",
              " Max.   :81849.8   Max.   : NA                        Max.   :1990-12-15  \n",
              "                   NA's   :16976                                          \n",
              " date_of_admission.y  date_of_discharge    medical_history_1 medical_history_2\n",
              " Min.   :2011-01-01   Min.   :2011-01-11   Min.   :0.0000    Min.   :0.0000   \n",
              " 1st Qu.:2012-03-26   1st Qu.:2012-04-07   1st Qu.:0.0000    1st Qu.:0.0000   \n",
              " Median :2013-07-08   Median :2013-07-20   Median :0.0000    Median :0.0000   \n",
              " Mean   :2013-07-02   Mean   :2013-07-13   Mean   :0.1704    Mean   :0.3113   \n",
              " 3rd Qu.:2014-09-24   3rd Qu.:2014-10-04   3rd Qu.:0.0000    3rd Qu.:1.0000   \n",
              " Max.   :2015-12-28   Max.   :2016-01-11   Max.   :1.0000    Max.   :1.0000   \n",
              "                                                             NA's   :1156     \n",
              " medical_history_3 medical_history_4 medical_history_5 medical_history_6\n",
              " Min.   :0.0000    Min.   :0.00000   Min.   :0.0000    Min.   :0.0000   \n",
              " 1st Qu.:0.0000    1st Qu.:0.00000   1st Qu.:0.0000    1st Qu.:0.0000   \n",
              " Median :0.0000    Median :0.00000   Median :0.0000    Median :0.0000   \n",
              " Mean   :0.1357    Mean   :0.05113   Mean   :0.0655    Mean   :0.2585   \n",
              " 3rd Qu.:0.0000    3rd Qu.:0.00000   3rd Qu.:0.0000    3rd Qu.:1.0000   \n",
              " Max.   :1.0000    Max.   :1.00000   Max.   :1.0000    Max.   :1.0000   \n",
              "                                     NA's   :1528                       \n",
              " medical_history_7 preop_medication_1 preop_medication_2 preop_medication_3\n",
              " Min.   :0.0000    Min.   :0.0000     Min.   :0.0000     Min.   :0.0000    \n",
              " 1st Qu.:0.0000    1st Qu.:0.0000     1st Qu.:0.0000     1st Qu.:1.0000    \n",
              " Median :0.0000    Median :1.0000     Median :1.0000     Median :1.0000    \n",
              " Mean   :0.2516    Mean   :0.5071     Mean   :0.5945     Mean   :0.8195    \n",
              " 3rd Qu.:1.0000    3rd Qu.:1.0000     3rd Qu.:1.0000     3rd Qu.:1.0000    \n",
              " Max.   :1.0000    Max.   :1.0000     Max.   :1.0000     Max.   :1.0000    \n",
              "                                                                           \n",
              " preop_medication_4 preop_medication_5 preop_medication_6   symptom_1    \n",
              " Min.   :0.0000     Min.   :0.0000     Min.   :0.0000     Min.   :0.000  \n",
              " 1st Qu.:0.0000     1st Qu.:1.0000     1st Qu.:0.0000     1st Qu.:0.000  \n",
              " Median :1.0000     Median :1.0000     Median :1.0000     Median :1.000  \n",
              " Mean   :0.5264     Mean   :0.8174     Mean   :0.7495     Mean   :0.618  \n",
              " 3rd Qu.:1.0000     3rd Qu.:1.0000     3rd Qu.:1.0000     3rd Qu.:1.000  \n",
              " Max.   :1.0000     Max.   :1.0000     Max.   :1.0000     Max.   :1.000  \n",
              "                                                                         \n",
              "   symptom_2        symptom_3        symptom_4        symptom_5     \n",
              " Min.   :0.0000   Min.   :0.0000   Min.   :0.0000   Min.   :0.0000  \n",
              " 1st Qu.:0.0000   1st Qu.:0.0000   1st Qu.:0.0000   1st Qu.:0.0000  \n",
              " Median :1.0000   Median :1.0000   Median :1.0000   Median :1.0000  \n",
              " Mean   :0.6645   Mean   :0.5419   Mean   :0.7314   Mean   :0.5262  \n",
              " 3rd Qu.:1.0000   3rd Qu.:1.0000   3rd Qu.:1.0000   3rd Qu.:1.0000  \n",
              " Max.   :1.0000   Max.   :1.0000   Max.   :1.0000   Max.   :1.0000  \n",
              "                                                                    \n",
              "  lab_result_1    lab_result_2    lab_result_3        weight      \n",
              " Min.   : 9.10   Min.   :19.70   Min.   : 52.00   Min.   : 48.00  \n",
              " 1st Qu.:13.20   1st Qu.:25.70   1st Qu.: 88.00   1st Qu.: 71.20  \n",
              " Median :14.50   Median :27.40   Median :100.00   Median : 78.80  \n",
              " Mean   :14.47   Mean   :27.42   Mean   : 99.46   Mean   : 78.67  \n",
              " 3rd Qu.:15.80   3rd Qu.:29.20   3rd Qu.:110.00   3rd Qu.: 86.20  \n",
              " Max.   :20.30   Max.   :35.10   Max.   :150.00   Max.   :121.00  \n",
              "                                                                  \n",
              "     height    days_in_hospital      dob               year_birth  \n",
              " Min.   :151   Min.   : 1.00    Min.   :1930-01-20   Min.   :1930  \n",
              " 1st Qu.:160   1st Qu.: 9.00    1st Qu.:1948-04-06   1st Qu.:1948  \n",
              " Median :165   Median :11.00    Median :1962-08-12   Median :1962  \n",
              " Mean   :165   Mean   :11.03    Mean   :1960-11-22   Mean   :1960  \n",
              " 3rd Qu.:170   3rd Qu.:13.00    3rd Qu.:1973-10-22   3rd Qu.:1973  \n",
              " Max.   :186   Max.   :20.00    Max.   :1990-12-15   Max.   :1990  \n",
              "                                                                   \n",
              "    year_adm         age           chinese           indian      \n",
              " Min.   :2011   Min.   :22.00   Min.   :0.0000   Min.   :0.0000  \n",
              " 1st Qu.:2012   1st Qu.:40.00   1st Qu.:0.0000   1st Qu.:0.0000  \n",
              " Median :2013   Median :51.00   Median :1.0000   Median :0.0000  \n",
              " Mean   :2013   Mean   :52.61   Mean   :0.6357   Mean   :0.1056  \n",
              " 3rd Qu.:2014   3rd Qu.:65.00   3rd Qu.:1.0000   3rd Qu.:0.0000  \n",
              " Max.   :2015   Max.   :85.00   Max.   :1.0000   Max.   :1.0000  \n",
              "                                                                 \n",
              "     malay            others          foreigner             pr        \n",
              " Min.   :0.0000   Min.   :0.00000   Min.   :0.00000   Min.   :0.0000  \n",
              " 1st Qu.:0.0000   1st Qu.:0.00000   1st Qu.:0.00000   1st Qu.:0.0000  \n",
              " Median :0.0000   Median :0.00000   Median :0.00000   Median :0.0000  \n",
              " Mean   :0.2052   Mean   :0.05349   Mean   :0.04642   Mean   :0.1449  \n",
              " 3rd Qu.:0.0000   3rd Qu.:0.00000   3rd Qu.:0.00000   3rd Qu.:0.0000  \n",
              " Max.   :1.0000   Max.   :1.00000   Max.   :1.00000   Max.   :1.0000  \n",
              "                                                                      \n",
              "  singaporean           m                f         \n",
              " Min.   :0.0000   Min.   :0.0000   Min.   :0.0000  \n",
              " 1st Qu.:1.0000   1st Qu.:0.0000   1st Qu.:0.0000  \n",
              " Median :1.0000   Median :1.0000   Median :0.0000  \n",
              " Mean   :0.8087   Mean   :0.5042   Mean   :0.4958  \n",
              " 3rd Qu.:1.0000   3rd Qu.:1.0000   3rd Qu.:1.0000  \n",
              " Max.   :1.0000   Max.   :1.0000   Max.   :1.0000  \n",
              "                                                   "
            ]
          },
          "metadata": {}
        }
      ]
    },
    {
      "cell_type": "code",
      "source": [
        "df_filtered= merged_df"
      ],
      "metadata": {
        "id": "R36TNh8aiPjU"
      },
      "execution_count": 146,
      "outputs": []
    },
    {
      "cell_type": "markdown",
      "source": [
        "#DATA Splitting\n"
      ],
      "metadata": {
        "id": "vetpa_QKyfww"
      }
    },
    {
      "cell_type": "code",
      "source": [
        "# Create a new feature: total_amount_by_patient\n",
        "df_filtered <- df_filtered %>%\n",
        "  group_by(patient_id) %>%\n",
        "  mutate(total_amount_by_patient = sum(amount))\n",
        "\n",
        "# Split the data into training and testing sets\n",
        "set.seed(123)\n",
        "train_indices <- sample(1:nrow(df_filtered), 0.7 * nrow(df_filtered))\n",
        "train_data <- df_filtered[train_indices, ]\n",
        "test_data <- df_filtered[-train_indices, ]"
      ],
      "metadata": {
        "id": "YiLDSOnznW7F"
      },
      "execution_count": 147,
      "outputs": []
    },
    {
      "cell_type": "markdown",
      "source": [
        "Missing Values"
      ],
      "metadata": {
        "id": "c4uxOk0lykeB"
      }
    },
    {
      "cell_type": "code",
      "source": [
        "# Check for missing values in your dataset\n",
        "missing_values <- colSums(is.na(train_data))\n",
        "print(missing_values)"
      ],
      "metadata": {
        "colab": {
          "base_uri": "https://localhost:8080/"
        },
        "id": "vd8dglVamLnn",
        "outputId": "ba227c1d-1755-4693-d90a-8f9c1d83f9bc"
      },
      "execution_count": 148,
      "outputs": [
        {
          "output_type": "stream",
          "name": "stdout",
          "text": [
            "             patient_id            total_amount                 bill_id \n",
            "                      0                       0                       0 \n",
            "    date_of_admission.x                  amount                  gender \n",
            "                      0                       0                   11883 \n",
            "                   race           date_of_birth     date_of_admission.y \n",
            "                      0                       0                       0 \n",
            "      date_of_discharge       medical_history_1       medical_history_2 \n",
            "                      0                       0                     797 \n",
            "      medical_history_3       medical_history_4       medical_history_5 \n",
            "                      0                       0                    1067 \n",
            "      medical_history_6       medical_history_7      preop_medication_1 \n",
            "                      0                       0                       0 \n",
            "     preop_medication_2      preop_medication_3      preop_medication_4 \n",
            "                      0                       0                       0 \n",
            "     preop_medication_5      preop_medication_6               symptom_1 \n",
            "                      0                       0                       0 \n",
            "              symptom_2               symptom_3               symptom_4 \n",
            "                      0                       0                       0 \n",
            "              symptom_5            lab_result_1            lab_result_2 \n",
            "                      0                       0                       0 \n",
            "           lab_result_3                  weight                  height \n",
            "                      0                       0                       0 \n",
            "       days_in_hospital                     dob              year_birth \n",
            "                      0                       0                       0 \n",
            "               year_adm                     age                 chinese \n",
            "                      0                       0                       0 \n",
            "                 indian                   malay                  others \n",
            "                      0                       0                       0 \n",
            "              foreigner                      pr             singaporean \n",
            "                      0                       0                       0 \n",
            "                      m                       f total_amount_by_patient \n",
            "                      0                       0                       0 \n"
          ]
        }
      ]
    },
    {
      "cell_type": "markdown",
      "source": [
        "# Random Forest with Variable Importance"
      ],
      "metadata": {
        "id": "1LrpvR1jynlg"
      }
    },
    {
      "cell_type": "code",
      "source": [
        "# Load necessary libraries\n",
        "library(randomForest)\n",
        "library(dplyr)\n",
        "\n",
        "# Load and preprocess your data (as shown in the previous example)\n",
        "\n",
        "# Split the data into training and testing sets (as shown in the previous example)\n",
        "\n",
        "# Create and train a Random Forest model using all available features\n",
        "#model_rf_select=randomForest(total_amount_by_patient ~ age + weight + lab_result_2+lab_result_1+lab_result_3+height+days_in_hospital+year_adm+symptom_5+preop_medication_2+symptom_4, data = train_data)\n",
        "model_rf <- randomForest(total_amount_by_patient ~ age+singaporean+pr+others+foreigner+indian+malay+chinese+m+medical_history_1+medical_history_3+medical_history_4+medical_history_6+medical_history_7+preop_medication_1+preop_medication_2 +preop_medication_3+preop_medication_4+preop_medication_5+preop_medication_6+symptom_1+symptom_2+symptom_3+symptom_4+symptom_5+lab_result_1+lab_result_2+lab_result_3+weight+year_adm+days_in_hospital+height, data = train_data)\n",
        "\n",
        "# Make predictions\n",
        "predictions_rf <- predict(model_rf, newdata = test_data)\n",
        "\n",
        "# Evaluate the model\n",
        "error_rf <- sqrt(mean((test_data$total_amount_by_patient - predictions_rf)^2))\n",
        "cat(\"Random Forest RMSE:\", error_rf)\n",
        "\n",
        "# Variable Importance\n",
        "var_importance <- importance(model_rf)\n",
        "# Sort variable importance in descending order\n",
        "sorted_var_importance <- var_importance[order(-var_importance[, 1]), ]\n",
        "\n",
        "# Print the sorted variable importance\n",
        "print(sorted_var_importance)\n"
      ],
      "metadata": {
        "colab": {
          "base_uri": "https://localhost:8080/"
        },
        "id": "BvB6zNNmkyGu",
        "outputId": "d57aef02-29f7-498c-da27-2ce36653d1a5"
      },
      "execution_count": 150,
      "outputs": [
        {
          "output_type": "stream",
          "name": "stdout",
          "text": [
            "Random Forest RMSE: 4562.124            weight                age       lab_result_2             height \n",
            "      3.212893e+12       3.141321e+12       2.653310e+12       2.524753e+12 \n",
            "      lab_result_1       lab_result_3   days_in_hospital           year_adm \n",
            "      2.459329e+12       2.247397e+12       1.499274e+12       1.013901e+12 \n",
            "         foreigner              malay          symptom_5                  m \n",
            "      7.974783e+11       6.221604e+11       5.747602e+11       5.011311e+11 \n",
            "           chinese  medical_history_1          symptom_4          symptom_2 \n",
            "      4.837844e+11       4.538010e+11       4.125431e+11       4.011236e+11 \n",
            "         symptom_1 preop_medication_4  medical_history_6          symptom_3 \n",
            "      3.918884e+11       3.832037e+11       3.702312e+11       3.662395e+11 \n",
            "preop_medication_2 preop_medication_5 preop_medication_1 preop_medication_6 \n",
            "      3.654490e+11       3.438376e+11       3.273099e+11       3.122272e+11 \n",
            " medical_history_7 preop_medication_3        singaporean  medical_history_3 \n",
            "      3.033141e+11       2.972646e+11       2.345970e+11       2.327725e+11 \n",
            "            indian                 pr  medical_history_4             others \n",
            "      2.018090e+11       1.843854e+11       1.115882e+11       8.967974e+10 \n"
          ]
        }
      ]
    },
    {
      "cell_type": "markdown",
      "source": [
        "# Random Forest with Important Features\n"
      ],
      "metadata": {
        "id": "8GYxrwm0yyEx"
      }
    },
    {
      "cell_type": "code",
      "source": [
        "# Load necessary libraries\n",
        "library(randomForest)\n",
        "library(dplyr)\n",
        "\n",
        "# Load and preprocess your data (as shown in the previous example)\n",
        "\n",
        "# Split the data into training and testing sets (as shown in the previous example)\n",
        "\n",
        "# Create and train a Random Forest model using all available features\n",
        "model_rf_select=randomForest(total_amount_by_patient ~ age + m+ chinese+foreigner+malay+weight + lab_result_2+lab_result_1+lab_result_3+height+days_in_hospital+year_adm+symptom_5+preop_medication_2+symptom_4, data = train_data)\n",
        "#model_rf <- randomForest(total_amount_by_patient ~ age+gender+medical_history_1+medical_history_3+medical_history_4+medical_history_6+medical_history_7+preop_medication_1+preop_medication_2 +preop_medication_3+preop_medication_4+preop_medication_5+preop_medication_6+symptom_1+symptom_2+symptom_3+symptom_4+symptom_5+lab_result_1+lab_result_2+lab_result_3+weight+year_adm+days_in_hospital+height, data = train_data)\n",
        "\n",
        "# Make predictions\n",
        "predictions_rf <- predict(model_rf_select, newdata = test_data)\n",
        "\n",
        "# Evaluate the model\n",
        "error_rf <- sqrt(mean((test_data$total_amount_by_patient - predictions_rf)^2))\n",
        "cat(\"Random Forest RMSE:\", error_rf)\n",
        "\n",
        "# Variable Importance\n",
        "var_importance <- importance(model_rf)\n",
        "print(var_importance)\n"
      ],
      "metadata": {
        "colab": {
          "base_uri": "https://localhost:8080/"
        },
        "id": "jo_mUS-V0MGn",
        "outputId": "1d8b87cc-7ec1-480d-dbf4-f70c7d28f059"
      },
      "execution_count": 151,
      "outputs": [
        {
          "output_type": "stream",
          "name": "stdout",
          "text": [
            "Random Forest RMSE: 4670.666                   IncNodePurity\n",
            "age                 3.141321e+12\n",
            "singaporean         2.345970e+11\n",
            "pr                  1.843854e+11\n",
            "others              8.967974e+10\n",
            "foreigner           7.974783e+11\n",
            "indian              2.018090e+11\n",
            "malay               6.221604e+11\n",
            "chinese             4.837844e+11\n",
            "m                   5.011311e+11\n",
            "medical_history_1   4.538010e+11\n",
            "medical_history_3   2.327725e+11\n",
            "medical_history_4   1.115882e+11\n",
            "medical_history_6   3.702312e+11\n",
            "medical_history_7   3.033141e+11\n",
            "preop_medication_1  3.273099e+11\n",
            "preop_medication_2  3.654490e+11\n",
            "preop_medication_3  2.972646e+11\n",
            "preop_medication_4  3.832037e+11\n",
            "preop_medication_5  3.438376e+11\n",
            "preop_medication_6  3.122272e+11\n",
            "symptom_1           3.918884e+11\n",
            "symptom_2           4.011236e+11\n",
            "symptom_3           3.662395e+11\n",
            "symptom_4           4.125431e+11\n",
            "symptom_5           5.747602e+11\n",
            "lab_result_1        2.459329e+12\n",
            "lab_result_2        2.653310e+12\n",
            "lab_result_3        2.247397e+12\n",
            "weight              3.212893e+12\n",
            "year_adm            1.013901e+12\n",
            "days_in_hospital    1.499274e+12\n",
            "height              2.524753e+12\n"
          ]
        }
      ]
    },
    {
      "cell_type": "code",
      "source": [
        "# Sort variable importance in descending order\n",
        "sorted_var_importance <- var_importance[order(-var_importance[, 1]), ]\n",
        "\n",
        "# Print the sorted variable importance\n",
        "print(sorted_var_importance)"
      ],
      "metadata": {
        "colab": {
          "base_uri": "https://localhost:8080/"
        },
        "id": "RnlDWybGoLOo",
        "outputId": "f081e75d-2285-4a01-be4b-0a438b7203fe"
      },
      "execution_count": 152,
      "outputs": [
        {
          "output_type": "stream",
          "name": "stdout",
          "text": [
            "            weight                age       lab_result_2             height \n",
            "      3.212893e+12       3.141321e+12       2.653310e+12       2.524753e+12 \n",
            "      lab_result_1       lab_result_3   days_in_hospital           year_adm \n",
            "      2.459329e+12       2.247397e+12       1.499274e+12       1.013901e+12 \n",
            "         foreigner              malay          symptom_5                  m \n",
            "      7.974783e+11       6.221604e+11       5.747602e+11       5.011311e+11 \n",
            "           chinese  medical_history_1          symptom_4          symptom_2 \n",
            "      4.837844e+11       4.538010e+11       4.125431e+11       4.011236e+11 \n",
            "         symptom_1 preop_medication_4  medical_history_6          symptom_3 \n",
            "      3.918884e+11       3.832037e+11       3.702312e+11       3.662395e+11 \n",
            "preop_medication_2 preop_medication_5 preop_medication_1 preop_medication_6 \n",
            "      3.654490e+11       3.438376e+11       3.273099e+11       3.122272e+11 \n",
            " medical_history_7 preop_medication_3        singaporean  medical_history_3 \n",
            "      3.033141e+11       2.972646e+11       2.345970e+11       2.327725e+11 \n",
            "            indian                 pr  medical_history_4             others \n",
            "      2.018090e+11       1.843854e+11       1.115882e+11       8.967974e+10 \n"
          ]
        }
      ]
    },
    {
      "cell_type": "code",
      "source": [
        "# Make predictions for the test data using the trained model\n",
        "test_predictions <- predict(model_rf, newdata = test_data)\n",
        "\n",
        "# For Regression (Total Cost Prediction) - Calculate RMSE (Root Mean Squared Error)\n",
        "rmse <- sqrt(mean((test_data$total_amount_by_patient - test_predictions)^2))\n",
        "cat(\"Root Mean Squared Error (RMSE):\", rmse)"
      ],
      "metadata": {
        "colab": {
          "base_uri": "https://localhost:8080/"
        },
        "id": "sYdKOjiHpHZ5",
        "outputId": "96cf80c6-2158-4255-9523-af6871a9d782"
      },
      "execution_count": 153,
      "outputs": [
        {
          "output_type": "stream",
          "name": "stdout",
          "text": [
            "Root Mean Squared Error (RMSE): 4562.124"
          ]
        }
      ]
    },
    {
      "cell_type": "code",
      "source": [
        "colnames(test_data)"
      ],
      "metadata": {
        "colab": {
          "base_uri": "https://localhost:8080/",
          "height": 86
        },
        "id": "vP1XqTKS4Cvj",
        "outputId": "77c295a4-33f1-4520-8eca-620882c10333"
      },
      "execution_count": 154,
      "outputs": [
        {
          "output_type": "display_data",
          "data": {
            "text/html": [
              "<style>\n",
              ".list-inline {list-style: none; margin:0; padding: 0}\n",
              ".list-inline>li {display: inline-block}\n",
              ".list-inline>li:not(:last-child)::after {content: \"\\00b7\"; padding: 0 .5ex}\n",
              "</style>\n",
              "<ol class=list-inline><li>'patient_id'</li><li>'total_amount'</li><li>'bill_id'</li><li>'date_of_admission.x'</li><li>'amount'</li><li>'gender'</li><li>'race'</li><li>'date_of_birth'</li><li>'date_of_admission.y'</li><li>'date_of_discharge'</li><li>'medical_history_1'</li><li>'medical_history_2'</li><li>'medical_history_3'</li><li>'medical_history_4'</li><li>'medical_history_5'</li><li>'medical_history_6'</li><li>'medical_history_7'</li><li>'preop_medication_1'</li><li>'preop_medication_2'</li><li>'preop_medication_3'</li><li>'preop_medication_4'</li><li>'preop_medication_5'</li><li>'preop_medication_6'</li><li>'symptom_1'</li><li>'symptom_2'</li><li>'symptom_3'</li><li>'symptom_4'</li><li>'symptom_5'</li><li>'lab_result_1'</li><li>'lab_result_2'</li><li>'lab_result_3'</li><li>'weight'</li><li>'height'</li><li>'days_in_hospital'</li><li>'dob'</li><li>'year_birth'</li><li>'year_adm'</li><li>'age'</li><li>'chinese'</li><li>'indian'</li><li>'malay'</li><li>'others'</li><li>'foreigner'</li><li>'pr'</li><li>'singaporean'</li><li>'m'</li><li>'f'</li><li>'total_amount_by_patient'</li></ol>\n"
            ],
            "text/markdown": "1. 'patient_id'\n2. 'total_amount'\n3. 'bill_id'\n4. 'date_of_admission.x'\n5. 'amount'\n6. 'gender'\n7. 'race'\n8. 'date_of_birth'\n9. 'date_of_admission.y'\n10. 'date_of_discharge'\n11. 'medical_history_1'\n12. 'medical_history_2'\n13. 'medical_history_3'\n14. 'medical_history_4'\n15. 'medical_history_5'\n16. 'medical_history_6'\n17. 'medical_history_7'\n18. 'preop_medication_1'\n19. 'preop_medication_2'\n20. 'preop_medication_3'\n21. 'preop_medication_4'\n22. 'preop_medication_5'\n23. 'preop_medication_6'\n24. 'symptom_1'\n25. 'symptom_2'\n26. 'symptom_3'\n27. 'symptom_4'\n28. 'symptom_5'\n29. 'lab_result_1'\n30. 'lab_result_2'\n31. 'lab_result_3'\n32. 'weight'\n33. 'height'\n34. 'days_in_hospital'\n35. 'dob'\n36. 'year_birth'\n37. 'year_adm'\n38. 'age'\n39. 'chinese'\n40. 'indian'\n41. 'malay'\n42. 'others'\n43. 'foreigner'\n44. 'pr'\n45. 'singaporean'\n46. 'm'\n47. 'f'\n48. 'total_amount_by_patient'\n\n\n",
            "text/latex": "\\begin{enumerate*}\n\\item 'patient\\_id'\n\\item 'total\\_amount'\n\\item 'bill\\_id'\n\\item 'date\\_of\\_admission.x'\n\\item 'amount'\n\\item 'gender'\n\\item 'race'\n\\item 'date\\_of\\_birth'\n\\item 'date\\_of\\_admission.y'\n\\item 'date\\_of\\_discharge'\n\\item 'medical\\_history\\_1'\n\\item 'medical\\_history\\_2'\n\\item 'medical\\_history\\_3'\n\\item 'medical\\_history\\_4'\n\\item 'medical\\_history\\_5'\n\\item 'medical\\_history\\_6'\n\\item 'medical\\_history\\_7'\n\\item 'preop\\_medication\\_1'\n\\item 'preop\\_medication\\_2'\n\\item 'preop\\_medication\\_3'\n\\item 'preop\\_medication\\_4'\n\\item 'preop\\_medication\\_5'\n\\item 'preop\\_medication\\_6'\n\\item 'symptom\\_1'\n\\item 'symptom\\_2'\n\\item 'symptom\\_3'\n\\item 'symptom\\_4'\n\\item 'symptom\\_5'\n\\item 'lab\\_result\\_1'\n\\item 'lab\\_result\\_2'\n\\item 'lab\\_result\\_3'\n\\item 'weight'\n\\item 'height'\n\\item 'days\\_in\\_hospital'\n\\item 'dob'\n\\item 'year\\_birth'\n\\item 'year\\_adm'\n\\item 'age'\n\\item 'chinese'\n\\item 'indian'\n\\item 'malay'\n\\item 'others'\n\\item 'foreigner'\n\\item 'pr'\n\\item 'singaporean'\n\\item 'm'\n\\item 'f'\n\\item 'total\\_amount\\_by\\_patient'\n\\end{enumerate*}\n",
            "text/plain": [
              " [1] \"patient_id\"              \"total_amount\"           \n",
              " [3] \"bill_id\"                 \"date_of_admission.x\"    \n",
              " [5] \"amount\"                  \"gender\"                 \n",
              " [7] \"race\"                    \"date_of_birth\"          \n",
              " [9] \"date_of_admission.y\"     \"date_of_discharge\"      \n",
              "[11] \"medical_history_1\"       \"medical_history_2\"      \n",
              "[13] \"medical_history_3\"       \"medical_history_4\"      \n",
              "[15] \"medical_history_5\"       \"medical_history_6\"      \n",
              "[17] \"medical_history_7\"       \"preop_medication_1\"     \n",
              "[19] \"preop_medication_2\"      \"preop_medication_3\"     \n",
              "[21] \"preop_medication_4\"      \"preop_medication_5\"     \n",
              "[23] \"preop_medication_6\"      \"symptom_1\"              \n",
              "[25] \"symptom_2\"               \"symptom_3\"              \n",
              "[27] \"symptom_4\"               \"symptom_5\"              \n",
              "[29] \"lab_result_1\"            \"lab_result_2\"           \n",
              "[31] \"lab_result_3\"            \"weight\"                 \n",
              "[33] \"height\"                  \"days_in_hospital\"       \n",
              "[35] \"dob\"                     \"year_birth\"             \n",
              "[37] \"year_adm\"                \"age\"                    \n",
              "[39] \"chinese\"                 \"indian\"                 \n",
              "[41] \"malay\"                   \"others\"                 \n",
              "[43] \"foreigner\"               \"pr\"                     \n",
              "[45] \"singaporean\"             \"m\"                      \n",
              "[47] \"f\"                       \"total_amount_by_patient\""
            ]
          },
          "metadata": {}
        }
      ]
    },
    {
      "cell_type": "code",
      "source": [
        "# Create a new data frame with the same column names and structure as your training data\n",
        "new_data <- data.frame(\n",
        "  patient_id = '10a01',\n",
        "total_amount = 00,\n",
        "bill_id = 129873,\n",
        "date_of_admission.x='2011-04-09',\n",
        "amount = 00,\n",
        "gender = 0,\n",
        "race = 'Indian',\n",
        "resident_status=\"India\",\n",
        "date_of_birth = '1986-04-09',\n",
        "date_of_admission.y ='2011-04-09',\n",
        "date_of_discharge = '2011-04-09',\n",
        "medical_history_1 = 1,\n",
        "medical_history_2= 1,\n",
        "medical_history_3= 1,\n",
        "medical_history_4 =0,\n",
        "medical_history_5=0,\n",
        "medical_history_6=1,\n",
        "medical_history_7 =1,\n",
        "preop_medication_1 = 1,\n",
        "preop_medication_2 =1,\n",
        "preop_medication_3 =0,\n",
        "preop_medication_4 =1,\n",
        "preop_medication_5=0,\n",
        "preop_medication_6=0,\n",
        "symptom_1=1,\n",
        "symptom_2=1,\n",
        "symptom_3=0,\n",
        "symptom_4=1,\n",
        "symptom_5=0,\n",
        "lab_result_1=19.8,\n",
        "lab_result_2=38.9,\n",
        "lab_result_3 = 90,\n",
        "weight=90,\n",
        "height=176,\n",
        "days_in_hospital =12,\n",
        "dob = '1986-04-09',\n",
        "year_birth=1986,\n",
        "year_adm = 2011,\n",
        "age =50,\n",
        "total_amount_by_patient=00,\n",
        "singaporean=00,\n",
        "foreigner=00,\n",
        "malay=01,\n",
        "pr=0,\n",
        "m=1,\n",
        "others=0,\n",
        "indian=0,\n",
        "chinese=1\n",
        ")\n",
        "#total_amount_by_patient ~ age + m+ chinese+foreigner+malay+weight + lab_result_2+lab_result_1+lab_result_3+height+days_in_hospital+year_adm+symptom_5+preop_medication_2+symptom_4, data = train_data"
      ],
      "metadata": {
        "id": "s8S-NFDZ3w8F"
      },
      "execution_count": 167,
      "outputs": []
    },
    {
      "cell_type": "code",
      "source": [
        "# Predict using the trained Random Forest model\n",
        "new_predictions_rf <- predict(model_rf, newdata = new_data)\n",
        "\n",
        "# Display the predicted treatment cost\n",
        "print(new_predictions_rf)"
      ],
      "metadata": {
        "colab": {
          "base_uri": "https://localhost:8080/"
        },
        "id": "Haczig-43xAe",
        "outputId": "dde2caad-d5db-4c07-d26c-0cede4e43893"
      },
      "execution_count": 168,
      "outputs": [
        {
          "output_type": "stream",
          "name": "stdout",
          "text": [
            "       1 \n",
            "57748.82 \n"
          ]
        }
      ]
    },
    {
      "cell_type": "markdown",
      "source": [
        "#Linear Regression VS Random Forest"
      ],
      "metadata": {
        "id": "QjNtL45yyRQH"
      }
    },
    {
      "cell_type": "code",
      "source": [
        "# Load required libraries\n",
        "library(randomForest)\n",
        "\n",
        "# Linear Regression Model\n",
        "lm_model <- lm(total_amount_by_patient ~ age + m+ chinese+foreigner+malay+weight + lab_result_2+lab_result_1+lab_result_3+height+days_in_hospital+year_adm+symptom_5+preop_medication_2+symptom_4, data = train_data)\n",
        "\n",
        "# Predict using Linear Regression\n",
        "predictions_lm <- predict(lm_model, newdata = test_data)\n",
        "\n",
        "# Calculate RMSE for Linear Regression\n",
        "rmse_lm <- sqrt(mean((predictions_lm - test_data$total_amount_by_patient)^2))\n",
        "\n",
        "# Random Forest Model\n",
        "rf_model <- randomForest(total_amount_by_patient ~ age + m+ chinese+foreigner+malay+weight + lab_result_2+lab_result_1+lab_result_3+height+days_in_hospital+year_adm+symptom_5+preop_medication_2+symptom_4, data = train_data, ntree = 100)\n",
        "\n",
        "# Predict using Random Forest\n",
        "predictions_rf <- predict(rf_model, newdata = test_data)\n",
        "\n",
        "# Calculate RMSE for Random Forest\n",
        "rmse_rf <- sqrt(mean((predictions_rf - test_data$total_amount_by_patient)^2))\n",
        "\n",
        "# Variable Importance for Random Forest\n",
        "var_importance_rf <- importance(rf_model)\n",
        "\n",
        "# Print results\n",
        "cat(\"Linear Regression Model:\\n\")\n",
        "cat(\"RMSE:\", rmse_lm, \"\\n\")\n",
        "\n",
        "cat(\"\\nRandom Forest Model:\\n\")\n",
        "cat(\"RMSE:\", rmse_rf, \"\\n\")\n",
        "\n",
        "\n",
        "\n",
        "# Sort Variable Importance for Random Forest\n",
        "sorted_var_importance_rf <- var_importance_rf[order(var_importance_rf[, 1], decreasing = TRUE), ]\n",
        "\n",
        "# Display Variable Importance as a Table\n",
        "cat(\"Variable Importance (Random Forest):\\n\")\n",
        "print(sorted_var_importance_rf)\n",
        "\n"
      ],
      "metadata": {
        "colab": {
          "base_uri": "https://localhost:8080/"
        },
        "id": "5azwC1GWiPpN",
        "outputId": "2fe80342-5644-4017-ccc5-af4a2f71ac7b"
      },
      "execution_count": 169,
      "outputs": [
        {
          "output_type": "stream",
          "name": "stdout",
          "text": [
            "Linear Regression Model:\n",
            "RMSE: 46485.02 \n",
            "\n",
            "Random Forest Model:\n",
            "RMSE: 4875.195 \n",
            "Variable Importance (Random Forest):\n",
            "            weight                age       lab_result_2             height \n",
            "      4.028754e+12       3.764697e+12       3.260287e+12       3.102436e+12 \n",
            "      lab_result_1       lab_result_3   days_in_hospital           year_adm \n",
            "      3.048846e+12       2.782015e+12       1.912893e+12       1.259292e+12 \n",
            "         foreigner              malay          symptom_5                  m \n",
            "      9.202235e+11       6.757611e+11       6.201058e+11       5.877388e+11 \n",
            "           chinese          symptom_4 preop_medication_2 \n",
            "      5.522846e+11       5.019441e+11       4.677962e+11 \n"
          ]
        }
      ]
    },
    {
      "cell_type": "code",
      "source": [
        "install.packages(\"xgboost\")\n",
        "library(xgboost)\n"
      ],
      "metadata": {
        "colab": {
          "base_uri": "https://localhost:8080/"
        },
        "id": "47MlAt7H178V",
        "outputId": "f604c61f-3d98-44ff-cc17-d26541110675"
      },
      "execution_count": 171,
      "outputs": [
        {
          "output_type": "stream",
          "name": "stderr",
          "text": [
            "Installing package into ‘/usr/local/lib/R/site-library’\n",
            "(as ‘lib’ is unspecified)\n",
            "\n",
            "\n",
            "Attaching package: ‘xgboost’\n",
            "\n",
            "\n",
            "The following object is masked from ‘package:dplyr’:\n",
            "\n",
            "    slice\n",
            "\n",
            "\n"
          ]
        }
      ]
    },
    {
      "cell_type": "code",
      "source": [],
      "metadata": {
        "id": "eEUu2fte18IB"
      },
      "execution_count": null,
      "outputs": []
    },
    {
      "cell_type": "code",
      "source": [],
      "metadata": {
        "id": "HUSYW5Kt18LF"
      },
      "execution_count": null,
      "outputs": []
    }
  ]
}
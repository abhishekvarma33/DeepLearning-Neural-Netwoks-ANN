{
 "cells": [
  {
   "cell_type": "code",
   "execution_count": 1,
   "metadata": {},
   "outputs": [],
   "source": [
    "# importing the libraries\n",
    "import numpy as np\n",
    "import pandas as pd\n",
    "import matplotlib.pyplot as plt\n"
   ]
  },
  {
   "cell_type": "code",
   "execution_count": 2,
   "metadata": {},
   "outputs": [],
   "source": [
    "dataset = pd.read_csv('sonar.csv', header = None)"
   ]
  },
  {
   "cell_type": "code",
   "execution_count": 3,
   "metadata": {},
   "outputs": [],
   "source": [
    "X = dataset.iloc[:, 0:60].values\n",
    "y = dataset.iloc[:, 60].values\n",
    "\n",
    "# Feature Encoding\n",
    "from sklearn.preprocessing import LabelEncoder, OneHotEncoder\n",
    "encoder = LabelEncoder()\n",
    "y = encoder.fit_transform(y)"
   ]
  },
  {
   "cell_type": "code",
   "execution_count": 4,
   "metadata": {},
   "outputs": [
    {
     "data": {
      "text/plain": [
       "array([1, 1, 1, 1, 1, 1, 1, 1, 1, 1, 1, 1, 1, 1, 1, 1, 1, 1, 1, 1, 1, 1,\n",
       "       1, 1, 1, 1, 1, 1, 1, 1, 1, 1, 1, 1, 1, 1, 1, 1, 1, 1, 1, 1, 1, 1,\n",
       "       1, 1, 1, 1, 1, 1, 1, 1, 1, 1, 1, 1, 1, 1, 1, 1, 1, 1, 1, 1, 1, 1,\n",
       "       1, 1, 1, 1, 1, 1, 1, 1, 1, 1, 1, 1, 1, 1, 1, 1, 1, 1, 1, 1, 1, 1,\n",
       "       1, 1, 1, 1, 1, 1, 1, 1, 1, 0, 0, 0, 0, 0, 0, 0, 0, 0, 0, 0, 0, 0,\n",
       "       0, 0, 0, 0, 0, 0, 0, 0, 0, 0, 0, 0, 0, 0, 0, 0, 0, 0, 0, 0, 0, 0,\n",
       "       0, 0, 0, 0, 0, 0, 0, 0, 0, 0, 0, 0, 0, 0, 0, 0, 0, 0, 0, 0, 0, 0,\n",
       "       0, 0, 0, 0, 0, 0, 0, 0, 0, 0, 0, 0, 0, 0, 0, 0, 0, 0, 0, 0, 0, 0,\n",
       "       0, 0, 0, 0, 0, 0, 0, 0, 0, 0, 0, 0, 0, 0, 0, 0, 0, 0, 0, 0, 0, 0,\n",
       "       0, 0, 0, 0, 0, 0, 0, 0, 0, 0])"
      ]
     },
     "execution_count": 4,
     "metadata": {},
     "output_type": "execute_result"
    }
   ],
   "source": [
    "y"
   ]
  },
  {
   "cell_type": "code",
   "execution_count": 5,
   "metadata": {},
   "outputs": [],
   "source": [
    "# Splitting into training and test sets\n",
    "from sklearn.model_selection import train_test_split\n",
    "X_train, X_test, y_train, y_test = train_test_split(X, y, test_size = 0.25, random_state = 0)\n"
   ]
  },
  {
   "cell_type": "code",
   "execution_count": 6,
   "metadata": {},
   "outputs": [],
   "source": [
    "# Feature Scaling\n",
    "from sklearn.preprocessing import StandardScaler\n",
    "sc = StandardScaler()\n",
    "X_train = sc.fit_transform(X_train)\n",
    "X_test = sc.transform(X_test)"
   ]
  },
  {
   "cell_type": "code",
   "execution_count": 7,
   "metadata": {},
   "outputs": [
    {
     "data": {
      "text/plain": [
       "array([[ 0.55755787, -0.29891405,  0.41515573, ..., -0.4267949 ,\n",
       "         0.10009367, -0.35347414],\n",
       "       [-1.04478083, -1.10841889, -0.44302384, ..., -0.22144732,\n",
       "        -0.97786942, -0.66857108],\n",
       "       [-0.27690106,  0.006207  ,  0.10682774, ...,  0.25243171,\n",
       "        -0.31206869, -0.78673244],\n",
       "       ...,\n",
       "       [-0.25470801, -0.83131916, -0.80273983, ..., -0.50577473,\n",
       "        -0.24865909, -0.45194193],\n",
       "       [ 0.38889064, -0.28646013, -0.54066104, ..., -0.36361102,\n",
       "         0.10009367, -0.03837719],\n",
       "       [-0.46776135,  0.22103713,  0.08627254, ..., -0.4267949 ,\n",
       "        -0.09013511, -0.78673244]])"
      ]
     },
     "execution_count": 7,
     "metadata": {},
     "output_type": "execute_result"
    }
   ],
   "source": [
    "X_train"
   ]
  },
  {
   "cell_type": "code",
   "execution_count": 8,
   "metadata": {},
   "outputs": [
    {
     "name": "stderr",
     "output_type": "stream",
     "text": [
      "Using TensorFlow backend.\n"
     ]
    }
   ],
   "source": [
    "# Building an ANN\n",
    "# Importing Keras Libraries and packages\n",
    "import keras \n",
    "from keras.models import Sequential\n",
    "from keras.layers import Dense\n",
    "from keras.layers import Dropout"
   ]
  },
  {
   "cell_type": "code",
   "execution_count": 9,
   "metadata": {},
   "outputs": [],
   "source": [
    "# Initialize the ANN\n",
    "classifier = Sequential()\n",
    "\n",
    "# Build the input and hidden layers with dropout\n",
    "classifier.add(Dense(units = 32, activation = 'relu', kernel_initializer = 'uniform', input_dim = 60))\n",
    "classifier.add(Dropout(rate = 0.1))\n",
    "\n",
    "# Adding the second hidden layer\n",
    "classifier.add(Dense(units = 32, activation = 'relu', kernel_initializer = 'uniform'))\n",
    "classifier.add(Dropout(rate = 0.1))\n",
    "\n",
    "# Adding an output layer\n",
    "classifier.add(Dense(units = 1, kernel_initializer = 'uniform', activation = 'sigmoid'))\n",
    "\n",
    "# Compiling the ANN\n",
    "classifier.compile(optimizer = 'adam', loss = 'binary_crossentropy', metrics = ['accuracy'])\n"
   ]
  },
  {
   "cell_type": "code",
   "execution_count": 10,
   "metadata": {},
   "outputs": [
    {
     "name": "stdout",
     "output_type": "stream",
     "text": [
      "Train on 104 samples, validate on 52 samples\n",
      "Epoch 1/100\n",
      "104/104 [==============================] - 0s 4ms/step - loss: 0.6928 - acc: 0.5000 - val_loss: 0.6917 - val_acc: 0.5385\n",
      "Epoch 2/100\n",
      "104/104 [==============================] - 0s 150us/step - loss: 0.6900 - acc: 0.5577 - val_loss: 0.6883 - val_acc: 0.5385\n",
      "Epoch 3/100\n",
      "104/104 [==============================] - 0s 451us/step - loss: 0.6850 - acc: 0.5673 - val_loss: 0.6787 - val_acc: 0.5769\n",
      "Epoch 4/100\n",
      "104/104 [==============================] - 0s 300us/step - loss: 0.6677 - acc: 0.6731 - val_loss: 0.6570 - val_acc: 0.6923\n",
      "Epoch 5/100\n",
      "104/104 [==============================] - 0s 300us/step - loss: 0.6347 - acc: 0.7404 - val_loss: 0.6173 - val_acc: 0.6923\n",
      "Epoch 6/100\n",
      "104/104 [==============================] - 0s 300us/step - loss: 0.5844 - acc: 0.7692 - val_loss: 0.5662 - val_acc: 0.7115\n",
      "Epoch 7/100\n",
      "104/104 [==============================] - 0s 300us/step - loss: 0.5178 - acc: 0.8173 - val_loss: 0.5189 - val_acc: 0.7500\n",
      "Epoch 8/100\n",
      "104/104 [==============================] - 0s 300us/step - loss: 0.4515 - acc: 0.8173 - val_loss: 0.4821 - val_acc: 0.7692\n",
      "Epoch 9/100\n",
      "104/104 [==============================] - 0s 300us/step - loss: 0.3846 - acc: 0.8462 - val_loss: 0.4454 - val_acc: 0.7885\n",
      "Epoch 10/100\n",
      "104/104 [==============================] - 0s 451us/step - loss: 0.3379 - acc: 0.8558 - val_loss: 0.4122 - val_acc: 0.7885\n",
      "Epoch 11/100\n",
      "104/104 [==============================] - 0s 451us/step - loss: 0.2844 - acc: 0.9135 - val_loss: 0.3881 - val_acc: 0.7885\n",
      "Epoch 12/100\n",
      "104/104 [==============================] - 0s 451us/step - loss: 0.2528 - acc: 0.9135 - val_loss: 0.3683 - val_acc: 0.8077\n",
      "Epoch 13/100\n",
      "104/104 [==============================] - 0s 300us/step - loss: 0.2176 - acc: 0.9423 - val_loss: 0.3657 - val_acc: 0.7885\n",
      "Epoch 14/100\n",
      "104/104 [==============================] - 0s 300us/step - loss: 0.1812 - acc: 0.9712 - val_loss: 0.3601 - val_acc: 0.7885\n",
      "Epoch 15/100\n",
      "104/104 [==============================] - 0s 300us/step - loss: 0.1608 - acc: 0.9615 - val_loss: 0.3570 - val_acc: 0.7885\n",
      "Epoch 16/100\n",
      "104/104 [==============================] - 0s 300us/step - loss: 0.1451 - acc: 0.9808 - val_loss: 0.3572 - val_acc: 0.7885\n",
      "Epoch 17/100\n",
      "104/104 [==============================] - 0s 150us/step - loss: 0.1367 - acc: 0.9808 - val_loss: 0.3565 - val_acc: 0.8077\n",
      "Epoch 18/100\n",
      "104/104 [==============================] - 0s 300us/step - loss: 0.1127 - acc: 0.9808 - val_loss: 0.3592 - val_acc: 0.8077\n",
      "Epoch 19/100\n",
      "104/104 [==============================] - 0s 300us/step - loss: 0.1139 - acc: 0.9712 - val_loss: 0.3680 - val_acc: 0.8077\n",
      "Epoch 20/100\n",
      "104/104 [==============================] - 0s 150us/step - loss: 0.0944 - acc: 0.9904 - val_loss: 0.3775 - val_acc: 0.8269\n",
      "Epoch 21/100\n",
      "104/104 [==============================] - 0s 300us/step - loss: 0.0909 - acc: 0.9808 - val_loss: 0.3816 - val_acc: 0.8077\n",
      "Epoch 22/100\n",
      "104/104 [==============================] - 0s 150us/step - loss: 0.0770 - acc: 1.0000 - val_loss: 0.3948 - val_acc: 0.8269\n",
      "Epoch 23/100\n",
      "104/104 [==============================] - 0s 300us/step - loss: 0.0738 - acc: 0.9904 - val_loss: 0.4105 - val_acc: 0.8269\n",
      "Epoch 24/100\n",
      "104/104 [==============================] - 0s 150us/step - loss: 0.0577 - acc: 1.0000 - val_loss: 0.4149 - val_acc: 0.8269\n",
      "Epoch 25/100\n",
      "104/104 [==============================] - 0s 300us/step - loss: 0.0516 - acc: 1.0000 - val_loss: 0.4085 - val_acc: 0.8269\n",
      "Epoch 26/100\n",
      "104/104 [==============================] - 0s 150us/step - loss: 0.0574 - acc: 0.9904 - val_loss: 0.4146 - val_acc: 0.8269\n",
      "Epoch 27/100\n",
      "104/104 [==============================] - 0s 300us/step - loss: 0.0426 - acc: 1.0000 - val_loss: 0.4300 - val_acc: 0.8269\n",
      "Epoch 28/100\n",
      "104/104 [==============================] - 0s 150us/step - loss: 0.0414 - acc: 1.0000 - val_loss: 0.4442 - val_acc: 0.8269\n",
      "Epoch 29/100\n",
      "104/104 [==============================] - 0s 300us/step - loss: 0.0391 - acc: 1.0000 - val_loss: 0.4548 - val_acc: 0.8269\n",
      "Epoch 30/100\n",
      "104/104 [==============================] - 0s 300us/step - loss: 0.0292 - acc: 1.0000 - val_loss: 0.4772 - val_acc: 0.8269\n",
      "Epoch 31/100\n",
      "104/104 [==============================] - 0s 150us/step - loss: 0.0295 - acc: 1.0000 - val_loss: 0.4964 - val_acc: 0.8269\n",
      "Epoch 32/100\n",
      "104/104 [==============================] - 0s 150us/step - loss: 0.0213 - acc: 1.0000 - val_loss: 0.5107 - val_acc: 0.8269\n",
      "Epoch 33/100\n",
      "104/104 [==============================] - 0s 150us/step - loss: 0.0239 - acc: 1.0000 - val_loss: 0.5188 - val_acc: 0.8269\n",
      "Epoch 34/100\n",
      "104/104 [==============================] - 0s 300us/step - loss: 0.0225 - acc: 1.0000 - val_loss: 0.5153 - val_acc: 0.8269\n",
      "Epoch 35/100\n",
      "104/104 [==============================] - 0s 300us/step - loss: 0.0238 - acc: 1.0000 - val_loss: 0.5179 - val_acc: 0.8269\n",
      "Epoch 36/100\n",
      "104/104 [==============================] - 0s 150us/step - loss: 0.0151 - acc: 1.0000 - val_loss: 0.5343 - val_acc: 0.8269\n",
      "Epoch 37/100\n",
      "104/104 [==============================] - 0s 150us/step - loss: 0.0148 - acc: 1.0000 - val_loss: 0.5518 - val_acc: 0.8269\n",
      "Epoch 38/100\n",
      "104/104 [==============================] - 0s 300us/step - loss: 0.0137 - acc: 1.0000 - val_loss: 0.5612 - val_acc: 0.8269\n",
      "Epoch 39/100\n",
      "104/104 [==============================] - 0s 150us/step - loss: 0.0113 - acc: 1.0000 - val_loss: 0.5643 - val_acc: 0.8269\n",
      "Epoch 40/100\n",
      "104/104 [==============================] - 0s 300us/step - loss: 0.0108 - acc: 1.0000 - val_loss: 0.5698 - val_acc: 0.8269\n",
      "Epoch 41/100\n",
      "104/104 [==============================] - 0s 150us/step - loss: 0.0181 - acc: 1.0000 - val_loss: 0.5662 - val_acc: 0.8269\n",
      "Epoch 42/100\n",
      "104/104 [==============================] - 0s 150us/step - loss: 0.0109 - acc: 1.0000 - val_loss: 0.5608 - val_acc: 0.8269\n",
      "Epoch 43/100\n",
      "104/104 [==============================] - 0s 150us/step - loss: 0.0071 - acc: 1.0000 - val_loss: 0.5656 - val_acc: 0.8269\n",
      "Epoch 44/100\n",
      "104/104 [==============================] - 0s 150us/step - loss: 0.0151 - acc: 0.9904 - val_loss: 0.5800 - val_acc: 0.8269\n",
      "Epoch 45/100\n",
      "104/104 [==============================] - 0s 300us/step - loss: 0.0158 - acc: 1.0000 - val_loss: 0.5915 - val_acc: 0.8269\n",
      "Epoch 46/100\n",
      "104/104 [==============================] - 0s 150us/step - loss: 0.0088 - acc: 1.0000 - val_loss: 0.6081 - val_acc: 0.8269\n",
      "Epoch 47/100\n",
      "104/104 [==============================] - 0s 150us/step - loss: 0.0080 - acc: 1.0000 - val_loss: 0.6216 - val_acc: 0.8269\n",
      "Epoch 48/100\n",
      "104/104 [==============================] - 0s 150us/step - loss: 0.0063 - acc: 1.0000 - val_loss: 0.6244 - val_acc: 0.8269\n",
      "Epoch 49/100\n",
      "104/104 [==============================] - 0s 300us/step - loss: 0.0062 - acc: 1.0000 - val_loss: 0.6275 - val_acc: 0.8269\n",
      "Epoch 50/100\n",
      "104/104 [==============================] - 0s 300us/step - loss: 0.0077 - acc: 1.0000 - val_loss: 0.6242 - val_acc: 0.8269\n",
      "Epoch 51/100\n",
      "104/104 [==============================] - 0s 150us/step - loss: 0.0080 - acc: 1.0000 - val_loss: 0.6297 - val_acc: 0.8269\n",
      "Epoch 52/100\n",
      "104/104 [==============================] - 0s 300us/step - loss: 0.0112 - acc: 1.0000 - val_loss: 0.6487 - val_acc: 0.8269\n",
      "Epoch 53/100\n",
      "104/104 [==============================] - 0s 150us/step - loss: 0.0047 - acc: 1.0000 - val_loss: 0.6626 - val_acc: 0.8269\n",
      "Epoch 54/100\n",
      "104/104 [==============================] - 0s 150us/step - loss: 0.0054 - acc: 1.0000 - val_loss: 0.6686 - val_acc: 0.8269\n",
      "Epoch 55/100\n",
      "104/104 [==============================] - 0s 150us/step - loss: 0.0058 - acc: 1.0000 - val_loss: 0.6691 - val_acc: 0.8269\n",
      "Epoch 56/100\n",
      "104/104 [==============================] - 0s 300us/step - loss: 0.0041 - acc: 1.0000 - val_loss: 0.6823 - val_acc: 0.8269\n",
      "Epoch 57/100\n",
      "104/104 [==============================] - 0s 150us/step - loss: 0.0074 - acc: 1.0000 - val_loss: 0.6823 - val_acc: 0.8269\n",
      "Epoch 58/100\n",
      "104/104 [==============================] - 0s 451us/step - loss: 0.0045 - acc: 1.0000 - val_loss: 0.6837 - val_acc: 0.8269\n",
      "Epoch 59/100\n",
      "104/104 [==============================] - 0s 300us/step - loss: 0.0065 - acc: 1.0000 - val_loss: 0.6844 - val_acc: 0.8269\n",
      "Epoch 60/100\n",
      "104/104 [==============================] - 0s 300us/step - loss: 0.0039 - acc: 1.0000 - val_loss: 0.6874 - val_acc: 0.8269\n"
     ]
    },
    {
     "name": "stdout",
     "output_type": "stream",
     "text": [
      "Epoch 61/100\n",
      "104/104 [==============================] - 0s 150us/step - loss: 0.0040 - acc: 1.0000 - val_loss: 0.6953 - val_acc: 0.8269\n",
      "Epoch 62/100\n",
      "104/104 [==============================] - 0s 150us/step - loss: 0.0057 - acc: 1.0000 - val_loss: 0.7112 - val_acc: 0.8269\n",
      "Epoch 63/100\n",
      "104/104 [==============================] - 0s 300us/step - loss: 0.0063 - acc: 1.0000 - val_loss: 0.7191 - val_acc: 0.8269\n",
      "Epoch 64/100\n",
      "104/104 [==============================] - 0s 150us/step - loss: 0.0052 - acc: 1.0000 - val_loss: 0.7211 - val_acc: 0.8269\n",
      "Epoch 65/100\n",
      "104/104 [==============================] - 0s 300us/step - loss: 0.0032 - acc: 1.0000 - val_loss: 0.7262 - val_acc: 0.8269\n",
      "Epoch 66/100\n",
      "104/104 [==============================] - 0s 300us/step - loss: 0.0016 - acc: 1.0000 - val_loss: 0.7305 - val_acc: 0.8269\n",
      "Epoch 67/100\n",
      "104/104 [==============================] - 0s 150us/step - loss: 0.0023 - acc: 1.0000 - val_loss: 0.7344 - val_acc: 0.8269\n",
      "Epoch 68/100\n",
      "104/104 [==============================] - 0s 300us/step - loss: 0.0024 - acc: 1.0000 - val_loss: 0.7365 - val_acc: 0.8269\n",
      "Epoch 69/100\n",
      "104/104 [==============================] - 0s 150us/step - loss: 0.0039 - acc: 1.0000 - val_loss: 0.7397 - val_acc: 0.8269\n",
      "Epoch 70/100\n",
      "104/104 [==============================] - 0s 300us/step - loss: 0.0023 - acc: 1.0000 - val_loss: 0.7455 - val_acc: 0.8269\n",
      "Epoch 71/100\n",
      "104/104 [==============================] - 0s 150us/step - loss: 0.0013 - acc: 1.0000 - val_loss: 0.7506 - val_acc: 0.8269\n",
      "Epoch 72/100\n",
      "104/104 [==============================] - 0s 300us/step - loss: 0.0019 - acc: 1.0000 - val_loss: 0.7575 - val_acc: 0.8269\n",
      "Epoch 73/100\n",
      "104/104 [==============================] - 0s 150us/step - loss: 0.0025 - acc: 1.0000 - val_loss: 0.7597 - val_acc: 0.8269\n",
      "Epoch 74/100\n",
      "104/104 [==============================] - 0s 300us/step - loss: 0.0020 - acc: 1.0000 - val_loss: 0.7598 - val_acc: 0.8269\n",
      "Epoch 75/100\n",
      "104/104 [==============================] - 0s 150us/step - loss: 0.0012 - acc: 1.0000 - val_loss: 0.7623 - val_acc: 0.8269\n",
      "Epoch 76/100\n",
      "104/104 [==============================] - 0s 300us/step - loss: 0.0025 - acc: 1.0000 - val_loss: 0.7640 - val_acc: 0.8269\n",
      "Epoch 77/100\n",
      "104/104 [==============================] - 0s 150us/step - loss: 0.0010 - acc: 1.0000 - val_loss: 0.7650 - val_acc: 0.8269\n",
      "Epoch 78/100\n",
      "104/104 [==============================] - 0s 150us/step - loss: 0.0013 - acc: 1.0000 - val_loss: 0.7659 - val_acc: 0.8269\n",
      "Epoch 79/100\n",
      "104/104 [==============================] - 0s 300us/step - loss: 8.8511e-04 - acc: 1.0000 - val_loss: 0.7661 - val_acc: 0.8269\n",
      "Epoch 80/100\n",
      "104/104 [==============================] - 0s 150us/step - loss: 0.0011 - acc: 1.0000 - val_loss: 0.7684 - val_acc: 0.8269\n",
      "Epoch 81/100\n",
      "104/104 [==============================] - 0s 150us/step - loss: 0.0019 - acc: 1.0000 - val_loss: 0.7717 - val_acc: 0.8269\n",
      "Epoch 82/100\n",
      "104/104 [==============================] - 0s 150us/step - loss: 0.0014 - acc: 1.0000 - val_loss: 0.7731 - val_acc: 0.8269\n",
      "Epoch 83/100\n",
      "104/104 [==============================] - 0s 151us/step - loss: 0.0024 - acc: 1.0000 - val_loss: 0.7754 - val_acc: 0.8269\n",
      "Epoch 84/100\n",
      "104/104 [==============================] - 0s 300us/step - loss: 0.0020 - acc: 1.0000 - val_loss: 0.7881 - val_acc: 0.8269\n",
      "Epoch 85/100\n",
      "104/104 [==============================] - 0s 150us/step - loss: 0.0017 - acc: 1.0000 - val_loss: 0.8000 - val_acc: 0.8269\n",
      "Epoch 86/100\n",
      "104/104 [==============================] - 0s 300us/step - loss: 0.0011 - acc: 1.0000 - val_loss: 0.8065 - val_acc: 0.8269\n",
      "Epoch 87/100\n",
      "104/104 [==============================] - 0s 300us/step - loss: 9.8060e-04 - acc: 1.0000 - val_loss: 0.8081 - val_acc: 0.8269\n",
      "Epoch 88/100\n",
      "104/104 [==============================] - 0s 150us/step - loss: 0.0017 - acc: 1.0000 - val_loss: 0.8063 - val_acc: 0.8269\n",
      "Epoch 89/100\n",
      "104/104 [==============================] - 0s 300us/step - loss: 0.0013 - acc: 1.0000 - val_loss: 0.8057 - val_acc: 0.8269\n",
      "Epoch 90/100\n",
      "104/104 [==============================] - 0s 150us/step - loss: 0.0017 - acc: 1.0000 - val_loss: 0.8085 - val_acc: 0.8269\n",
      "Epoch 91/100\n",
      "104/104 [==============================] - 0s 150us/step - loss: 0.0019 - acc: 1.0000 - val_loss: 0.8097 - val_acc: 0.8269\n",
      "Epoch 92/100\n",
      "104/104 [==============================] - 0s 150us/step - loss: 8.0952e-04 - acc: 1.0000 - val_loss: 0.8126 - val_acc: 0.8269\n",
      "Epoch 93/100\n",
      "104/104 [==============================] - 0s 300us/step - loss: 0.0081 - acc: 1.0000 - val_loss: 0.8309 - val_acc: 0.8269\n",
      "Epoch 94/100\n",
      "104/104 [==============================] - 0s 150us/step - loss: 0.0066 - acc: 1.0000 - val_loss: 0.8668 - val_acc: 0.8269\n",
      "Epoch 95/100\n",
      "104/104 [==============================] - 0s 150us/step - loss: 9.1151e-04 - acc: 1.0000 - val_loss: 0.8963 - val_acc: 0.8269\n",
      "Epoch 96/100\n",
      "104/104 [==============================] - 0s 300us/step - loss: 0.0018 - acc: 1.0000 - val_loss: 0.9027 - val_acc: 0.8269\n",
      "Epoch 97/100\n",
      "104/104 [==============================] - 0s 300us/step - loss: 9.1318e-04 - acc: 1.0000 - val_loss: 0.9082 - val_acc: 0.8269\n",
      "Epoch 98/100\n",
      "104/104 [==============================] - 0s 150us/step - loss: 8.0466e-04 - acc: 1.0000 - val_loss: 0.9154 - val_acc: 0.8269\n",
      "Epoch 99/100\n",
      "104/104 [==============================] - 0s 300us/step - loss: 0.0010 - acc: 1.0000 - val_loss: 0.9161 - val_acc: 0.8269\n",
      "Epoch 100/100\n",
      "104/104 [==============================] - 0s 150us/step - loss: 6.2194e-04 - acc: 1.0000 - val_loss: 0.9130 - val_acc: 0.8269\n"
     ]
    }
   ],
   "source": [
    "# Fitting ANN to training set\n",
    "history = classifier.fit(X_train, y_train, validation_split = 0.33, batch_size = 10, epochs = 100)\n"
   ]
  },
  {
   "cell_type": "code",
   "execution_count": 11,
   "metadata": {},
   "outputs": [],
   "source": [
    "# Predicting on test set\n",
    "y_pred = classifier.predict(X_test) > 0.5\n"
   ]
  },
  {
   "cell_type": "code",
   "execution_count": 12,
   "metadata": {},
   "outputs": [],
   "source": [
    "# Evaluating using confusion matrix\n",
    "from sklearn.metrics import confusion_matrix\n",
    "cm = confusion_matrix(y_test, y_pred)\n"
   ]
  },
  {
   "cell_type": "code",
   "execution_count": 13,
   "metadata": {},
   "outputs": [
    {
     "data": {
      "text/plain": [
       "array([[25,  1],\n",
       "       [ 9, 17]], dtype=int64)"
      ]
     },
     "execution_count": 13,
     "metadata": {},
     "output_type": "execute_result"
    }
   ],
   "source": [
    "cm"
   ]
  },
  {
   "cell_type": "code",
   "execution_count": 14,
   "metadata": {},
   "outputs": [
    {
     "name": "stdout",
     "output_type": "stream",
     "text": [
      "dict_keys(['val_loss', 'val_acc', 'loss', 'acc'])\n"
     ]
    }
   ],
   "source": [
    "# Listing all the data in training history\n",
    "print(history.history.keys())\n"
   ]
  },
  {
   "cell_type": "code",
   "execution_count": 15,
   "metadata": {},
   "outputs": [
    {
     "data": {
      "image/png": "[encoded data removed]",
      "text/plain": [
       "<Figure size 432x288 with 1 Axes>"
      ]
     },
     "metadata": {
      "needs_background": "light"
     },
     "output_type": "display_data"
    }
   ],
   "source": [
    "# Visualizing the loss updates with the number of epochs\n",
    "plt.plot(history.history['loss'])\n",
    "plt.plot(history.history['val_loss'])\n",
    "plt.title('Training Loss vs Epochs')\n",
    "plt.ylabel('Training Loss')\n",
    "plt.xlabel('Number of Epochs')\n",
    "plt.legend(['train', 'validation'], loc='upper left')\n",
    "plt.show()\n"
   ]
  },
  {
   "cell_type": "code",
   "execution_count": 16,
   "metadata": {},
   "outputs": [
    {
     "data": {
      "image/png": "[encoded data removed]",
      "text/plain": [
       "<Figure size 432x288 with 1 Axes>"
      ]
     },
     "metadata": {
      "needs_background": "light"
     },
     "output_type": "display_data"
    }
   ],
   "source": [
    "# Visualizing the accuracy updates with the number of epochs\n",
    "plt.plot(history.history['acc'])\n",
    "plt.plot(history.history['val_acc'])\n",
    "plt.title('Training Accuracy vs Epochs')\n",
    "plt.ylabel('Training Accuracy')\n",
    "plt.xlabel('Number of Epochs')\n",
    "plt.legend(['train', 'validation'], loc='upper left')\n",
    "plt.show()\n"
   ]
  }
 ],
 "metadata": {
  "kernelspec": {
   "display_name": "Python 3",
   "language": "python",
   "name": "python3"
  },
  "language_info": {
   "codemirror_mode": {
    "name": "ipython",
    "version": 3
   },
   "file_extension": ".py",
   "mimetype": "text/x-python",
   "name": "python",
   "nbconvert_exporter": "python",
   "pygments_lexer": "ipython3",
   "version": "3.6.7"
  }
 },
 "nbformat": 4,
 "nbformat_minor": 2
}
